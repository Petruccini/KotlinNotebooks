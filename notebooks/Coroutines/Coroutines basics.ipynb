{
 "cells": [
  {
   "cell_type": "markdown",
   "source": [
    "# Coroutines basics\n",
    "\n",
    "### Your first coroutine\n",
    "\n",
    "A coroutine is an instance of suspendable computation. It is conceptually similar to a thread, in the sense that it takes a block of code to run that works concurrently with the rest of the code. However, a coroutine is not bound to any particular thread. It may suspend its execution in one thread and resume in another one.\n",
    "\n",
    "Coroutines can be thought of as light-weight threads, but there is a number of important differences that make their real-life usage very different from threads.\n",
    "\n",
    "Run the following code to get to your first working coroutine:"
   ],
   "metadata": {
    "collapsed": false
   }
  },
  {
   "cell_type": "code",
   "execution_count": 6,
   "outputs": [
    {
     "name": "stdout",
     "output_type": "stream",
     "text": [
      "Hello\r\n",
      "World!\r\n"
     ]
    }
   ],
   "source": [
    "import kotlinx.coroutines.delay\n",
    "import kotlinx.coroutines.launch\n",
    "import kotlinx.coroutines.runBlocking\n",
    "\n",
    "fun main() = runBlocking { // this: CoroutineScope\n",
    "    launch { // launch a new coroutine and continue\n",
    "        delay(1000L) // non-blocking delay for 1 second (default time unit is ms)\n",
    "        println(\"World!\") // print after delay\n",
    "    }\n",
    "    println(\"Hello\") // main coroutine continues while a previous one is delayed\n",
    "}\n",
    "\n",
    "main()"
   ],
   "metadata": {
    "collapsed": false,
    "ExecuteTime": {
     "end_time": "2023-07-08T02:34:01.148331300Z",
     "start_time": "2023-07-08T02:34:00.041059800Z"
    }
   }
  },
  {
   "cell_type": "markdown",
   "source": [
    "You should see the following result:\n",
    "<br>\n",
    "~~~\n",
    "Hello\n",
    "World!\n",
    "~~~\n",
    "\n",
    "Let's dissect what this code does.\n",
    "\n",
    "***launch*** is a **coroutine builder**. It launches a new coroutine concurrently with the rest of the code, which continues to work independently. That's why [Hello] has been printed first.\n",
    "\n",
    "***delay*** is a special **suspending function**. It suspends the coroutine for a specific time. Suspending a coroutine does not **block** the underlying thread, but allows other coroutines to run and use the underlying thread for their code.\n",
    "\n",
    "***runBlocking*** is also a coroutine builder that bridges the non-coroutine world of a regular *fun main()* and the code with coroutines inside of *runBlocking { ... }* curly braces. This is highlighted in an IDE by *this: CoroutineScope* hint right after the *runBlocking* opening curly brace.\n",
    "\n",
    "If you remove or forget *runBlocking* in this code, you'll get an error on the **launch** call, since *launch* is declared only on the **CoroutineScope**:\n",
    "<br>\n",
    "~~~~\n",
    "Unresolved reference: launch\n",
    "~~~~\n",
    "\n",
    "The name of *runBlocking* means that the thread that runs it (in this case — the main thread) gets **blocked** for the duration of the call, until all the coroutines inside *runBlocking { ... }* complete their execution. You will often see runBlocking used like that at the very top-level of the application and quite rarely inside the real code, as threads are expensive resources and blocking them is inefficient and is often not desired."
   ],
   "metadata": {
    "collapsed": false
   }
  },
  {
   "cell_type": "markdown",
   "source": [
    "##### Structured concurrency\n",
    "\n",
    "Coroutines follow a principle of **structured concurrency** which means that new coroutines can only be launched in a specific CoroutineScope which delimits the lifetime of the coroutine. The above example shows that runBlocking establishes the corresponding scope and that is why the previous example waits until World! is printed after a second's delay and only then exits.\n",
    "\n",
    "In a real application, you will be launching a lot of coroutines. Structured concurrency ensures that they are not lost and do not leak. An outer scope cannot complete until all its children coroutines complete. Structured concurrency also ensures that any errors in the code are properly reported and are never lost."
   ],
   "metadata": {
    "collapsed": false
   }
  },
  {
   "cell_type": "markdown",
   "source": [
    "# Extract function refactoring\n",
    "\n",
    "Let's extract the block of code inside *launch { ... }* into a separate function. When you perform \"Extract function\" refactoring on this code, you get a new function with the *suspend* modifier. This is your first **suspending function**. Suspending functions can be used inside coroutines just like regular functions, but their additional feature is that they can, in turn, use other suspending functions (like *delay* in this example) to **suspend** execution of a coroutine."
   ],
   "metadata": {
    "collapsed": false
   }
  },
  {
   "cell_type": "code",
   "execution_count": 7,
   "outputs": [
    {
     "name": "stdout",
     "output_type": "stream",
     "text": [
      "Hello\r\n",
      "World!\r\n"
     ]
    }
   ],
   "source": [
    "fun main() = runBlocking { // this: CoroutineScope\n",
    "    launch { doWorld() }\n",
    "    println(\"Hello\")\n",
    "}\n",
    "\n",
    "// this is your first suspending function\n",
    "suspend fun doWorld() {\n",
    "    delay(1000L)\n",
    "    println(\"World!\")\n",
    "}\n",
    "\n",
    "main()"
   ],
   "metadata": {
    "collapsed": false,
    "ExecuteTime": {
     "end_time": "2023-07-08T02:34:02.249310Z",
     "start_time": "2023-07-08T02:34:01.144296Z"
    }
   }
  },
  {
   "cell_type": "markdown",
   "source": [
    "# Scope builder\n",
    "In addition to the coroutine scope provided by different builders, it is possible to declare your own scope using the coroutineScope builder. It creates a coroutine scope and does not complete until all launched children complete.\n",
    "\n",
    "runBlocking and coroutineScope builders may look similar because they both wait for their body and all its children to complete. The main difference is that the runBlocking method **blocks** the current thread for waiting, while coroutineScope just suspends, releasing the underlying thread for other usages. Because of that difference, runBlocking is a regular function and coroutineScope is a suspending function.\n",
    "\n",
    "You can use *coroutineScope* from any suspending function. For example, you can move the concurrent printing of [Hello] and [World] into a *suspend fun doWorld()* function:"
   ],
   "metadata": {
    "collapsed": false
   }
  },
  {
   "cell_type": "code",
   "execution_count": 8,
   "outputs": [
    {
     "name": "stdout",
     "output_type": "stream",
     "text": [
      "Hello\r\n",
      "World!\r\n"
     ]
    }
   ],
   "source": [
    "import kotlinx.coroutines.coroutineScope\n",
    "\n",
    "fun main() = runBlocking {\n",
    "    doWorld()\n",
    "}\n",
    "\n",
    "suspend fun doWorld() = coroutineScope {  // this: CoroutineScope\n",
    "    launch {\n",
    "        delay(1000L)\n",
    "        println(\"World!\")\n",
    "    }\n",
    "    println(\"Hello\")\n",
    "}\n",
    "\n",
    "main()"
   ],
   "metadata": {
    "collapsed": false,
    "ExecuteTime": {
     "end_time": "2023-07-08T02:34:03.401572900Z",
     "start_time": "2023-07-08T02:34:02.247305600Z"
    }
   }
  },
  {
   "cell_type": "code",
   "execution_count": 9,
   "outputs": [],
   "source": [],
   "metadata": {
    "collapsed": false,
    "ExecuteTime": {
     "end_time": "2023-07-08T02:34:03.403573400Z",
     "start_time": "2023-07-08T02:34:03.394479200Z"
    }
   }
  }
 ],
 "metadata": {
  "kernelspec": {
   "display_name": "Kotlin",
   "language": "kotlin",
   "name": "kotlin"
  },
  "language_info": {
   "name": "kotlin",
   "version": "1.8.20",
   "mimetype": "text/x-kotlin",
   "file_extension": ".kt",
   "pygments_lexer": "kotlin",
   "codemirror_mode": "text/x-kotlin",
   "nbconvert_exporter": ""
  },
  "ktnbPluginMetadata": {
   "isBuildProject": true
  }
 },
 "nbformat": 4,
 "nbformat_minor": 0
}
