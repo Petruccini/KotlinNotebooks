{
 "cells": [
  {
   "cell_type": "markdown",
   "source": [
    "# Welcome to the Kotlin Notebook!"
   ],
   "attachments": {},
   "metadata": {
    "datalore": {
     "node_id": "sla1F2d9SDJB3b4xKLqUyO",
     "type": "MD",
     "hide_input_from_viewers": false,
     "hide_output_from_viewers": false,
     "report_properties": {
      "rowId": "Jv96UdbhtzrJpZw9UKjCCI",
      "relativeY": 0
     }
    }
   }
  },
  {
   "cell_type": "markdown",
   "source": [
    "## Basics"
   ],
   "attachments": {},
   "metadata": {
    "datalore": {
     "node_id": "5TW6QtYTwVfnpoGajaJNdU",
     "type": "MD",
     "hide_input_from_viewers": false,
     "hide_output_from_viewers": false,
     "report_properties": {
      "rowId": "v8aSqctjAGLf4DgBusEXuR",
      "relativeY": 0
     }
    }
   }
  },
  {
   "cell_type": "markdown",
   "source": [
    "Let's start with something simple: execute a cell with a simple arithmetics and immediately see the result."
   ],
   "attachments": {},
   "metadata": {
    "datalore": {
     "node_id": "Jn4gl6NY8HnJdhhkG1Mbv4",
     "type": "MD",
     "hide_input_from_viewers": false,
     "hide_output_from_viewers": false,
     "report_properties": {
      "rowId": "czacce45mHqll6EbhEMWIR",
      "relativeY": 0
     }
    }
   }
  },
  {
   "cell_type": "code",
   "source": [
    "2 + 2"
   ],
   "execution_count": 4,
   "outputs": [
    {
     "data": {
      "text/plain": "4"
     },
     "execution_count": 4,
     "metadata": {},
     "output_type": "execute_result"
    }
   ],
   "metadata": {
    "datalore": {
     "node_id": "LnYq91tYbAZHQk0VeF7PD2",
     "type": "CODE",
     "hide_input_from_viewers": false,
     "hide_output_from_viewers": false,
     "report_properties": {
      "rowId": "zAABaVehXCDFc2DiLpcro8",
      "relativeY": 0
     }
    },
    "ExecuteTime": {
     "end_time": "2023-07-06T23:35:02.738774200Z",
     "start_time": "2023-07-06T23:35:01.567971Z"
    }
   }
  },
  {
   "cell_type": "markdown",
   "source": [
    "Execution results could be saved in variables and reused"
   ],
   "attachments": {},
   "metadata": {
    "datalore": {
     "node_id": "B9FLelhZtT0HOVyZf1Em5O",
     "type": "MD",
     "hide_input_from_viewers": false,
     "hide_output_from_viewers": false,
     "report_properties": {
      "rowId": "pa11RtGeZl2THwb9Mm14g6",
      "relativeY": 0
     }
    }
   }
  },
  {
   "cell_type": "code",
   "source": [
    "val result = 3 * 14"
   ],
   "execution_count": 5,
   "outputs": [],
   "metadata": {
    "datalore": {
     "node_id": "wlxi310ce40S2mTE6wT3vX",
     "type": "CODE",
     "hide_input_from_viewers": false,
     "hide_output_from_viewers": false,
     "report_properties": {
      "rowId": "kFRWsYUBbj0XdkqUftnb3n",
      "relativeY": 0
     }
    },
    "ExecuteTime": {
     "end_time": "2023-07-06T23:35:02.770335800Z",
     "start_time": "2023-07-06T23:35:01.662220800Z"
    }
   }
  },
  {
   "cell_type": "code",
   "source": [
    "result"
   ],
   "execution_count": 6,
   "outputs": [
    {
     "data": {
      "text/plain": "42"
     },
     "execution_count": 6,
     "metadata": {},
     "output_type": "execute_result"
    }
   ],
   "metadata": {
    "datalore": {
     "node_id": "k8VCO8nMDzO0skdHpwmELs",
     "type": "CODE",
     "hide_input_from_viewers": false,
     "hide_output_from_viewers": false,
     "report_properties": {
      "rowId": "dF3Nqjp3Fkoe64StXtSkLI",
      "relativeY": 0
     }
    },
    "ExecuteTime": {
     "end_time": "2023-07-06T23:35:02.822788600Z",
     "start_time": "2023-07-06T23:35:01.744820100Z"
    }
   }
  },
  {
   "cell_type": "code",
   "source": [
    "(Out[3] as Int) / 2"
   ],
   "execution_count": 7,
   "outputs": [
    {
     "name": "stderr",
     "output_type": "stream",
     "text": [
      "class org.jetbrains.kotlinx.jupyter.api.MimeTypedResult cannot be cast to class java.lang.Integer (org.jetbrains.kotlinx.jupyter.api.MimeTypedResult is in unnamed module of loader 'app'; java.lang.Integer is in module java.base of loader 'bootstrap')\r\n",
      "java.lang.ClassCastException: class org.jetbrains.kotlinx.jupyter.api.MimeTypedResult cannot be cast to class java.lang.Integer (org.jetbrains.kotlinx.jupyter.api.MimeTypedResult is in unnamed module of loader 'app'; java.lang.Integer is in module java.base of loader 'bootstrap')\r\n",
      "\tat Line_7_jupyter.<init>(Line_7.jupyter.kts:1)\r\n",
      "\tat java.base/jdk.internal.reflect.NativeConstructorAccessorImpl.newInstance0(Native Method)\r\n",
      "\tat java.base/jdk.internal.reflect.NativeConstructorAccessorImpl.newInstance(NativeConstructorAccessorImpl.java:77)\r\n",
      "\tat java.base/jdk.internal.reflect.DelegatingConstructorAccessorImpl.newInstance(DelegatingConstructorAccessorImpl.java:45)\r\n",
      "\tat java.base/java.lang.reflect.Constructor.newInstanceWithCaller(Constructor.java:499)\r\n",
      "\tat java.base/java.lang.reflect.Constructor.newInstance(Constructor.java:480)\r\n",
      "\tat kotlin.script.experimental.jvm.BasicJvmScriptEvaluator.evalWithConfigAndOtherScriptsResults(BasicJvmScriptEvaluator.kt:105)\r\n",
      "\tat kotlin.script.experimental.jvm.BasicJvmScriptEvaluator.invoke$suspendImpl(BasicJvmScriptEvaluator.kt:47)\r\n",
      "\tat kotlin.script.experimental.jvm.BasicJvmScriptEvaluator.invoke(BasicJvmScriptEvaluator.kt)\r\n",
      "\tat kotlin.script.experimental.jvm.BasicJvmReplEvaluator.eval(BasicJvmReplEvaluator.kt:49)\r\n",
      "\tat org.jetbrains.kotlinx.jupyter.repl.impl.InternalEvaluatorImpl$eval$resultWithDiagnostics$1.invokeSuspend(InternalEvaluatorImpl.kt:103)\r\n",
      "\tat kotlin.coroutines.jvm.internal.BaseContinuationImpl.resumeWith(ContinuationImpl.kt:33)\r\n",
      "\tat kotlinx.coroutines.DispatchedTask.run(DispatchedTask.kt:106)\r\n",
      "\tat kotlinx.coroutines.EventLoopImplBase.processNextEvent(EventLoop.common.kt:284)\r\n",
      "\tat kotlinx.coroutines.BlockingCoroutine.joinBlocking(Builders.kt:85)\r\n",
      "\tat kotlinx.coroutines.BuildersKt__BuildersKt.runBlocking(Builders.kt:59)\r\n",
      "\tat kotlinx.coroutines.BuildersKt.runBlocking(Unknown Source)\r\n",
      "\tat kotlinx.coroutines.BuildersKt__BuildersKt.runBlocking$default(Builders.kt:38)\r\n",
      "\tat kotlinx.coroutines.BuildersKt.runBlocking$default(Unknown Source)\r\n",
      "\tat org.jetbrains.kotlinx.jupyter.repl.impl.InternalEvaluatorImpl.eval(InternalEvaluatorImpl.kt:103)\r\n",
      "\tat org.jetbrains.kotlinx.jupyter.repl.impl.CellExecutorImpl$execute$1$result$1.invoke(CellExecutorImpl.kt:75)\r\n",
      "\tat org.jetbrains.kotlinx.jupyter.repl.impl.CellExecutorImpl$execute$1$result$1.invoke(CellExecutorImpl.kt:73)\r\n",
      "\tat org.jetbrains.kotlinx.jupyter.ReplForJupyterImpl.withHost(repl.kt:666)\r\n",
      "\tat org.jetbrains.kotlinx.jupyter.repl.impl.CellExecutorImpl.execute(CellExecutorImpl.kt:73)\r\n",
      "\tat org.jetbrains.kotlinx.jupyter.repl.CellExecutor$DefaultImpls.execute$default(CellExecutor.kt:15)\r\n",
      "\tat org.jetbrains.kotlinx.jupyter.ReplForJupyterImpl$evalEx$1.invoke(repl.kt:479)\r\n",
      "\tat org.jetbrains.kotlinx.jupyter.ReplForJupyterImpl$evalEx$1.invoke(repl.kt:470)\r\n",
      "\tat org.jetbrains.kotlinx.jupyter.ReplForJupyterImpl.withEvalContext(repl.kt:433)\r\n",
      "\tat org.jetbrains.kotlinx.jupyter.ReplForJupyterImpl.evalEx(repl.kt:470)\r\n",
      "\tat org.jetbrains.kotlinx.jupyter.messaging.ProtocolKt$shellMessagesHandler$2$res$1.invoke(protocol.kt:318)\r\n",
      "\tat org.jetbrains.kotlinx.jupyter.messaging.ProtocolKt$shellMessagesHandler$2$res$1.invoke(protocol.kt:312)\r\n",
      "\tat org.jetbrains.kotlinx.jupyter.JupyterExecutorImpl$runExecution$execThread$1.invoke(execution.kt:37)\r\n",
      "\tat org.jetbrains.kotlinx.jupyter.JupyterExecutorImpl$runExecution$execThread$1.invoke(execution.kt:32)\r\n",
      "\tat kotlin.concurrent.ThreadsKt$thread$thread$1.run(Thread.kt:30)\r\n"
     ]
    }
   ],
   "metadata": {
    "datalore": {
     "node_id": "r5moMXu9PzMe1wNsfH9ytg",
     "type": "CODE",
     "hide_input_from_viewers": false,
     "hide_output_from_viewers": false,
     "report_properties": {
      "rowId": "ESUJ29FwsDypozkqfJ0OKA",
      "relativeY": 0
     }
    },
    "ExecuteTime": {
     "end_time": "2023-07-06T23:35:02.854443200Z",
     "start_time": "2023-07-06T23:35:01.831463900Z"
    }
   }
  },
  {
   "cell_type": "markdown",
   "source": [
    "Variables defined in the notebook can lose their nullability if they are not actually nulls"
   ],
   "attachments": {},
   "metadata": {
    "datalore": {
     "node_id": "0wMKbTSFZQQ6Zxfsingw1E",
     "type": "MD",
     "hide_input_from_viewers": false,
     "hide_output_from_viewers": false,
     "report_properties": {
      "rowId": "ZiP2Mlf7XwfrWa8BcEkUcP",
      "relativeY": 0
     }
    }
   }
  },
  {
   "cell_type": "code",
   "source": [
    "val a1: Int = 1\n",
    "val a2: Int? = 2\n",
    "val a3: Int? = null"
   ],
   "execution_count": 8,
   "outputs": [],
   "metadata": {
    "datalore": {
     "node_id": "nkRllpBvzUzEfeM3GCcCSN",
     "type": "CODE",
     "hide_input_from_viewers": false,
     "hide_output_from_viewers": false,
     "report_properties": {
      "rowId": "TUutWdpucWZauJzwiO49AE",
      "relativeY": 0
     }
    },
    "ExecuteTime": {
     "end_time": "2023-07-06T23:35:02.928829200Z",
     "start_time": "2023-07-06T23:35:01.925828800Z"
    }
   }
  },
  {
   "cell_type": "code",
   "source": [
    "a1 + a2 // OK, a2 was converted to Int"
   ],
   "execution_count": 9,
   "outputs": [
    {
     "data": {
      "text/plain": "3"
     },
     "execution_count": 9,
     "metadata": {},
     "output_type": "execute_result"
    }
   ],
   "metadata": {
    "datalore": {
     "node_id": "15IGROfuPe9tc5el8Up8tg",
     "type": "CODE",
     "hide_input_from_viewers": false,
     "hide_output_from_viewers": false,
     "report_properties": {
      "rowId": "tPXmsAgCW2IFm5e0my6wir",
      "relativeY": 0
     }
    },
    "ExecuteTime": {
     "end_time": "2023-07-06T23:35:02.958895700Z",
     "start_time": "2023-07-06T23:35:02.089278Z"
    }
   }
  },
  {
   "cell_type": "code",
   "source": [
    "a1 + a3 // compile-time error"
   ],
   "execution_count": 10,
   "outputs": [
    {
     "name": "stderr",
     "output_type": "stream",
     "text": [
      "Line_12.jupyter.kts (1:6 - 8) Type mismatch: inferred type is Int? but Int was expected"
     ]
    }
   ],
   "metadata": {
    "datalore": {
     "node_id": "Dgwga6KPfOy1oNZZusnz8C",
     "type": "CODE",
     "hide_input_from_viewers": false,
     "hide_output_from_viewers": false,
     "report_properties": {
      "rowId": "2MT1xnpksLdK8Gq5iLtQQq",
      "relativeY": 0
     }
    },
    "ExecuteTime": {
     "start_time": "2023-07-06T23:35:02.148382500Z"
    }
   }
  },
  {
   "cell_type": "markdown",
   "source": [
    "## Rich outputs"
   ],
   "attachments": {},
   "metadata": {
    "datalore": {
     "node_id": "dxfBKFHSDnYHZbDpbbaNY7",
     "type": "MD",
     "hide_input_from_viewers": false,
     "hide_output_from_viewers": false,
     "report_properties": {
      "rowId": "s55G0rNYcssWygUEzeeruh",
      "relativeY": 0
     }
    }
   }
  },
  {
   "cell_type": "markdown",
   "source": [
    "Outputs might be not only plain text. They could also be images and HTML. HTML can contain CSS and JavaScript."
   ],
   "attachments": {},
   "metadata": {
    "datalore": {
     "node_id": "DtUMxGViP3hMqLVRXakl7w",
     "type": "MD",
     "hide_input_from_viewers": false,
     "hide_output_from_viewers": false,
     "report_properties": {
      "rowId": "BiSSIbCHpPPkU3tRfcmM7V",
      "relativeY": 0
     }
    }
   }
  },
  {
   "cell_type": "code",
   "source": [
    "HTML(\"\"\"\n",
    "    <p>Counter: <span id=\"ctr\">0</span> <button onclick=\"inc()\">Increment</button></p>\n",
    "    <script>\n",
    "      function inc() {\n",
    "        let counter = document.getElementById(\"ctr\")\n",
    "        counter.innerHTML = parseInt(counter.innerHTML) + 1;\n",
    "      }\n",
    "    </script>\n",
    "\"\"\")"
   ],
   "execution_count": 11,
   "outputs": [
    {
     "data": {
      "text/html": "\n    <p>Counter: <span id=\"ctr\">0</span> <button onclick=\"inc()\">Increment</button></p>\n    <script>\n      function inc() {\n        let counter = document.getElementById(\"ctr\")\n        counter.innerHTML = parseInt(counter.innerHTML) + 1;\n      }\n    </script>\n"
     },
     "execution_count": 11,
     "metadata": {},
     "output_type": "execute_result"
    }
   ],
   "metadata": {
    "datalore": {
     "node_id": "NprVMPuMPd3uRGcQPA5bsA",
     "type": "CODE",
     "hide_input_from_viewers": false,
     "hide_output_from_viewers": false,
     "report_properties": {
      "rowId": "CQmoVdUMkIogiXksLFXmT5",
      "relativeY": 0
     }
    },
    "ExecuteTime": {
     "end_time": "2023-07-06T23:35:03.099777600Z",
     "start_time": "2023-07-06T23:35:02.381263500Z"
    }
   }
  },
  {
   "cell_type": "markdown",
   "source": [
    "**NB!** If your outputs contain JS, notebook should be marked as trusted.\n",
    "\n",
    "![trusted-notebook](attachment:./screenshots/screenshot3.png)"
   ],
   "attachments": {
    "./screenshots/screenshot3.png": {
     "image/png": "[encoded data removed]"
    }
   },
   "metadata": {
    "datalore": {
     "node_id": "1JIr4w1ziqGZj5BcRuh71s",
     "type": "MD",
     "hide_input_from_viewers": false,
     "hide_output_from_viewers": false,
     "report_properties": {
      "rowId": "wgB5pczNIEGLRghjEOW1jL",
      "relativeY": 0
     }
    }
   }
  },
  {
   "cell_type": "markdown",
   "source": [
    "Images could be loaded by link. In this case, it won't show if the link breaks or if you lose Internet connection"
   ],
   "attachments": {},
   "metadata": {
    "datalore": {
     "node_id": "rzmfvm0oViHEWiNOXyhve5",
     "type": "MD",
     "hide_input_from_viewers": false,
     "hide_output_from_viewers": false,
     "report_properties": {
      "rowId": "gzvgUW2xeAYo9KOEFmrYcs",
      "relativeY": 0
     }
    }
   }
  },
  {
   "cell_type": "code",
   "source": [
    "%use lib-ext(0.11.0-398)"
   ],
   "execution_count": 12,
   "outputs": [],
   "metadata": {
    "datalore": {
     "node_id": "rx0D3OSNeTKFvMSAVidnes",
     "type": "CODE",
     "hide_input_from_viewers": false,
     "hide_output_from_viewers": false,
     "report_properties": {
      "rowId": "7Rfhyjq9cxpdtuZ5iHtCAB",
      "relativeY": 0
     }
    },
    "ExecuteTime": {
     "end_time": "2023-07-06T23:35:24.710291200Z",
     "start_time": "2023-07-06T23:35:02.447118700Z"
    }
   }
  },
  {
   "cell_type": "code",
   "source": [
    "Image(\"https://kotlinlang.org/docs/images/kotlin-logo.png\", embed = false).withWidth(300)"
   ],
   "execution_count": 13,
   "outputs": [
    {
     "data": {
      "text/html": "<img src=\"https://kotlinlang.org/docs/images/kotlin-logo.png\" width=\"300\"/>"
     },
     "execution_count": 13,
     "metadata": {},
     "output_type": "execute_result"
    }
   ],
   "metadata": {
    "datalore": {
     "node_id": "0qj4o0R2HhHnS2El9uXyJ9",
     "type": "CODE",
     "hide_input_from_viewers": false,
     "hide_output_from_viewers": false,
     "report_properties": {
      "rowId": "3BmQhk6zj49EvgryIpS1V0",
      "relativeY": 0
     }
    }
   }
  },
  {
   "cell_type": "markdown",
   "source": [
    "You can also embed images. In this case they will stay in the notebook forever"
   ],
   "attachments": {},
   "metadata": {
    "datalore": {
     "node_id": "dTeVoaYQGrr0wIdufaSVnc",
     "type": "MD",
     "hide_input_from_viewers": false,
     "hide_output_from_viewers": false,
     "report_properties": {
      "rowId": "LC2LLFhU9GIsiWun3mKrLb",
      "relativeY": 0
     }
    }
   }
  },
  {
   "cell_type": "code",
   "source": [
    "val kotlinMascot = Image(\"https://blog.jetbrains.com/wp-content/uploads/2023/04/DSGN-16174-Blog-post-banner-and-promo-materials-for-post-about-Kotlin-mascot_3.png\", embed = true).withWidth(400)\n",
    "kotlinMascot"
   ],
   "execution_count": 14,
   "outputs": [
    {
     "data": {
      "text/html": "<img src=\"data:image/png;base64,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\" width=\"400\"/>"
     },
     "execution_count": 14,
     "metadata": {},
     "output_type": "execute_result"
    }
   ],
   "metadata": {
    "datalore": {
     "node_id": "hvjHs6BJxzbmVnNXDAbLf5",
     "type": "CODE",
     "hide_input_from_viewers": false,
     "hide_output_from_viewers": false,
     "report_properties": {
      "rowId": "iJbdfjlVPbnMjjbwSxcyB8",
      "relativeY": 0
     }
    }
   }
  },
  {
   "cell_type": "markdown",
   "source": [
    "The cell can also have several outputs, to achieve it use `DISPLAY()` function"
   ],
   "attachments": {},
   "metadata": {
    "datalore": {
     "node_id": "dsi7Oweb5N8YSliEuSHekS",
     "type": "MD",
     "hide_input_from_viewers": false,
     "hide_output_from_viewers": false,
     "report_properties": {
      "rowId": "4caGUudPJrd7ZQvgYl4PIk",
      "relativeY": 0
     }
    }
   }
  },
  {
   "cell_type": "code",
   "source": [
    "DISPLAY(HTML(\"<h2>Kodee is back!</h2>\"))\n",
    "DISPLAY(kotlinMascot)"
   ],
   "execution_count": 15,
   "outputs": [
    {
     "data": {
      "text/html": "<h2>Kodee is back!</h2>"
     },
     "metadata": {},
     "output_type": "display_data"
    },
    {
     "data": {
      "text/html": "<img src=\"data:image/png;base64,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\" width=\"400\"/>"
     },
     "metadata": {},
     "output_type": "display_data"
    }
   ],
   "metadata": {
    "datalore": {
     "node_id": "A0ohPnvzPdOXtOuyXrVrzg",
     "type": "CODE",
     "hide_input_from_viewers": false,
     "hide_output_from_viewers": false,
     "report_properties": {
      "rowId": "DQpIkcuYwvcu3KM2wvSCgs",
      "relativeY": 0
     }
    }
   }
  },
  {
   "cell_type": "markdown",
   "source": [
    "With Kotlin Notebook, you can also render LaTeX formulae"
   ],
   "attachments": {},
   "metadata": {
    "datalore": {
     "node_id": "m9NqjITpiSwTfd3EH6DHwc",
     "type": "MD",
     "hide_input_from_viewers": false,
     "hide_output_from_viewers": false,
     "report_properties": {
      "rowId": "KMAYkfZDGWXZML8K9HDoXl",
      "relativeY": 0
     }
    }
   }
  },
  {
   "cell_type": "code",
   "source": [
    "LATEX(\"c^2 = a^2 + b^2 - 2 a b \\\\cos\\\\alpha\")"
   ],
   "execution_count": 16,
   "outputs": [
    {
     "data": {
      "text/html": "<img src=\"data:image/svg+xml;base64,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\"/>"
     },
     "execution_count": 16,
     "metadata": {},
     "output_type": "execute_result"
    }
   ],
   "metadata": {
    "datalore": {
     "node_id": "Vto0TqZRcAPSkAvVpWRg19",
     "type": "CODE",
     "hide_input_from_viewers": false,
     "hide_output_from_viewers": false,
     "report_properties": {
      "rowId": "QiOww7JjwnAdPZ7VMmYNvh",
      "relativeY": 0
     }
    }
   }
  },
  {
   "cell_type": "markdown",
   "source": [
    "You can also output BufferedImage's. They are embedded into notebook"
   ],
   "attachments": {},
   "metadata": {
    "datalore": {
     "node_id": "5bBBUlnjtTyvk0iTzAA9AY",
     "type": "MD",
     "hide_input_from_viewers": false,
     "hide_output_from_viewers": false,
     "report_properties": {
      "rowId": "RqkQp3vNp0LpbDCv7Wn7XR",
      "relativeY": 0
     }
    }
   }
  },
  {
   "cell_type": "code",
   "source": [
    "import java.awt.Color\n",
    "import java.awt.image.BufferedImage\n",
    "\n",
    "val width = 300\n",
    "val height = width\n",
    "\n",
    "val image = BufferedImage(width, height, BufferedImage.TYPE_INT_ARGB)\n",
    "\n",
    "val graphics = image.createGraphics()\n",
    "graphics.background = Color.BLACK\n",
    "graphics.clearRect(0, 0, width, height)\n",
    "graphics.setRenderingHint(\n",
    "    java.awt.RenderingHints.KEY_ANTIALIASING,\n",
    "    java.awt.RenderingHints.VALUE_ANTIALIAS_ON\n",
    ")\n",
    "graphics.color = Color.WHITE\n",
    "graphics.fillRect(width / 10, height * 8 / 10, width * 10 / 20, height / 10)\n",
    "graphics.dispose()\n",
    "\n",
    "image"
   ],
   "execution_count": 17,
   "outputs": [
    {
     "data": {
      "image/png": "[encoded data removed]",
      "text/plain": "class java.awt.image.BufferedImage: 300x300 px"
     },
     "execution_count": 17,
     "metadata": {},
     "output_type": "execute_result"
    }
   ],
   "metadata": {
    "datalore": {
     "node_id": "mesnMDp5PVngfQ0n0ZZkNm",
     "type": "CODE",
     "hide_input_from_viewers": false,
     "hide_output_from_viewers": false,
     "report_properties": {
      "rowId": "YZ0KmBADl37AOhEhI7k6lS",
      "relativeY": 0
     }
    }
   }
  },
  {
   "cell_type": "markdown",
   "source": [
    "Generally, you can display any output using `mimeResult` function.\n",
    "We're using [Jupyter approach](https://docs.jupyter.org/en/latest/reference/mimetype.html) for outputs."
   ],
   "attachments": {},
   "metadata": {
    "datalore": {
     "node_id": "gEg5qehgjdMFndmphVBHsO",
     "type": "MD",
     "hide_input_from_viewers": false,
     "hide_output_from_viewers": false,
     "report_properties": {
      "rowId": "ZAFUU17ICmB6ibE1Um3FqU",
      "relativeY": 0
     }
    }
   }
  },
  {
   "cell_type": "code",
   "source": [
    "mimeResult(\n",
    "    MimeTypes.PLAIN_TEXT to \"JetBrains logo\",\n",
    "    MimeTypes.HTML to \"<b>JetBrains</b> logo\"\n",
    ")"
   ],
   "execution_count": 18,
   "outputs": [
    {
     "data": {
      "text/plain": "JetBrains logo",
      "text/html": "<b>JetBrains</b> logo"
     },
     "execution_count": 18,
     "metadata": {},
     "output_type": "execute_result"
    }
   ],
   "metadata": {
    "datalore": {
     "node_id": "oYDUC6oDPG0yWspNBDiSH6",
     "type": "CODE",
     "hide_input_from_viewers": false,
     "hide_output_from_viewers": false,
     "report_properties": {
      "rowId": "Nt5GnjQdhGBVRjQPq1OQ7Z",
      "relativeY": 0
     }
    }
   }
  },
  {
   "cell_type": "markdown",
   "source": [
    "## Using libraries and dependencies"
   ],
   "attachments": {},
   "metadata": {
    "datalore": {
     "node_id": "93JYGmdy57dz4kijUGAhmY",
     "type": "MD",
     "hide_input_from_viewers": false,
     "hide_output_from_viewers": false,
     "report_properties": {
      "rowId": "ooSL18Q226YqFbGMSOUzAS",
      "relativeY": 0
     }
    }
   }
  },
  {
   "cell_type": "markdown",
   "source": [
    "You can always turn on source and binary dependencies of a current project.\n",
    "To do it, use the corresponding button in the toolbar."
   ],
   "attachments": {},
   "metadata": {
    "datalore": {
     "node_id": "fEtCA2FPFytqJp6cRYC5FD",
     "type": "MD",
     "hide_input_from_viewers": false,
     "hide_output_from_viewers": false,
     "report_properties": {
      "rowId": "9DGKN6Zg38eQeMy9sm84vK",
      "relativeY": 0
     }
    }
   }
  },
  {
   "cell_type": "code",
   "source": [
    "import java.io.File\n",
    "import javax.imageio.ImageIO\n",
    "\n",
    "fun showScreenshot(id: Any) {\n",
    "    DISPLAY(ImageIO.read(File(\"screenshots/screenshot$id.png\")))\n",
    "}"
   ],
   "execution_count": 19,
   "outputs": [],
   "metadata": {
    "datalore": {
     "node_id": "w9BTeVJHTRvqRw4JxZL0Pz",
     "type": "CODE",
     "hide_input_from_viewers": false,
     "hide_output_from_viewers": false,
     "report_properties": {
      "rowId": "SQiGYG1tVgqZmxH1pjdM3Z",
      "relativeY": 0
     }
    }
   }
  },
  {
   "cell_type": "code",
   "source": [
    "showScreenshot(1)"
   ],
   "execution_count": 20,
   "outputs": [
    {
     "name": "stderr",
     "output_type": "stream",
     "text": [
      "Can't read input file!\r\n",
      "javax.imageio.IIOException: Can't read input file!\r\n",
      "\tat java.desktop/javax.imageio.ImageIO.read(ImageIO.java:1310)\r\n",
      "\tat Line_22_jupyter.showScreenshot(Line_22.jupyter.kts:5)\r\n",
      "\tat Line_23_jupyter.<init>(Line_23.jupyter.kts:1)\r\n",
      "\tat java.base/jdk.internal.reflect.NativeConstructorAccessorImpl.newInstance0(Native Method)\r\n",
      "\tat java.base/jdk.internal.reflect.NativeConstructorAccessorImpl.newInstance(NativeConstructorAccessorImpl.java:77)\r\n",
      "\tat java.base/jdk.internal.reflect.DelegatingConstructorAccessorImpl.newInstance(DelegatingConstructorAccessorImpl.java:45)\r\n",
      "\tat java.base/java.lang.reflect.Constructor.newInstanceWithCaller(Constructor.java:499)\r\n",
      "\tat java.base/java.lang.reflect.Constructor.newInstance(Constructor.java:480)\r\n",
      "\tat kotlin.script.experimental.jvm.BasicJvmScriptEvaluator.evalWithConfigAndOtherScriptsResults(BasicJvmScriptEvaluator.kt:105)\r\n",
      "\tat kotlin.script.experimental.jvm.BasicJvmScriptEvaluator.invoke$suspendImpl(BasicJvmScriptEvaluator.kt:47)\r\n",
      "\tat kotlin.script.experimental.jvm.BasicJvmScriptEvaluator.invoke(BasicJvmScriptEvaluator.kt)\r\n",
      "\tat kotlin.script.experimental.jvm.BasicJvmReplEvaluator.eval(BasicJvmReplEvaluator.kt:49)\r\n",
      "\tat org.jetbrains.kotlinx.jupyter.repl.impl.InternalEvaluatorImpl$eval$resultWithDiagnostics$1.invokeSuspend(InternalEvaluatorImpl.kt:103)\r\n",
      "\tat kotlin.coroutines.jvm.internal.BaseContinuationImpl.resumeWith(ContinuationImpl.kt:33)\r\n",
      "\tat kotlinx.coroutines.DispatchedTask.run(DispatchedTask.kt:106)\r\n",
      "\tat kotlinx.coroutines.EventLoopImplBase.processNextEvent(EventLoop.common.kt:284)\r\n",
      "\tat kotlinx.coroutines.BlockingCoroutine.joinBlocking(Builders.kt:85)\r\n",
      "\tat kotlinx.coroutines.BuildersKt__BuildersKt.runBlocking(Builders.kt:59)\r\n",
      "\tat kotlinx.coroutines.BuildersKt.runBlocking(Unknown Source)\r\n",
      "\tat kotlinx.coroutines.BuildersKt__BuildersKt.runBlocking$default(Builders.kt:38)\r\n",
      "\tat kotlinx.coroutines.BuildersKt.runBlocking$default(Unknown Source)\r\n",
      "\tat org.jetbrains.kotlinx.jupyter.repl.impl.InternalEvaluatorImpl.eval(InternalEvaluatorImpl.kt:103)\r\n",
      "\tat org.jetbrains.kotlinx.jupyter.repl.impl.CellExecutorImpl$execute$1$result$1.invoke(CellExecutorImpl.kt:75)\r\n",
      "\tat org.jetbrains.kotlinx.jupyter.repl.impl.CellExecutorImpl$execute$1$result$1.invoke(CellExecutorImpl.kt:73)\r\n",
      "\tat org.jetbrains.kotlinx.jupyter.ReplForJupyterImpl.withHost(repl.kt:666)\r\n",
      "\tat org.jetbrains.kotlinx.jupyter.repl.impl.CellExecutorImpl.execute(CellExecutorImpl.kt:73)\r\n",
      "\tat org.jetbrains.kotlinx.jupyter.repl.CellExecutor$DefaultImpls.execute$default(CellExecutor.kt:15)\r\n",
      "\tat org.jetbrains.kotlinx.jupyter.ReplForJupyterImpl$evalEx$1.invoke(repl.kt:479)\r\n",
      "\tat org.jetbrains.kotlinx.jupyter.ReplForJupyterImpl$evalEx$1.invoke(repl.kt:470)\r\n",
      "\tat org.jetbrains.kotlinx.jupyter.ReplForJupyterImpl.withEvalContext(repl.kt:433)\r\n",
      "\tat org.jetbrains.kotlinx.jupyter.ReplForJupyterImpl.evalEx(repl.kt:470)\r\n",
      "\tat org.jetbrains.kotlinx.jupyter.messaging.ProtocolKt$shellMessagesHandler$2$res$1.invoke(protocol.kt:318)\r\n",
      "\tat org.jetbrains.kotlinx.jupyter.messaging.ProtocolKt$shellMessagesHandler$2$res$1.invoke(protocol.kt:312)\r\n",
      "\tat org.jetbrains.kotlinx.jupyter.JupyterExecutorImpl$runExecution$execThread$1.invoke(execution.kt:37)\r\n",
      "\tat org.jetbrains.kotlinx.jupyter.JupyterExecutorImpl$runExecution$execThread$1.invoke(execution.kt:32)\r\n",
      "\tat kotlin.concurrent.ThreadsKt$thread$thread$1.run(Thread.kt:30)\r\n"
     ]
    }
   ],
   "metadata": {
    "datalore": {
     "node_id": "qWonIHkxTyQf4qQLHrsdx7",
     "type": "CODE",
     "hide_input_from_viewers": false,
     "hide_output_from_viewers": false,
     "report_properties": {
      "rowId": "FX4edpa2OuxvSS6tUZAgZC",
      "relativeY": 0
     }
    }
   }
  },
  {
   "cell_type": "markdown",
   "source": [
    "It is also possible to set these options for the newly created notebooks"
   ],
   "attachments": {},
   "metadata": {
    "datalore": {
     "node_id": "cZ5qxIxZXBGpPE1VdWSzIo",
     "type": "MD",
     "hide_input_from_viewers": false,
     "hide_output_from_viewers": false,
     "report_properties": {
      "rowId": "6cYh28a4SYKeY5VupdLBqb",
      "relativeY": 0
     }
    }
   }
  },
  {
   "cell_type": "code",
   "source": [
    "showScreenshot(2)"
   ],
   "execution_count": 21,
   "outputs": [
    {
     "name": "stderr",
     "output_type": "stream",
     "text": [
      "Can't read input file!\r\n",
      "javax.imageio.IIOException: Can't read input file!\r\n",
      "\tat java.desktop/javax.imageio.ImageIO.read(ImageIO.java:1310)\r\n",
      "\tat Line_22_jupyter.showScreenshot(Line_22.jupyter.kts:5)\r\n",
      "\tat Line_24_jupyter.<init>(Line_24.jupyter.kts:1)\r\n",
      "\tat java.base/jdk.internal.reflect.NativeConstructorAccessorImpl.newInstance0(Native Method)\r\n",
      "\tat java.base/jdk.internal.reflect.NativeConstructorAccessorImpl.newInstance(NativeConstructorAccessorImpl.java:77)\r\n",
      "\tat java.base/jdk.internal.reflect.DelegatingConstructorAccessorImpl.newInstance(DelegatingConstructorAccessorImpl.java:45)\r\n",
      "\tat java.base/java.lang.reflect.Constructor.newInstanceWithCaller(Constructor.java:499)\r\n",
      "\tat java.base/java.lang.reflect.Constructor.newInstance(Constructor.java:480)\r\n",
      "\tat kotlin.script.experimental.jvm.BasicJvmScriptEvaluator.evalWithConfigAndOtherScriptsResults(BasicJvmScriptEvaluator.kt:105)\r\n",
      "\tat kotlin.script.experimental.jvm.BasicJvmScriptEvaluator.invoke$suspendImpl(BasicJvmScriptEvaluator.kt:47)\r\n",
      "\tat kotlin.script.experimental.jvm.BasicJvmScriptEvaluator.invoke(BasicJvmScriptEvaluator.kt)\r\n",
      "\tat kotlin.script.experimental.jvm.BasicJvmReplEvaluator.eval(BasicJvmReplEvaluator.kt:49)\r\n",
      "\tat org.jetbrains.kotlinx.jupyter.repl.impl.InternalEvaluatorImpl$eval$resultWithDiagnostics$1.invokeSuspend(InternalEvaluatorImpl.kt:103)\r\n",
      "\tat kotlin.coroutines.jvm.internal.BaseContinuationImpl.resumeWith(ContinuationImpl.kt:33)\r\n",
      "\tat kotlinx.coroutines.DispatchedTask.run(DispatchedTask.kt:106)\r\n",
      "\tat kotlinx.coroutines.EventLoopImplBase.processNextEvent(EventLoop.common.kt:284)\r\n",
      "\tat kotlinx.coroutines.BlockingCoroutine.joinBlocking(Builders.kt:85)\r\n",
      "\tat kotlinx.coroutines.BuildersKt__BuildersKt.runBlocking(Builders.kt:59)\r\n",
      "\tat kotlinx.coroutines.BuildersKt.runBlocking(Unknown Source)\r\n",
      "\tat kotlinx.coroutines.BuildersKt__BuildersKt.runBlocking$default(Builders.kt:38)\r\n",
      "\tat kotlinx.coroutines.BuildersKt.runBlocking$default(Unknown Source)\r\n",
      "\tat org.jetbrains.kotlinx.jupyter.repl.impl.InternalEvaluatorImpl.eval(InternalEvaluatorImpl.kt:103)\r\n",
      "\tat org.jetbrains.kotlinx.jupyter.repl.impl.CellExecutorImpl$execute$1$result$1.invoke(CellExecutorImpl.kt:75)\r\n",
      "\tat org.jetbrains.kotlinx.jupyter.repl.impl.CellExecutorImpl$execute$1$result$1.invoke(CellExecutorImpl.kt:73)\r\n",
      "\tat org.jetbrains.kotlinx.jupyter.ReplForJupyterImpl.withHost(repl.kt:666)\r\n",
      "\tat org.jetbrains.kotlinx.jupyter.repl.impl.CellExecutorImpl.execute(CellExecutorImpl.kt:73)\r\n",
      "\tat org.jetbrains.kotlinx.jupyter.repl.CellExecutor$DefaultImpls.execute$default(CellExecutor.kt:15)\r\n",
      "\tat org.jetbrains.kotlinx.jupyter.ReplForJupyterImpl$evalEx$1.invoke(repl.kt:479)\r\n",
      "\tat org.jetbrains.kotlinx.jupyter.ReplForJupyterImpl$evalEx$1.invoke(repl.kt:470)\r\n",
      "\tat org.jetbrains.kotlinx.jupyter.ReplForJupyterImpl.withEvalContext(repl.kt:433)\r\n",
      "\tat org.jetbrains.kotlinx.jupyter.ReplForJupyterImpl.evalEx(repl.kt:470)\r\n",
      "\tat org.jetbrains.kotlinx.jupyter.messaging.ProtocolKt$shellMessagesHandler$2$res$1.invoke(protocol.kt:318)\r\n",
      "\tat org.jetbrains.kotlinx.jupyter.messaging.ProtocolKt$shellMessagesHandler$2$res$1.invoke(protocol.kt:312)\r\n",
      "\tat org.jetbrains.kotlinx.jupyter.JupyterExecutorImpl$runExecution$execThread$1.invoke(execution.kt:37)\r\n",
      "\tat org.jetbrains.kotlinx.jupyter.JupyterExecutorImpl$runExecution$execThread$1.invoke(execution.kt:32)\r\n",
      "\tat kotlin.concurrent.ThreadsKt$thread$thread$1.run(Thread.kt:30)\r\n"
     ]
    }
   ],
   "metadata": {
    "datalore": {
     "node_id": "sNFxH93pY44OsIOtCwzFAE",
     "type": "CODE",
     "hide_input_from_viewers": false,
     "hide_output_from_viewers": false,
     "report_properties": {
      "rowId": "oPBpv0gaOWIbCiswU5uOVR",
      "relativeY": 0
     }
    }
   }
  },
  {
   "cell_type": "markdown",
   "source": [
    "Of course, you can depend on various JVM libraries even if you don't have a project in the current scope.\n",
    "The simpliest option we offer is to use predefined library descriptors, you can find which are available using `:help` command or [here](https://github.com/Kotlin/kotlin-jupyter#list-of-supported-libraries)."
   ],
   "attachments": {},
   "metadata": {
    "datalore": {
     "node_id": "XbFTn1FsEkhFW9CevoN5GN",
     "type": "MD",
     "hide_input_from_viewers": false,
     "hide_output_from_viewers": false,
     "report_properties": {
      "rowId": "0oirVGcG3b1oNLQRbEmMi2",
      "relativeY": 0
     }
    }
   }
  },
  {
   "cell_type": "code",
   "source": [
    ":help"
   ],
   "execution_count": 22,
   "outputs": [
    {
     "data": {
      "text/plain": "Kotlin Jupyter kernel.\nKernel version: 0.11.0.381\nKotlin version: 1.8.20\nJVM version: 17\n\nCommands:\n    :help - display help\n    :classpath - show current classpath\n    :vars - get visible variables values\n\nMagics:\n    %use - injects code for supported libraries: artifact resolution, default imports, initialization code, type renderers\n        Usage: %use klaxon(5.5), lets-plot\n    %trackClasspath - logs any changes of current classpath. Useful for debugging artifact resolution failures\n        Usage: %trackClasspath [on|off]\n    %trackExecution - logs pieces of code that are going to be executed. Useful for debugging of libraries support\n        Usage: %trackExecution [all|generated|off]\n    %useLatestDescriptors - use latest versions of library descriptors available. By default, bundled descriptors are used. Note that default behavior is preferred: latest descriptors versions might be not supported by current version of kernel. So if you care about stability of the notebook, avoid using this line magic\n        Usage: %useLatestDescriptors [on|off]\n    %output - output capturing settings\n        Usage: %output --max-cell-size=1000 --no-stdout --max-time=100 --max-buffer=400\n    %logLevel - set logging level\n        Usage: %logLevel [off|error|warn|info|debug]\n\nSupported libraries:\n    kravis (https://github.com/holgerbrandl/kravis) - Kotlin grammar for data visualization\n    plotly (https://github.com/mipt-npm/plotly.kt) - [beta] Plotly.kt jupyter integration for static plots.\n    exposed (https://github.com/JetBrains/Exposed) - Kotlin SQL framework\n    lets-plot-gt (https://github.com/JetBrains/lets-plot-kotlin) - Lets-Plot visualisation for GeoTools toolkit\n    deeplearning4j (https://github.com/eclipse/deeplearning4j) - Deep learning library for the JVM\n    kraphviz (https://github.com/nidi3/graphviz-java) - Graphviz wrapper for JVM\n    serialization (https://github.com/Kotlin/kotlinx.serialization) - Kotlin multi-format reflection-less serialization\n    krangl (https://github.com/holgerbrandl/krangl) - Kotlin DSL for data wrangling\n    roboquant (https://roboquant.org) - Algorithmic trading platform written in Kotlin\n    kmath (https://github.com/mipt-npm/kmath) - Experimental Kotlin algebra-based mathematical library\n    gral (https://github.com/eseifert/gral) - Java library for displaying plots\n    webtau (https://github.com/testingisdocumenting/webtau) - WebTau end-to-end testing across layers\n    deeplearning4j-cuda (https://github.com/eclipse/deeplearning4j) - Deep learning library for the JVM (CUDA support)\n    gradle-enterprise-api-kotlin (https://github.com/gabrielfeo/gradle-enterprise-api-kotlin) - A library to use the Gradle Enterprise API in Kotlin scripts or projects\n    coroutines (https://github.com/Kotlin/kotlinx.coroutines) - Asynchronous programming and reactive streams support\n    mysql (https://github.com/mysql/mysql-connector-j) - MySql JDBC Connector\n    lets-plot-dataframe (https://github.com/JetBrains/lets-plot-kotlin) - A bridge between Lets-Plot and dataframe libraries\n    multik (https://github.com/Kotlin/multik) - Multidimensional array library for Kotlin\n    reflection (https://kotlinlang.org/docs/reflection.html) - Imports for Kotlin Reflection\n    smile (https://github.com/haifengl/smile) - Statistical Machine Intelligence and Learning Engine\n    kandy-echarts (https://github.com/Kotlin/kandy) - Kotlin plotting DSL for Apache ECharts\n    spark-streaming (https://github.com/JetBrains/kotlin-spark-api) - Kotlin API for Apache Spark Streaming: scalable, high-throughput, fault-tolerant stream processing of live data streams\n    rdkit (https://www.rdkit.org/) - Open-Source Cheminformatics Software\n    combinatoricskt (https://github.com/shiguruikai/combinatoricskt) - A combinatorics library for Kotlin\n    lib-ext (https://github.com/Kotlin/kotlin-jupyter) - Extended functionality for Jupyter kernel\n    khttp (https://github.com/jkcclemens/khttp) - HTTP networking library\n    plotly-server (https://github.com/mipt-npm/plotly.kt) - [beta] Plotly.kt jupyter integration for dynamic plots.\n    londogard-nlp-toolkit (https://github.com/londogard/londogard-nlp-toolkit) - A Natural Language Processing (NLP) toolkit for Kotlin on the JVM\n    lets-plot (https://github.com/JetBrains/lets-plot-kotlin) - ggplot-like interactive visualization for Kotlin\n    openai (https://openai.com/blog/chatgpt) - OpenAI API for Jupyter Notebooks\n    fuel (https://github.com/kittinunf/fuel) - HTTP networking library\n    kalasim (https://www.kalasim.org) - Discrete event simulator\n    kaliningraph (https://github.com/breandan/kaliningraph) - Graph library with a DSL for constructing graphs and visualizing the behavior of graph algorithms\n    kandy (https://github.com/Kotlin/kandy) - Kotlin plotting DSL for Lets-Plot\n    kotlin-dl (https://github.com/Kotlin/kotlindl) - KotlinDL library which provides Keras-like API for deep learning\n    kotlin-statistics (https://github.com/thomasnield/kotlin-statistics) - Idiomatic statistical operators for Kotlin\n    jdsp (https://github.com/psambit9791/jDSP) - Java library for signal processing\n    default - Default imports: dataframe and Lets-Plot libraries\n    dataframe (https://github.com/Kotlin/dataframe) - Kotlin framework for structured data processing\n    biokotlin (https://bitbucket.org/bucklerlab/biokotlin) - BioKotlin aims to be a high-performance bioinformatics library that brings the power and speed of compiled programming languages to scripting and big data environments.\n    klaxon (https://github.com/cbeust/klaxon) - JSON parser for Kotlin\n    datetime (https://github.com/Kotlin/kotlinx-datetime) - Kotlin date/time library\n    spark (https://github.com/JetBrains/kotlin-spark-api) - Kotlin API for Apache Spark: unified analytics engine for large-scale data processing"
     },
     "execution_count": 22,
     "metadata": {},
     "output_type": "execute_result"
    }
   ],
   "metadata": {
    "datalore": {
     "node_id": "1vC7BFXsBNR1FMZxT8cOoT",
     "type": "CODE",
     "hide_input_from_viewers": false,
     "hide_output_from_viewers": false,
     "report_properties": {
      "rowId": "B3w479R4pOeY1fhHBZyUVm",
      "relativeY": 0
     }
    }
   }
  },
  {
   "cell_type": "markdown",
   "source": [
    "Let's try `kotlinx.serialization` library"
   ],
   "attachments": {},
   "metadata": {
    "datalore": {
     "node_id": "cORFpGDUCMtMamaq6Urbc5",
     "type": "MD",
     "hide_input_from_viewers": false,
     "hide_output_from_viewers": false,
     "report_properties": {
      "rowId": "FXaTl1UpI7OiPPTZPbWFj6",
      "relativeY": 0
     }
    }
   }
  },
  {
   "cell_type": "code",
   "source": [
    "%use serialization"
   ],
   "execution_count": 23,
   "outputs": [],
   "metadata": {
    "datalore": {
     "node_id": "MpzROCHZICMMeQ3rHvUVL1",
     "type": "CODE",
     "hide_input_from_viewers": false,
     "hide_output_from_viewers": false,
     "report_properties": {
      "rowId": "nFZIYWXPxyK67a5fmNNL1m",
      "relativeY": 0
     }
    }
   }
  },
  {
   "cell_type": "markdown",
   "source": [
    "It allows us to serialize and deserialize classes."
   ],
   "attachments": {},
   "metadata": {
    "datalore": {
     "node_id": "UgS3iSEs2SdZFys68nfSM6",
     "type": "MD",
     "hide_input_from_viewers": false,
     "hide_output_from_viewers": false,
     "report_properties": {
      "rowId": "vMms0sUoJiZi4AGpcQGVei",
      "relativeY": 0
     }
    }
   }
  },
  {
   "cell_type": "code",
   "source": [
    "import kotlinx.serialization.Serializable\n",
    "\n",
    "@Serializable\n",
    "class User(val firstName: String, val lastName: String)"
   ],
   "execution_count": 24,
   "outputs": [],
   "metadata": {
    "datalore": {
     "node_id": "p1Zs8F4a13d4ZTBwfkw9th",
     "type": "CODE",
     "hide_input_from_viewers": false,
     "hide_output_from_viewers": false,
     "report_properties": {
      "rowId": "x11hmnuujA8iq1hT0eraS3",
      "relativeY": 0
     }
    }
   }
  },
  {
   "cell_type": "code",
   "source": [
    "val bob = User(\"Alex\", \"Green\")"
   ],
   "execution_count": 25,
   "outputs": [],
   "metadata": {
    "datalore": {
     "node_id": "VQZeZpFZ3Y2poxQVfZ0ay6",
     "type": "CODE",
     "hide_input_from_viewers": false,
     "hide_output_from_viewers": false,
     "report_properties": {
      "rowId": "EVwxJSsA9VVQrNJsdSEt6z",
      "relativeY": 0
     }
    }
   }
  },
  {
   "cell_type": "code",
   "source": [
    "Json { prettyPrint = true }.encodeToString(bob)"
   ],
   "execution_count": 26,
   "outputs": [
    {
     "data": {
      "text/plain": "{\n    \"firstName\": \"Alex\",\n    \"lastName\": \"Green\"\n}"
     },
     "execution_count": 26,
     "metadata": {},
     "output_type": "execute_result"
    }
   ],
   "metadata": {
    "datalore": {
     "node_id": "QnAjFVyKBn7EsP83r2kJG6",
     "type": "CODE",
     "hide_input_from_viewers": false,
     "hide_output_from_viewers": false,
     "report_properties": {
      "rowId": "Zy8jFj9nhpoeFjPvqhZBWv",
      "relativeY": 0
     }
    }
   }
  },
  {
   "cell_type": "markdown",
   "source": [
    "It is possible to specify descriptors' and underlying libraries' versions, write and contribute your own descriptors and much more.\n",
    "You can read about it [here](https://github.com/Kotlin/kotlin-jupyter/blob/master/docs/libraries.md)\n",
    "\n",
    "Also, you can add dependencies for any Maven libraries you want"
   ],
   "attachments": {},
   "metadata": {
    "datalore": {
     "node_id": "UFMsI0DrI71UYcC1tNuobM",
     "type": "MD",
     "hide_input_from_viewers": false,
     "hide_output_from_viewers": false,
     "report_properties": {
      "rowId": "goHPOurUm95eESyZjhu4UQ",
      "relativeY": 0
     }
    }
   }
  },
  {
   "cell_type": "code",
   "source": [
    "USE {\n",
    "    repositories {\n",
    "        // Any additional repositories. Maven central is already included\n",
    "        // maven(\"<url>\")\n",
    "    }\n",
    "    dependencies {\n",
    "        // Here we add kandy plotting library\n",
    "        implementation(\"org.jetbrains.kotlinx:kandy-lets-plot:0.4.3\")\n",
    "    }\n",
    "\n",
    "    // Sometimes library integration are loaded transitively and you don't want them to do it.\n",
    "    discardIntegrationTypeNameIf {\n",
    "        it.startsWith(\"org.jetbrains.kotlinx.dataframe.\")\n",
    "    }\n",
    "}"
   ],
   "execution_count": 27,
   "outputs": [
    {
     "data": {
      "text/plain": ""
     },
     "metadata": {},
     "output_type": "display_data"
    },
    {
     "data": {
      "text/html": "            <div id=\"kotlin_out_0\"/>\n            <script type=\"text/javascript\">\n                            if(!window.kotlinQueues) {\n                window.kotlinQueues = {};\n            }\n            if(!window.kotlinQueues[\"kandyLetsPlot\"]) {\n                var resQueue = [];\n                window.kotlinQueues[\"kandyLetsPlot\"] = resQueue;\n                window[\"call_kandyLetsPlot\"] = function(f) {\n                    resQueue.push(f);\n                }\n            }\n            (function (){\n                var modifiers = [(function(script) {\n    script.src = \"https://cdn.jsdelivr.net/gh/JetBrains/lets-plot@v3.1.0/js-package/distr/lets-plot.min.js\"\n    script.type = \"text/javascript\";\n})];\n                var e = document.getElementById(\"kotlin_out_0\");\n                modifiers.forEach(function (gen) {\n                    var script = document.createElement(\"script\");\n                    gen(script)\n                    script.addEventListener(\"load\", function() {\n                        window[\"call_kandyLetsPlot\"] = function(f) {f();};\n                        window.kotlinQueues[\"kandyLetsPlot\"].forEach(function(f) {f();});\n                        window.kotlinQueues[\"kandyLetsPlot\"] = [];\n                    }, false);\n                    script.addEventListener(\"error\", function() {\n                        window[\"call_kandyLetsPlot\"] = function(f) {};\n                        window.kotlinQueues[\"kandyLetsPlot\"] = [];\n                        var div = document.createElement(\"div\");\n                        div.style.color = 'darkred';\n                        div.textContent = 'Error loading resource kandyLetsPlot';\n                        document.getElementById(\"kotlin_out_0\").appendChild(div);\n                    }, false);\n                    \n                    e.appendChild(script);\n                });\n            })();\n            </script>"
     },
     "metadata": {},
     "output_type": "display_data"
    }
   ],
   "metadata": {
    "datalore": {
     "node_id": "JyytPPEjz9EskV5BcxHW1V",
     "type": "CODE",
     "hide_input_from_viewers": false,
     "hide_output_from_viewers": false,
     "report_properties": {
      "rowId": "beaSJ9hSr8KBej3lFQuNoh",
      "relativeY": 0
     }
    }
   }
  },
  {
   "cell_type": "markdown",
   "source": [
    "## Renderers and other integration features\n",
    "\n",
    "Let's try to conduct an experiment: we'll throw 50 dices and count the sum of points on them.\n",
    "Then, we'll repeat this experiment some reasonable number of times and plot the distribution using kandy library we've just loaded."
   ],
   "attachments": {},
   "metadata": {
    "datalore": {
     "node_id": "poHpQfPQUREVzS8uEHfb3O",
     "type": "MD",
     "hide_input_from_viewers": false,
     "hide_output_from_viewers": false,
     "report_properties": {
      "rowId": "BBrQUceQ6kQ5kaRcHPALYK",
      "relativeY": 0
     }
    }
   }
  },
  {
   "cell_type": "code",
   "source": [
    "import kotlin.random.Random\n",
    "\n",
    "fun diceNTimesSum(n: Int): Int {\n",
    "    return (1..n).sumOf { Random.nextInt(1, 7) }\n",
    "}\n",
    "\n",
    "val experimentData = (1..100000).map { diceNTimesSum(50) }.groupBy { it }.mapValues { it.value.size }.entries.sortedBy { it.key }\n",
    "val experimentX = experimentData.map { it.key }\n",
    "val experimentY = experimentData.map { it.value }\n",
    "\n",
    "val gaussPlot = plot {\n",
    "    bars {\n",
    "        x(experimentX)\n",
    "        y(experimentY)\n",
    "    }\n",
    "}\n",
    "gaussPlot"
   ],
   "execution_count": 28,
   "outputs": [
    {
     "data": {
      "text/html": "            <script type=\"text/javascript\" data-lets-plot-script=\"library\" src=\"https://cdn.jsdelivr.net/gh/JetBrains/lets-plot@v3.1.0/js-package/distr/lets-plot.min.js\"></script>    \n               <div id=\"i8TobD\"></div>\n   <script type=\"text/javascript\" data-lets-plot-script=\"plot\">\n       var plotSpec={\n\"mapping\":{\n},\n\"data\":{\n\"x\":[120.0,123.0,125.0,128.0,129.0,130.0,131.0,132.0,133.0,134.0,135.0,136.0,137.0,138.0,139.0,140.0,141.0,142.0,143.0,144.0,145.0,146.0,147.0,148.0,149.0,150.0,151.0,152.0,153.0,154.0,155.0,156.0,157.0,158.0,159.0,160.0,161.0,162.0,163.0,164.0,165.0,166.0,167.0,168.0,169.0,170.0,171.0,172.0,173.0,174.0,175.0,176.0,177.0,178.0,179.0,180.0,181.0,182.0,183.0,184.0,185.0,186.0,187.0,188.0,189.0,190.0,191.0,192.0,193.0,194.0,195.0,196.0,197.0,198.0,199.0,200.0,201.0,202.0,203.0,204.0,205.0,206.0,207.0,208.0,209.0,210.0,211.0,212.0,213.0,214.0,215.0,216.0,217.0,218.0,219.0,220.0,221.0,222.0,224.0],\n\"y\":[1.0,1.0,1.0,1.0,1.0,5.0,5.0,8.0,9.0,7.0,12.0,9.0,24.0,28.0,33.0,46.0,57.0,89.0,109.0,117.0,125.0,175.0,223.0,260.0,350.0,394.0,486.0,537.0,643.0,760.0,854.0,981.0,1113.0,1224.0,1344.0,1550.0,1779.0,1946.0,2041.0,2185.0,2229.0,2464.0,2607.0,2816.0,2846.0,3041.0,3167.0,3164.0,3159.0,3343.0,3368.0,3264.0,3173.0,3268.0,3063.0,2986.0,2967.0,2839.0,2661.0,2515.0,2284.0,2181.0,2026.0,1976.0,1677.0,1554.0,1378.0,1205.0,1090.0,948.0,815.0,738.0,631.0,502.0,455.0,371.0,331.0,272.0,192.0,182.0,154.0,121.0,93.0,90.0,59.0,46.0,35.0,25.0,25.0,21.0,12.0,14.0,6.0,6.0,6.0,2.0,1.0,2.0,1.0]\n},\n\"kind\":\"plot\",\n\"scales\":[{\n\"aesthetic\":\"x\",\n\"limits\":[null,null]\n},{\n\"aesthetic\":\"y\",\n\"limits\":[null,null]\n}],\n\"layers\":[{\n\"mapping\":{\n\"x\":\"x\",\n\"y\":\"y\"\n},\n\"stat\":\"identity\",\n\"sampling\":\"none\",\n\"position\":\"dodge\",\n\"geom\":\"bar\",\n\"data\":{\n}\n}]\n};\n       var plotContainer = document.getElementById(\"i8TobD\");\n       LetsPlot.buildPlotFromProcessedSpecs(plotSpec, -1, -1, plotContainer);\n   </script>            \n        <svg id=bdb44af8-2673-4dac-b7d3-71ad9e1b4ca8 xmlns=\"http://www.w3.org/2000/svg\" xmlns:xlink=\"http://www.w3.org/1999/xlink\" class=\"plt-container\" width=\"600.0\" height=\"400.0\">\n  <style type=\"text/css\">\n  .plt-container {\n   font-family: Lucida Grande, sans-serif;\n   user-select: none;\n   -webkit-user-select: none;\n   -moz-user-select: none;\n   -ms-user-select: none;\n}\ntext {\n   text-rendering: optimizeLegibility;\n}\n#p4Aaf4A .plot-title {\n   fill: #474747;\n   font-family: Lucida Grande, sans-serif;\n   font-size: 16.0px;\n   font-weight: normal;\n   font-style: normal;   \n}\n#p4Aaf4A .plot-subtitle {\n   fill: #474747;\n   font-family: Lucida Grande, sans-serif;\n   font-size: 15.0px;\n   font-weight: normal;\n   font-style: normal;   \n}\n#p4Aaf4A .plot-caption {\n   fill: #474747;\n   font-family: Lucida Grande, sans-serif;\n   font-size: 13.0px;\n   font-weight: normal;\n   font-style: normal;   \n}\n#p4Aaf4A .legend-title {\n   fill: #474747;\n   font-family: Lucida Grande, sans-serif;\n   font-size: 15.0px;\n   font-weight: normal;\n   font-style: normal;   \n}\n#p4Aaf4A .legend-item {\n   fill: #474747;\n   font-family: Lucida Grande, sans-serif;\n   font-size: 13.0px;\n   font-weight: normal;\n   font-style: normal;   \n}\n#p4Aaf4A .axis-title-x {\n   fill: #474747;\n   font-family: Lucida Grande, sans-serif;\n   font-size: 15.0px;\n   font-weight: normal;\n   font-style: normal;   \n}\n#p4Aaf4A .axis-text-x {\n   fill: #474747;\n   font-family: Lucida Grande, sans-serif;\n   font-size: 13.0px;\n   font-weight: normal;\n   font-style: normal;   \n}\n#dPS8O3V .axis-tooltip-text-x {\n   fill: #ffffff;\n   font-family: Lucida Grande, sans-serif;\n   font-size: 13.0px;\n   font-weight: normal;\n   font-style: normal;   \n}\n#p4Aaf4A .axis-title-y {\n   fill: #474747;\n   font-family: Lucida Grande, sans-serif;\n   font-size: 15.0px;\n   font-weight: normal;\n   font-style: normal;   \n}\n#p4Aaf4A .axis-text-y {\n   fill: #474747;\n   font-family: Lucida Grande, sans-serif;\n   font-size: 13.0px;\n   font-weight: normal;\n   font-style: normal;   \n}\n#dPS8O3V .axis-tooltip-text-y {\n   fill: #ffffff;\n   font-family: Lucida Grande, sans-serif;\n   font-size: 13.0px;\n   font-weight: normal;\n   font-style: normal;   \n}\n#p4Aaf4A .facet-strip-text-x {\n   fill: #474747;\n   font-family: Lucida Grande, sans-serif;\n   font-size: 13.0px;\n   font-weight: normal;\n   font-style: normal;   \n}\n#p4Aaf4A .facet-strip-text-y {\n   fill: #474747;\n   font-family: Lucida Grande, sans-serif;\n   font-size: 13.0px;\n   font-weight: normal;\n   font-style: normal;   \n}\n#dPS8O3V .tooltip-text {\n   fill: #474747;\n   font-family: Lucida Grande, sans-serif;\n   font-size: 13.0px;\n   font-weight: normal;\n   font-style: normal;   \n}\n#dPS8O3V .tooltip-title {\n   fill: #474747;\n   font-family: Lucida Grande, sans-serif;\n   font-size: 13.0px;\n   font-weight: bold;\n   font-style: normal;   \n}\n#dPS8O3V .tooltip-label {\n   fill: #474747;\n   font-family: Lucida Grande, sans-serif;\n   font-size: 13.0px;\n   font-weight: bold;\n   font-style: normal;   \n}\n\n  </style>\n  <g id=\"p4Aaf4A\">\n    <rect x=\"0.0\" y=\"0.0\" height=\"400.0\" width=\"600.0\" stroke=\"rgb(71,71,71)\" stroke-opacity=\"1.0\" stroke-width=\"0.0\" fill=\"rgb(255,255,255)\" fill-opacity=\"1.0\">\n    </rect>\n    <g transform=\"translate(23.0 10.0 ) \">\n      <g transform=\"translate(42.99591213121782 344.0 ) \">\n        <line x1=\"25.861888208793857\" y1=\"-0.0\" x2=\"25.861888208793857\" y2=\"-344.0\" stroke=\"rgb(233,233,233)\" stroke-opacity=\"1.0\" stroke-width=\"1.0\">\n        </line>\n        <line x1=\"116.68502502633123\" y1=\"-0.0\" x2=\"116.68502502633123\" y2=\"-344.0\" stroke=\"rgb(233,233,233)\" stroke-opacity=\"1.0\" stroke-width=\"1.0\">\n        </line>\n        <line x1=\"207.50816184386872\" y1=\"-0.0\" x2=\"207.50816184386872\" y2=\"-344.0\" stroke=\"rgb(233,233,233)\" stroke-opacity=\"1.0\" stroke-width=\"1.0\">\n        </line>\n        <line x1=\"298.3312986614061\" y1=\"-0.0\" x2=\"298.3312986614061\" y2=\"-344.0\" stroke=\"rgb(233,233,233)\" stroke-opacity=\"1.0\" stroke-width=\"1.0\">\n        </line>\n        <line x1=\"389.15443547894347\" y1=\"-0.0\" x2=\"389.15443547894347\" y2=\"-344.0\" stroke=\"rgb(233,233,233)\" stroke-opacity=\"1.0\" stroke-width=\"1.0\">\n        </line>\n        <line x1=\"479.97757229648096\" y1=\"-0.0\" x2=\"479.97757229648096\" y2=\"-344.0\" stroke=\"rgb(233,233,233)\" stroke-opacity=\"1.0\" stroke-width=\"1.0\">\n        </line>\n        <g transform=\"translate(25.861888208793857 0.0 ) \">\n          <line stroke-width=\"1.0\" stroke=\"rgb(71,71,71)\" stroke-opacity=\"1.0\" x2=\"0.0\" y2=\"4.0\">\n          </line>\n          <g transform=\"translate(0.0 7.0 ) \">\n            <text class=\"axis-text-x\" text-anchor=\"middle\" dy=\"0.7em\">\n            120\n            </text>\n          </g>\n        </g>\n        <g transform=\"translate(116.68502502633123 0.0 ) \">\n          <line stroke-width=\"1.0\" stroke=\"rgb(71,71,71)\" stroke-opacity=\"1.0\" x2=\"0.0\" y2=\"4.0\">\n          </line>\n          <g transform=\"translate(0.0 7.0 ) \">\n            <text class=\"axis-text-x\" text-anchor=\"middle\" dy=\"0.7em\">\n            140\n            </text>\n          </g>\n        </g>\n        <g transform=\"translate(207.50816184386872 0.0 ) \">\n          <line stroke-width=\"1.0\" stroke=\"rgb(71,71,71)\" stroke-opacity=\"1.0\" x2=\"0.0\" y2=\"4.0\">\n          </line>\n          <g transform=\"translate(0.0 7.0 ) \">\n            <text class=\"axis-text-x\" text-anchor=\"middle\" dy=\"0.7em\">\n            160\n            </text>\n          </g>\n        </g>\n        <g transform=\"translate(298.3312986614061 0.0 ) \">\n          <line stroke-width=\"1.0\" stroke=\"rgb(71,71,71)\" stroke-opacity=\"1.0\" x2=\"0.0\" y2=\"4.0\">\n          </line>\n          <g transform=\"translate(0.0 7.0 ) \">\n            <text class=\"axis-text-x\" text-anchor=\"middle\" dy=\"0.7em\">\n            180\n            </text>\n          </g>\n        </g>\n        <g transform=\"translate(389.15443547894347 0.0 ) \">\n          <line stroke-width=\"1.0\" stroke=\"rgb(71,71,71)\" stroke-opacity=\"1.0\" x2=\"0.0\" y2=\"4.0\">\n          </line>\n          <g transform=\"translate(0.0 7.0 ) \">\n            <text class=\"axis-text-x\" text-anchor=\"middle\" dy=\"0.7em\">\n            200\n            </text>\n          </g>\n        </g>\n        <g transform=\"translate(479.97757229648096 0.0 ) \">\n          <line stroke-width=\"1.0\" stroke=\"rgb(71,71,71)\" stroke-opacity=\"1.0\" x2=\"0.0\" y2=\"4.0\">\n          </line>\n          <g transform=\"translate(0.0 7.0 ) \">\n            <text class=\"axis-text-x\" text-anchor=\"middle\" dy=\"0.7em\">\n            220\n            </text>\n          </g>\n        </g>\n        <line x1=\"0.0\" y1=\"0.0\" x2=\"524.0040878687822\" y2=\"0.0\" stroke-width=\"1.0\" stroke=\"rgb(71,71,71)\" stroke-opacity=\"1.0\">\n        </line>\n      </g>\n      <g transform=\"translate(42.99591213121782 0.0 ) \">\n        <line x1=\"0.0\" y1=\"295.3629679900464\" x2=\"524.0040878687822\" y2=\"295.3629679900464\" stroke=\"rgb(233,233,233)\" stroke-opacity=\"1.0\" stroke-width=\"1.0\">\n        </line>\n        <line x1=\"0.0\" y1=\"246.72593598009274\" x2=\"524.0040878687822\" y2=\"246.72593598009274\" stroke=\"rgb(233,233,233)\" stroke-opacity=\"1.0\" stroke-width=\"1.0\">\n        </line>\n        <line x1=\"0.0\" y1=\"198.0889039701391\" x2=\"524.0040878687822\" y2=\"198.0889039701391\" stroke=\"rgb(233,233,233)\" stroke-opacity=\"1.0\" stroke-width=\"1.0\">\n        </line>\n        <line x1=\"0.0\" y1=\"149.4518719601855\" x2=\"524.0040878687822\" y2=\"149.4518719601855\" stroke=\"rgb(233,233,233)\" stroke-opacity=\"1.0\" stroke-width=\"1.0\">\n        </line>\n        <line x1=\"0.0\" y1=\"100.81483995023189\" x2=\"524.0040878687822\" y2=\"100.81483995023189\" stroke=\"rgb(233,233,233)\" stroke-opacity=\"1.0\" stroke-width=\"1.0\">\n        </line>\n        <line x1=\"0.0\" y1=\"52.17780794027823\" x2=\"524.0040878687822\" y2=\"52.17780794027823\" stroke=\"rgb(233,233,233)\" stroke-opacity=\"1.0\" stroke-width=\"1.0\">\n        </line>\n        <g transform=\"translate(0.0 344.0 ) \">\n          <g transform=\"translate(-3.0 0.0 ) \">\n            <text class=\"axis-text-y\" text-anchor=\"end\" dy=\"0.35em\">\n            0\n            </text>\n          </g>\n        </g>\n        <g transform=\"translate(0.0 295.3629679900464 ) \">\n          <g transform=\"translate(-3.0 0.0 ) \">\n            <text class=\"axis-text-y\" text-anchor=\"end\" dy=\"0.35em\">\n            500\n            </text>\n          </g>\n        </g>\n        <g transform=\"translate(0.0 246.72593598009274 ) \">\n          <g transform=\"translate(-3.0 0.0 ) \">\n            <text class=\"axis-text-y\" text-anchor=\"end\" dy=\"0.35em\">\n            1,000\n            </text>\n          </g>\n        </g>\n        <g transform=\"translate(0.0 198.0889039701391 ) \">\n          <g transform=\"translate(-3.0 0.0 ) \">\n            <text class=\"axis-text-y\" text-anchor=\"end\" dy=\"0.35em\">\n            1,500\n            </text>\n          </g>\n        </g>\n        <g transform=\"translate(0.0 149.4518719601855 ) \">\n          <g transform=\"translate(-3.0 0.0 ) \">\n            <text class=\"axis-text-y\" text-anchor=\"end\" dy=\"0.35em\">\n            2,000\n            </text>\n          </g>\n        </g>\n        <g transform=\"translate(0.0 100.81483995023189 ) \">\n          <g transform=\"translate(-3.0 0.0 ) \">\n            <text class=\"axis-text-y\" text-anchor=\"end\" dy=\"0.35em\">\n            2,500\n            </text>\n          </g>\n        </g>\n        <g transform=\"translate(0.0 52.17780794027823 ) \">\n          <g transform=\"translate(-3.0 0.0 ) \">\n            <text class=\"axis-text-y\" text-anchor=\"end\" dy=\"0.35em\">\n            3,000\n            </text>\n          </g>\n        </g>\n        <g transform=\"translate(0.0 3.540775930324628 ) \">\n          <g transform=\"translate(-3.0 0.0 ) \">\n            <text class=\"axis-text-y\" text-anchor=\"end\" dy=\"0.35em\">\n            3,500\n            </text>\n          </g>\n        </g>\n      </g>\n      <g transform=\"translate(42.99591213121782 0.0 ) \" clip-path=\"url(#cfe4XkW)\" clip-bounds-jfx=\"[rect (0.0, 0.0), (524.0040878687822, 344.0)]\">\n        <defs>\n          <clipPath id=\"cfe4XkW\">\n            <rect x=\"0.0\" y=\"0.0\" width=\"524.0040878687822\" height=\"344.0\">\n            </rect>\n          </clipPath>\n        </defs>\n        <rect x=\"496.0986790815939\" y=\"343.9027259359801\" height=\"0.09727406401992766\" width=\"4.087041156789155\" stroke=\"rgb(0,0,0)\" stroke-opacity=\"0.0\" fill=\"rgb(17,142,216)\" fill-opacity=\"1.0\" stroke-width=\"1.0\">\n        </rect>\n        <rect x=\"487.0163653998401\" y=\"343.8054518719602\" height=\"0.19454812803979848\" width=\"4.087041156789269\" stroke=\"rgb(0,0,0)\" stroke-opacity=\"0.0\" fill=\"rgb(17,142,216)\" fill-opacity=\"1.0\" stroke-width=\"1.0\">\n        </rect>\n        <rect x=\"482.47520855896323\" y=\"343.9027259359801\" height=\"0.09727406401992766\" width=\"4.087041156789269\" stroke=\"rgb(0,0,0)\" stroke-opacity=\"0.0\" fill=\"rgb(17,142,216)\" fill-opacity=\"1.0\" stroke-width=\"1.0\">\n        </rect>\n        <rect x=\"477.9340517180864\" y=\"343.8054518719602\" height=\"0.19454812803979848\" width=\"4.087041156789269\" stroke=\"rgb(0,0,0)\" stroke-opacity=\"0.0\" fill=\"rgb(17,142,216)\" fill-opacity=\"1.0\" stroke-width=\"1.0\">\n        </rect>\n        <rect x=\"473.3928948772095\" y=\"343.41635561588055\" height=\"0.5836443841194523\" width=\"4.087041156789155\" stroke=\"rgb(0,0,0)\" stroke-opacity=\"0.0\" fill=\"rgb(17,142,216)\" fill-opacity=\"1.0\" stroke-width=\"1.0\">\n        </rect>\n        <rect x=\"468.8517380363327\" y=\"343.41635561588055\" height=\"0.5836443841194523\" width=\"4.087041156789155\" stroke=\"rgb(0,0,0)\" stroke-opacity=\"0.0\" fill=\"rgb(17,142,216)\" fill-opacity=\"1.0\" stroke-width=\"1.0\">\n        </rect>\n        <rect x=\"464.3105811954558\" y=\"343.41635561588055\" height=\"0.5836443841194523\" width=\"4.087041156789155\" stroke=\"rgb(0,0,0)\" stroke-opacity=\"0.0\" fill=\"rgb(17,142,216)\" fill-opacity=\"1.0\" stroke-width=\"1.0\">\n        </rect>\n        <rect x=\"459.76942435457886\" y=\"342.6381631037213\" height=\"1.361836896278703\" width=\"4.087041156789269\" stroke=\"rgb(0,0,0)\" stroke-opacity=\"0.0\" fill=\"rgb(17,142,216)\" fill-opacity=\"1.0\" stroke-width=\"1.0\">\n        </rect>\n        <rect x=\"455.228267513702\" y=\"342.8327112317611\" height=\"1.1672887682389046\" width=\"4.087041156789269\" stroke=\"rgb(0,0,0)\" stroke-opacity=\"0.0\" fill=\"rgb(17,142,216)\" fill-opacity=\"1.0\" stroke-width=\"1.0\">\n        </rect>\n        <rect x=\"450.68711067282516\" y=\"341.957244655582\" height=\"2.042755344418026\" width=\"4.087041156789269\" stroke=\"rgb(0,0,0)\" stroke-opacity=\"0.0\" fill=\"rgb(17,142,216)\" fill-opacity=\"1.0\" stroke-width=\"1.0\">\n        </rect>\n        <rect x=\"446.1459538319483\" y=\"341.5681483995023\" height=\"2.43185160049768\" width=\"4.087041156789155\" stroke=\"rgb(0,0,0)\" stroke-opacity=\"0.0\" fill=\"rgb(17,142,216)\" fill-opacity=\"1.0\" stroke-width=\"1.0\">\n        </rect>\n        <rect x=\"441.60479699107145\" y=\"341.5681483995023\" height=\"2.43185160049768\" width=\"4.087041156789155\" stroke=\"rgb(0,0,0)\" stroke-opacity=\"0.0\" fill=\"rgb(17,142,216)\" fill-opacity=\"1.0\" stroke-width=\"1.0\">\n        </rect>\n        <rect x=\"437.0636401501946\" y=\"340.59540775930327\" height=\"3.4045922406967293\" width=\"4.087041156789155\" stroke=\"rgb(0,0,0)\" stroke-opacity=\"0.0\" fill=\"rgb(17,142,216)\" fill-opacity=\"1.0\" stroke-width=\"1.0\">\n        </rect>\n        <rect x=\"432.52248330931764\" y=\"339.5253930550843\" height=\"4.474606944915706\" width=\"4.087041156789269\" stroke=\"rgb(0,0,0)\" stroke-opacity=\"0.0\" fill=\"rgb(17,142,216)\" fill-opacity=\"1.0\" stroke-width=\"1.0\">\n        </rect>\n        <rect x=\"427.9813264684408\" y=\"338.26083022282546\" height=\"5.7391697771745385\" width=\"4.087041156789269\" stroke=\"rgb(0,0,0)\" stroke-opacity=\"0.0\" fill=\"rgb(17,142,216)\" fill-opacity=\"1.0\" stroke-width=\"1.0\">\n        </rect>\n        <rect x=\"423.44016962756393\" y=\"335.24533423820833\" height=\"8.75466576179167\" width=\"4.087041156789269\" stroke=\"rgb(0,0,0)\" stroke-opacity=\"0.0\" fill=\"rgb(17,142,216)\" fill-opacity=\"1.0\" stroke-width=\"1.0\">\n        </rect>\n        <rect x=\"418.8990127866871\" y=\"334.9535120461486\" height=\"9.046487953851397\" width=\"4.087041156789155\" stroke=\"rgb(0,0,0)\" stroke-opacity=\"0.0\" fill=\"rgb(17,142,216)\" fill-opacity=\"1.0\" stroke-width=\"1.0\">\n        </rect>\n        <rect x=\"414.35785594581023\" y=\"332.2298382535912\" height=\"11.770161746408803\" width=\"4.087041156789155\" stroke=\"rgb(0,0,0)\" stroke-opacity=\"0.0\" fill=\"rgb(17,142,216)\" fill-opacity=\"1.0\" stroke-width=\"1.0\">\n        </rect>\n        <rect x=\"409.8166991049334\" y=\"329.01979414093427\" height=\"14.980205859065734\" width=\"4.087041156789155\" stroke=\"rgb(0,0,0)\" stroke-opacity=\"0.0\" fill=\"rgb(17,142,216)\" fill-opacity=\"1.0\" stroke-width=\"1.0\">\n        </rect>\n        <rect x=\"405.2755422640564\" y=\"326.29612034837686\" height=\"17.70387965162314\" width=\"4.087041156789269\" stroke=\"rgb(0,0,0)\" stroke-opacity=\"0.0\" fill=\"rgb(17,142,216)\" fill-opacity=\"1.0\" stroke-width=\"1.0\">\n        </rect>\n        <rect x=\"400.73438542317956\" y=\"325.3233797081778\" height=\"18.67662029182219\" width=\"4.087041156789269\" stroke=\"rgb(0,0,0)\" stroke-opacity=\"0.0\" fill=\"rgb(17,142,216)\" fill-opacity=\"1.0\" stroke-width=\"1.0\">\n        </rect>\n        <rect x=\"396.1932285823027\" y=\"317.54145458658525\" height=\"26.458545413414754\" width=\"4.087041156789269\" stroke=\"rgb(0,0,0)\" stroke-opacity=\"0.0\" fill=\"rgb(17,142,216)\" fill-opacity=\"1.0\" stroke-width=\"1.0\">\n        </rect>\n        <rect x=\"391.65207174142586\" y=\"311.8022848094107\" height=\"32.19771519058929\" width=\"4.087041156789155\" stroke=\"rgb(0,0,0)\" stroke-opacity=\"0.0\" fill=\"rgb(17,142,216)\" fill-opacity=\"1.0\" stroke-width=\"1.0\">\n        </rect>\n        <rect x=\"387.110914900549\" y=\"307.9113222486144\" height=\"36.0886777513856\" width=\"4.087041156789155\" stroke=\"rgb(0,0,0)\" stroke-opacity=\"0.0\" fill=\"rgb(17,142,216)\" fill-opacity=\"1.0\" stroke-width=\"1.0\">\n        </rect>\n        <rect x=\"382.56975805967215\" y=\"299.7403008709422\" height=\"44.25969912905782\" width=\"4.087041156789155\" stroke=\"rgb(0,0,0)\" stroke-opacity=\"0.0\" fill=\"rgb(17,142,216)\" fill-opacity=\"1.0\" stroke-width=\"1.0\">\n        </rect>\n        <rect x=\"378.0286012187952\" y=\"295.16841986200654\" height=\"48.831580137993456\" width=\"4.087041156789269\" stroke=\"rgb(0,0,0)\" stroke-opacity=\"0.0\" fill=\"rgb(17,142,216)\" fill-opacity=\"1.0\" stroke-width=\"1.0\">\n        </rect>\n        <rect x=\"373.48744437791834\" y=\"282.62006560343855\" height=\"61.37993439656145\" width=\"4.087041156789269\" stroke=\"rgb(0,0,0)\" stroke-opacity=\"0.0\" fill=\"rgb(17,142,216)\" fill-opacity=\"1.0\" stroke-width=\"1.0\">\n        </rect>\n        <rect x=\"368.9462875370415\" y=\"272.21174075330845\" height=\"71.78825924669155\" width=\"4.087041156789155\" stroke=\"rgb(0,0,0)\" stroke-opacity=\"0.0\" fill=\"rgb(17,142,216)\" fill-opacity=\"1.0\" stroke-width=\"1.0\">\n        </rect>\n        <rect x=\"364.40513069616463\" y=\"264.7216378237756\" height=\"79.27836217622439\" width=\"4.087041156789155\" stroke=\"rgb(0,0,0)\" stroke-opacity=\"0.0\" fill=\"rgb(17,142,216)\" fill-opacity=\"1.0\" stroke-width=\"1.0\">\n        </rect>\n        <rect x=\"359.8639738552878\" y=\"251.78418730912793\" height=\"92.21581269087207\" width=\"4.087041156789155\" stroke=\"rgb(0,0,0)\" stroke-opacity=\"0.0\" fill=\"rgb(17,142,216)\" fill-opacity=\"1.0\" stroke-width=\"1.0\">\n        </rect>\n        <rect x=\"355.3228170144108\" y=\"237.9712702183011\" height=\"106.0287297816989\" width=\"4.087041156789269\" stroke=\"rgb(0,0,0)\" stroke-opacity=\"0.0\" fill=\"rgb(17,142,216)\" fill-opacity=\"1.0\" stroke-width=\"1.0\">\n        </rect>\n        <rect x=\"350.78166017353396\" y=\"226.78475285601178\" height=\"117.21524714398822\" width=\"4.087041156789269\" stroke=\"rgb(0,0,0)\" stroke-opacity=\"0.0\" fill=\"rgb(17,142,216)\" fill-opacity=\"1.0\" stroke-width=\"1.0\">\n        </rect>\n        <rect x=\"346.2405033326571\" y=\"209.95633978056782\" height=\"134.04366021943218\" width=\"4.087041156789269\" stroke=\"rgb(0,0,0)\" stroke-opacity=\"0.0\" fill=\"rgb(17,142,216)\" fill-opacity=\"1.0\" stroke-width=\"1.0\">\n        </rect>\n        <rect x=\"341.69934649178026\" y=\"192.83610451306413\" height=\"151.16389548693587\" width=\"4.087041156789155\" stroke=\"rgb(0,0,0)\" stroke-opacity=\"0.0\" fill=\"rgb(17,142,216)\" fill-opacity=\"1.0\" stroke-width=\"1.0\">\n        </rect>\n        <rect x=\"337.1581896509034\" y=\"180.87139463861556\" height=\"163.12860536138444\" width=\"4.087041156789155\" stroke=\"rgb(0,0,0)\" stroke-opacity=\"0.0\" fill=\"rgb(17,142,216)\" fill-opacity=\"1.0\" stroke-width=\"1.0\">\n        </rect>\n        <rect x=\"332.61703281002656\" y=\"151.78644949666327\" height=\"192.21355050333673\" width=\"4.087041156789155\" stroke=\"rgb(0,0,0)\" stroke-opacity=\"0.0\" fill=\"rgb(17,142,216)\" fill-opacity=\"1.0\" stroke-width=\"1.0\">\n        </rect>\n        <rect x=\"328.0758759691496\" y=\"146.9227462956679\" height=\"197.0772537043321\" width=\"4.087041156789269\" stroke=\"rgb(0,0,0)\" stroke-opacity=\"0.0\" fill=\"rgb(17,142,216)\" fill-opacity=\"1.0\" stroke-width=\"1.0\">\n        </rect>\n        <rect x=\"323.53471912827274\" y=\"131.8452663725823\" height=\"212.1547336274177\" width=\"4.087041156789269\" stroke=\"rgb(0,0,0)\" stroke-opacity=\"0.0\" fill=\"rgb(17,142,216)\" fill-opacity=\"1.0\" stroke-width=\"1.0\">\n        </rect>\n        <rect x=\"318.9935622873959\" y=\"121.82603777853186\" height=\"222.17396222146814\" width=\"4.087041156789269\" stroke=\"rgb(0,0,0)\" stroke-opacity=\"0.0\" fill=\"rgb(17,142,216)\" fill-opacity=\"1.0\" stroke-width=\"1.0\">\n        </rect>\n        <rect x=\"314.45240544651904\" y=\"99.35572898993325\" height=\"244.64427101006675\" width=\"4.087041156789155\" stroke=\"rgb(0,0,0)\" stroke-opacity=\"0.0\" fill=\"rgb(17,142,216)\" fill-opacity=\"1.0\" stroke-width=\"1.0\">\n        </rect>\n        <rect x=\"309.9112486056422\" y=\"85.15371564302683\" height=\"258.8462843569732\" width=\"4.087041156789155\" stroke=\"rgb(0,0,0)\" stroke-opacity=\"0.0\" fill=\"rgb(17,142,216)\" fill-opacity=\"1.0\" stroke-width=\"1.0\">\n        </rect>\n        <rect x=\"305.37009176476533\" y=\"67.83893224748334\" height=\"276.16106775251666\" width=\"4.087041156789155\" stroke=\"rgb(0,0,0)\" stroke-opacity=\"0.0\" fill=\"rgb(17,142,216)\" fill-opacity=\"1.0\" stroke-width=\"1.0\">\n        </rect>\n        <rect x=\"300.82893492388837\" y=\"55.387852052935216\" height=\"288.6121479470648\" width=\"4.087041156789269\" stroke=\"rgb(0,0,0)\" stroke-opacity=\"0.0\" fill=\"rgb(17,142,216)\" fill-opacity=\"1.0\" stroke-width=\"1.0\">\n        </rect>\n        <rect x=\"296.2877780830115\" y=\"53.53964483655693\" height=\"290.46035516344307\" width=\"4.087041156789269\" stroke=\"rgb(0,0,0)\" stroke-opacity=\"0.0\" fill=\"rgb(17,142,216)\" fill-opacity=\"1.0\" stroke-width=\"1.0\">\n        </rect>\n        <rect x=\"291.74662124213467\" y=\"46.04954190702409\" height=\"297.9504580929759\" width=\"4.087041156789269\" stroke=\"rgb(0,0,0)\" stroke-opacity=\"0.0\" fill=\"rgb(17,142,216)\" fill-opacity=\"1.0\" stroke-width=\"1.0\">\n        </rect>\n        <rect x=\"287.2054644012578\" y=\"26.108358782943128\" height=\"317.8916412170569\" width=\"4.087041156789155\" stroke=\"rgb(0,0,0)\" stroke-opacity=\"0.0\" fill=\"rgb(17,142,216)\" fill-opacity=\"1.0\" stroke-width=\"1.0\">\n        </rect>\n        <rect x=\"282.66430756038096\" y=\"35.34939486483432\" height=\"308.6506051351657\" width=\"4.087041156789155\" stroke=\"rgb(0,0,0)\" stroke-opacity=\"0.0\" fill=\"rgb(17,142,216)\" fill-opacity=\"1.0\" stroke-width=\"1.0\">\n        </rect>\n        <rect x=\"278.1231507195041\" y=\"26.497455039022725\" height=\"317.5025449609773\" width=\"4.087041156789155\" stroke=\"rgb(0,0,0)\" stroke-opacity=\"0.0\" fill=\"rgb(17,142,216)\" fill-opacity=\"1.0\" stroke-width=\"1.0\">\n        </rect>\n        <rect x=\"273.58199387862715\" y=\"16.380952380952408\" height=\"327.6190476190476\" width=\"4.087041156789269\" stroke=\"rgb(0,0,0)\" stroke-opacity=\"0.0\" fill=\"rgb(17,142,216)\" fill-opacity=\"1.0\" stroke-width=\"1.0\">\n        </rect>\n        <rect x=\"269.0408370377503\" y=\"18.812803981450088\" height=\"325.1871960185499\" width=\"4.087041156789269\" stroke=\"rgb(0,0,0)\" stroke-opacity=\"0.0\" fill=\"rgb(17,142,216)\" fill-opacity=\"1.0\" stroke-width=\"1.0\">\n        </rect>\n        <rect x=\"264.49968019687344\" y=\"36.71123176111297\" height=\"307.28876823888703\" width=\"4.087041156789269\" stroke=\"rgb(0,0,0)\" stroke-opacity=\"0.0\" fill=\"rgb(17,142,216)\" fill-opacity=\"1.0\" stroke-width=\"1.0\">\n        </rect>\n        <rect x=\"259.9585233559966\" y=\"36.224861441013445\" height=\"307.77513855898655\" width=\"4.087041156789155\" stroke=\"rgb(0,0,0)\" stroke-opacity=\"0.0\" fill=\"rgb(17,142,216)\" fill-opacity=\"1.0\" stroke-width=\"1.0\">\n        </rect>\n        <rect x=\"255.41736651511974\" y=\"35.93303924895372\" height=\"308.0669607510463\" width=\"4.087041156789155\" stroke=\"rgb(0,0,0)\" stroke-opacity=\"0.0\" fill=\"rgb(17,142,216)\" fill-opacity=\"1.0\" stroke-width=\"1.0\">\n        </rect>\n        <rect x=\"250.8762096742429\" y=\"48.18957131546205\" height=\"295.81042868453795\" width=\"4.087041156789155\" stroke=\"rgb(0,0,0)\" stroke-opacity=\"0.0\" fill=\"rgb(17,142,216)\" fill-opacity=\"1.0\" stroke-width=\"1.0\">\n        </rect>\n        <rect x=\"246.33505283336592\" y=\"67.15801379934396\" height=\"276.84198620065604\" width=\"4.087041156789269\" stroke=\"rgb(0,0,0)\" stroke-opacity=\"0.0\" fill=\"rgb(17,142,216)\" fill-opacity=\"1.0\" stroke-width=\"1.0\">\n        </rect>\n        <rect x=\"241.79389599248907\" y=\"70.07623571994117\" height=\"273.92376428005883\" width=\"4.087041156789269\" stroke=\"rgb(0,0,0)\" stroke-opacity=\"0.0\" fill=\"rgb(17,142,216)\" fill-opacity=\"1.0\" stroke-width=\"1.0\">\n        </rect>\n        <rect x=\"237.25273915161222\" y=\"90.40651510010181\" height=\"253.5934848998982\" width=\"4.087041156789269\" stroke=\"rgb(0,0,0)\" stroke-opacity=\"0.0\" fill=\"rgb(17,142,216)\" fill-opacity=\"1.0\" stroke-width=\"1.0\">\n        </rect>\n        <rect x=\"232.71158231073537\" y=\"104.31670625494854\" height=\"239.68329374505146\" width=\"4.087041156789155\" stroke=\"rgb(0,0,0)\" stroke-opacity=\"0.0\" fill=\"rgb(17,142,216)\" fill-opacity=\"1.0\" stroke-width=\"1.0\">\n        </rect>\n        <rect x=\"228.17042546985851\" y=\"127.17611129962674\" height=\"216.82388870037326\" width=\"4.087041156789155\" stroke=\"rgb(0,0,0)\" stroke-opacity=\"0.0\" fill=\"rgb(17,142,216)\" fill-opacity=\"1.0\" stroke-width=\"1.0\">\n        </rect>\n        <rect x=\"223.62926862898166\" y=\"131.45617011650265\" height=\"212.54382988349735\" width=\"4.087041156789155\" stroke=\"rgb(0,0,0)\" stroke-opacity=\"0.0\" fill=\"rgb(17,142,216)\" fill-opacity=\"1.0\" stroke-width=\"1.0\">\n        </rect>\n        <rect x=\"219.0881117881047\" y=\"145.4636353353693\" height=\"198.5363646646307\" width=\"4.087041156789269\" stroke=\"rgb(0,0,0)\" stroke-opacity=\"0.0\" fill=\"rgb(17,142,216)\" fill-opacity=\"1.0\" stroke-width=\"1.0\">\n        </rect>\n        <rect x=\"214.54695494722785\" y=\"154.7046714172605\" height=\"189.2953285827395\" width=\"4.087041156789269\" stroke=\"rgb(0,0,0)\" stroke-opacity=\"0.0\" fill=\"rgb(17,142,216)\" fill-opacity=\"1.0\" stroke-width=\"1.0\">\n        </rect>\n        <rect x=\"210.005798106351\" y=\"170.949440108585\" height=\"173.050559891415\" width=\"4.087041156789155\" stroke=\"rgb(0,0,0)\" stroke-opacity=\"0.0\" fill=\"rgb(17,142,216)\" fill-opacity=\"1.0\" stroke-width=\"1.0\">\n        </rect>\n        <rect x=\"205.46464126547414\" y=\"193.22520076914375\" height=\"150.77479923085625\" width=\"4.087041156789155\" stroke=\"rgb(0,0,0)\" stroke-opacity=\"0.0\" fill=\"rgb(17,142,216)\" fill-opacity=\"1.0\" stroke-width=\"1.0\">\n        </rect>\n        <rect x=\"200.9234844245973\" y=\"213.26365795724465\" height=\"130.73634204275535\" width=\"4.087041156789155\" stroke=\"rgb(0,0,0)\" stroke-opacity=\"0.0\" fill=\"rgb(17,142,216)\" fill-opacity=\"1.0\" stroke-width=\"1.0\">\n        </rect>\n        <rect x=\"196.38232758372033\" y=\"224.93654563963352\" height=\"119.06345436036648\" width=\"4.087041156789269\" stroke=\"rgb(0,0,0)\" stroke-opacity=\"0.0\" fill=\"rgb(17,142,216)\" fill-opacity=\"1.0\" stroke-width=\"1.0\">\n        </rect>\n        <rect x=\"191.84117074284347\" y=\"235.73396674584325\" height=\"108.26603325415675\" width=\"4.087041156789269\" stroke=\"rgb(0,0,0)\" stroke-opacity=\"0.0\" fill=\"rgb(17,142,216)\" fill-opacity=\"1.0\" stroke-width=\"1.0\">\n        </rect>\n        <rect x=\"187.30001390196662\" y=\"248.57414319647097\" height=\"95.42585680352903\" width=\"4.087041156789269\" stroke=\"rgb(0,0,0)\" stroke-opacity=\"0.0\" fill=\"rgb(17,142,216)\" fill-opacity=\"1.0\" stroke-width=\"1.0\">\n        </rect>\n        <rect x=\"182.75885706108977\" y=\"260.9279493269992\" height=\"83.07205067300077\" width=\"4.087041156789155\" stroke=\"rgb(0,0,0)\" stroke-opacity=\"0.0\" fill=\"rgb(17,142,216)\" fill-opacity=\"1.0\" stroke-width=\"1.0\">\n        </rect>\n        <rect x=\"178.21770022021292\" y=\"270.0717113448705\" height=\"73.9282886551295\" width=\"4.087041156789155\" stroke=\"rgb(0,0,0)\" stroke-opacity=\"0.0\" fill=\"rgb(17,142,216)\" fill-opacity=\"1.0\" stroke-width=\"1.0\">\n        </rect>\n        <rect x=\"173.67654337933607\" y=\"281.45277683519964\" height=\"62.54722316480036\" width=\"4.087041156789155\" stroke=\"rgb(0,0,0)\" stroke-opacity=\"0.0\" fill=\"rgb(17,142,216)\" fill-opacity=\"1.0\" stroke-width=\"1.0\">\n        </rect>\n        <rect x=\"169.1353865384591\" y=\"291.7638276213098\" height=\"52.236172378690185\" width=\"4.087041156789269\" stroke=\"rgb(0,0,0)\" stroke-opacity=\"0.0\" fill=\"rgb(17,142,216)\" fill-opacity=\"1.0\" stroke-width=\"1.0\">\n        </rect>\n        <rect x=\"164.59422969758225\" y=\"296.72480488632505\" height=\"47.275195113674954\" width=\"4.087041156789269\" stroke=\"rgb(0,0,0)\" stroke-opacity=\"0.0\" fill=\"rgb(17,142,216)\" fill-opacity=\"1.0\" stroke-width=\"1.0\">\n        </rect>\n        <rect x=\"160.0530728567054\" y=\"305.6740187761566\" height=\"38.32598122384343\" width=\"4.087041156789269\" stroke=\"rgb(0,0,0)\" stroke-opacity=\"0.0\" fill=\"rgb(17,142,216)\" fill-opacity=\"1.0\" stroke-width=\"1.0\">\n        </rect>\n        <rect x=\"155.51191601582855\" y=\"309.9540775930325\" height=\"34.04592240696752\" width=\"4.087041156789155\" stroke=\"rgb(0,0,0)\" stroke-opacity=\"0.0\" fill=\"rgb(17,142,216)\" fill-opacity=\"1.0\" stroke-width=\"1.0\">\n        </rect>\n        <rect x=\"150.9707591749517\" y=\"318.7087433548241\" height=\"25.291256645175906\" width=\"4.087041156789155\" stroke=\"rgb(0,0,0)\" stroke-opacity=\"0.0\" fill=\"rgb(17,142,216)\" fill-opacity=\"1.0\" stroke-width=\"1.0\">\n        </rect>\n        <rect x=\"146.42960233407484\" y=\"322.3078837235607\" height=\"21.69211627643932\" width=\"4.087041156789155\" stroke=\"rgb(0,0,0)\" stroke-opacity=\"0.0\" fill=\"rgb(17,142,216)\" fill-opacity=\"1.0\" stroke-width=\"1.0\">\n        </rect>\n        <rect x=\"141.88844549319788\" y=\"326.97703879651624\" height=\"17.02296120348376\" width=\"4.087041156789269\" stroke=\"rgb(0,0,0)\" stroke-opacity=\"0.0\" fill=\"rgb(17,142,216)\" fill-opacity=\"1.0\" stroke-width=\"1.0\">\n        </rect>\n        <rect x=\"137.34728865232103\" y=\"331.8407419975116\" height=\"12.1592580024884\" width=\"4.087041156789269\" stroke=\"rgb(0,0,0)\" stroke-opacity=\"0.0\" fill=\"rgb(17,142,216)\" fill-opacity=\"1.0\" stroke-width=\"1.0\">\n        </rect>\n        <rect x=\"132.80613181144417\" y=\"332.61893450967085\" height=\"11.38106549032915\" width=\"4.087041156789269\" stroke=\"rgb(0,0,0)\" stroke-opacity=\"0.0\" fill=\"rgb(17,142,216)\" fill-opacity=\"1.0\" stroke-width=\"1.0\">\n        </rect>\n        <rect x=\"128.26497497056732\" y=\"333.3971270218301\" height=\"10.602872978169898\" width=\"4.087041156789155\" stroke=\"rgb(0,0,0)\" stroke-opacity=\"0.0\" fill=\"rgb(17,142,216)\" fill-opacity=\"1.0\" stroke-width=\"1.0\">\n        </rect>\n        <rect x=\"123.72381812969047\" y=\"335.34260830222826\" height=\"8.657391697771743\" width=\"4.087041156789155\" stroke=\"rgb(0,0,0)\" stroke-opacity=\"0.0\" fill=\"rgb(17,142,216)\" fill-opacity=\"1.0\" stroke-width=\"1.0\">\n        </rect>\n        <rect x=\"119.18266128881362\" y=\"338.45537835086526\" height=\"5.54462164913474\" width=\"4.087041156789155\" stroke=\"rgb(0,0,0)\" stroke-opacity=\"0.0\" fill=\"rgb(17,142,216)\" fill-opacity=\"1.0\" stroke-width=\"1.0\">\n        </rect>\n        <rect x=\"114.64150444793665\" y=\"339.5253930550843\" height=\"4.474606944915706\" width=\"4.087041156789269\" stroke=\"rgb(0,0,0)\" stroke-opacity=\"0.0\" fill=\"rgb(17,142,216)\" fill-opacity=\"1.0\" stroke-width=\"1.0\">\n        </rect>\n        <rect x=\"110.1003476070598\" y=\"340.78995588734307\" height=\"3.210044112656931\" width=\"4.087041156789269\" stroke=\"rgb(0,0,0)\" stroke-opacity=\"0.0\" fill=\"rgb(17,142,216)\" fill-opacity=\"1.0\" stroke-width=\"1.0\">\n        </rect>\n        <rect x=\"105.55919076618295\" y=\"341.2763262074426\" height=\"2.723673792557406\" width=\"4.087041156789269\" stroke=\"rgb(0,0,0)\" stroke-opacity=\"0.0\" fill=\"rgb(17,142,216)\" fill-opacity=\"1.0\" stroke-width=\"1.0\">\n        </rect>\n        <rect x=\"101.0180339253061\" y=\"341.66542246352225\" height=\"2.3345775364777523\" width=\"4.087041156789155\" stroke=\"rgb(0,0,0)\" stroke-opacity=\"0.0\" fill=\"rgb(17,142,216)\" fill-opacity=\"1.0\" stroke-width=\"1.0\">\n        </rect>\n        <rect x=\"96.47687708442925\" y=\"343.1245334238208\" height=\"0.8754665761791784\" width=\"4.087041156789155\" stroke=\"rgb(0,0,0)\" stroke-opacity=\"0.0\" fill=\"rgb(17,142,216)\" fill-opacity=\"1.0\" stroke-width=\"1.0\">\n        </rect>\n        <rect x=\"91.9357202435524\" y=\"342.8327112317611\" height=\"1.1672887682389046\" width=\"4.087041156789155\" stroke=\"rgb(0,0,0)\" stroke-opacity=\"0.0\" fill=\"rgb(17,142,216)\" fill-opacity=\"1.0\" stroke-width=\"1.0\">\n        </rect>\n        <rect x=\"87.39456340267543\" y=\"343.3190815518607\" height=\"0.6809184481393231\" width=\"4.087041156789269\" stroke=\"rgb(0,0,0)\" stroke-opacity=\"0.0\" fill=\"rgb(17,142,216)\" fill-opacity=\"1.0\" stroke-width=\"1.0\">\n        </rect>\n        <rect x=\"82.85340656179858\" y=\"343.1245334238208\" height=\"0.8754665761791784\" width=\"4.087041156789269\" stroke=\"rgb(0,0,0)\" stroke-opacity=\"0.0\" fill=\"rgb(17,142,216)\" fill-opacity=\"1.0\" stroke-width=\"1.0\">\n        </rect>\n        <rect x=\"78.31224972092173\" y=\"343.22180748784075\" height=\"0.7781925121592508\" width=\"4.087041156789155\" stroke=\"rgb(0,0,0)\" stroke-opacity=\"0.0\" fill=\"rgb(17,142,216)\" fill-opacity=\"1.0\" stroke-width=\"1.0\">\n        </rect>\n        <rect x=\"73.77109288004488\" y=\"343.5136296799005\" height=\"0.48637032009952463\" width=\"4.087041156789155\" stroke=\"rgb(0,0,0)\" stroke-opacity=\"0.0\" fill=\"rgb(17,142,216)\" fill-opacity=\"1.0\" stroke-width=\"1.0\">\n        </rect>\n        <rect x=\"69.22993603916802\" y=\"343.5136296799005\" height=\"0.48637032009952463\" width=\"4.087041156789155\" stroke=\"rgb(0,0,0)\" stroke-opacity=\"0.0\" fill=\"rgb(17,142,216)\" fill-opacity=\"1.0\" stroke-width=\"1.0\">\n        </rect>\n        <rect x=\"64.68877919829106\" y=\"343.9027259359801\" height=\"0.09727406401992766\" width=\"4.087041156789269\" stroke=\"rgb(0,0,0)\" stroke-opacity=\"0.0\" fill=\"rgb(17,142,216)\" fill-opacity=\"1.0\" stroke-width=\"1.0\">\n        </rect>\n        <rect x=\"60.14762235741421\" y=\"343.9027259359801\" height=\"0.09727406401992766\" width=\"4.087041156789155\" stroke=\"rgb(0,0,0)\" stroke-opacity=\"0.0\" fill=\"rgb(17,142,216)\" fill-opacity=\"1.0\" stroke-width=\"1.0\">\n        </rect>\n        <rect x=\"46.52415183478354\" y=\"343.9027259359801\" height=\"0.09727406401992766\" width=\"4.087041156789269\" stroke=\"rgb(0,0,0)\" stroke-opacity=\"0.0\" fill=\"rgb(17,142,216)\" fill-opacity=\"1.0\" stroke-width=\"1.0\">\n        </rect>\n        <rect x=\"37.441838153029835\" y=\"343.9027259359801\" height=\"0.09727406401992766\" width=\"4.087041156789155\" stroke=\"rgb(0,0,0)\" stroke-opacity=\"0.0\" fill=\"rgb(17,142,216)\" fill-opacity=\"1.0\" stroke-width=\"1.0\">\n        </rect>\n        <rect x=\"23.818367630399166\" y=\"343.9027259359801\" height=\"0.09727406401992766\" width=\"4.087041156789269\" stroke=\"rgb(0,0,0)\" stroke-opacity=\"0.0\" fill=\"rgb(17,142,216)\" fill-opacity=\"1.0\" stroke-width=\"1.0\">\n        </rect>\n      </g>\n    </g>\n    <g transform=\"translate(14.5 182.0 ) rotate(-90.0 ) \">\n      <text class=\"axis-title-y\" y=\"0.0\" text-anchor=\"middle\">\n      y\n      </text>\n    </g>\n    <g transform=\"translate(327.99795606560895 391.5 ) \">\n      <text class=\"axis-title-x\" y=\"0.0\" text-anchor=\"middle\">\n      x\n      </text>\n    </g>\n  </g>\n  <g id=\"dPS8O3V\">\n  </g>\n</svg>\n        <script>document.getElementById(\"bdb44af8-2673-4dac-b7d3-71ad9e1b4ca8\").style.display = \"none\";</script>",
      "application/plot+json": {
       "output_type": "lets_plot_spec",
       "output": {
        "mapping": {},
        "data": {
         "x": [
          120.0,
          123.0,
          125.0,
          128.0,
          129.0,
          130.0,
          131.0,
          132.0,
          133.0,
          134.0,
          135.0,
          136.0,
          137.0,
          138.0,
          139.0,
          140.0,
          141.0,
          142.0,
          143.0,
          144.0,
          145.0,
          146.0,
          147.0,
          148.0,
          149.0,
          150.0,
          151.0,
          152.0,
          153.0,
          154.0,
          155.0,
          156.0,
          157.0,
          158.0,
          159.0,
          160.0,
          161.0,
          162.0,
          163.0,
          164.0,
          165.0,
          166.0,
          167.0,
          168.0,
          169.0,
          170.0,
          171.0,
          172.0,
          173.0,
          174.0,
          175.0,
          176.0,
          177.0,
          178.0,
          179.0,
          180.0,
          181.0,
          182.0,
          183.0,
          184.0,
          185.0,
          186.0,
          187.0,
          188.0,
          189.0,
          190.0,
          191.0,
          192.0,
          193.0,
          194.0,
          195.0,
          196.0,
          197.0,
          198.0,
          199.0,
          200.0,
          201.0,
          202.0,
          203.0,
          204.0,
          205.0,
          206.0,
          207.0,
          208.0,
          209.0,
          210.0,
          211.0,
          212.0,
          213.0,
          214.0,
          215.0,
          216.0,
          217.0,
          218.0,
          219.0,
          220.0,
          221.0,
          222.0,
          224.0
         ],
         "y": [
          1.0,
          1.0,
          1.0,
          1.0,
          1.0,
          5.0,
          5.0,
          8.0,
          9.0,
          7.0,
          12.0,
          9.0,
          24.0,
          28.0,
          33.0,
          46.0,
          57.0,
          89.0,
          109.0,
          117.0,
          125.0,
          175.0,
          223.0,
          260.0,
          350.0,
          394.0,
          486.0,
          537.0,
          643.0,
          760.0,
          854.0,
          981.0,
          1113.0,
          1224.0,
          1344.0,
          1550.0,
          1779.0,
          1946.0,
          2041.0,
          2185.0,
          2229.0,
          2464.0,
          2607.0,
          2816.0,
          2846.0,
          3041.0,
          3167.0,
          3164.0,
          3159.0,
          3343.0,
          3368.0,
          3264.0,
          3173.0,
          3268.0,
          3063.0,
          2986.0,
          2967.0,
          2839.0,
          2661.0,
          2515.0,
          2284.0,
          2181.0,
          2026.0,
          1976.0,
          1677.0,
          1554.0,
          1378.0,
          1205.0,
          1090.0,
          948.0,
          815.0,
          738.0,
          631.0,
          502.0,
          455.0,
          371.0,
          331.0,
          272.0,
          192.0,
          182.0,
          154.0,
          121.0,
          93.0,
          90.0,
          59.0,
          46.0,
          35.0,
          25.0,
          25.0,
          21.0,
          12.0,
          14.0,
          6.0,
          6.0,
          6.0,
          2.0,
          1.0,
          2.0,
          1.0
         ]
        },
        "kind": "plot",
        "scales": [
         {
          "aesthetic": "x",
          "limits": [
           null,
           null
          ]
         },
         {
          "aesthetic": "y",
          "limits": [
           null,
           null
          ]
         }
        ],
        "layers": [
         {
          "mapping": {
           "x": "x",
           "y": "y"
          },
          "stat": "identity",
          "sampling": "none",
          "position": "dodge",
          "geom": "bar"
         }
        ]
       },
       "apply_color_scheme": true,
       "swing_enabled": true
      }
     },
     "execution_count": 28,
     "metadata": {},
     "output_type": "execute_result"
    }
   ],
   "metadata": {
    "datalore": {
     "node_id": "6HzzDba9LtS1ZJ8gpnrtSs",
     "type": "CODE",
     "hide_input_from_viewers": false,
     "hide_output_from_viewers": false,
     "report_properties": {
      "rowId": "LVjL4EgT4OOjmTaleOWm2u",
      "relativeY": 0
     }
    }
   }
  },
  {
   "cell_type": "code",
   "source": [
    "gaussPlot::class"
   ],
   "execution_count": 29,
   "outputs": [
    {
     "data": {
      "text/plain": "class org.jetbrains.kotlinx.kandy.ir.Plot"
     },
     "execution_count": 29,
     "metadata": {},
     "output_type": "execute_result"
    }
   ],
   "metadata": {
    "datalore": {
     "node_id": "9YkZyIORN598YqB95B0AbE",
     "type": "CODE",
     "hide_input_from_viewers": false,
     "hide_output_from_viewers": false,
     "report_properties": {
      "rowId": "jD3XrcFK3HhFTRqqZWPEw2",
      "relativeY": 0
     }
    }
   }
  },
  {
   "cell_type": "markdown",
   "source": [
    "As you can see kandy's `Plot` object was rendered to some image. That's because `kandy` library defines a **renderer** for this type of objects. We also can define renderers ourselves."
   ],
   "attachments": {},
   "metadata": {
    "datalore": {
     "node_id": "WEjXBvo3uXg8pqsnPAEkvG",
     "type": "MD",
     "hide_input_from_viewers": false,
     "hide_output_from_viewers": false,
     "report_properties": {
      "rowId": "7gHKvKdmSNad4mZHbMsLhL",
      "relativeY": 0
     }
    }
   }
  },
  {
   "cell_type": "code",
   "source": [
    "%use dataframe"
   ],
   "execution_count": 30,
   "outputs": [],
   "metadata": {
    "datalore": {
     "node_id": "GPHK2UrYt3TqZez5LHjqnS",
     "type": "CODE",
     "hide_input_from_viewers": false,
     "hide_output_from_viewers": false,
     "report_properties": {
      "rowId": "FIFVXRJJHcX7GAIA6RNeEb",
      "relativeY": 0
     }
    }
   }
  },
  {
   "cell_type": "code",
   "source": [
    "val bob = User(\"Bob\", \"Brown\")\n",
    "bob"
   ],
   "execution_count": 31,
   "outputs": [
    {
     "data": {
      "text/plain": "Line_26_jupyter$User@65541fa2"
     },
     "execution_count": 31,
     "metadata": {},
     "output_type": "execute_result"
    }
   ],
   "metadata": {
    "datalore": {
     "node_id": "JhGBAUCZWpWy5KpYOrm0rn",
     "type": "CODE",
     "hide_input_from_viewers": false,
     "hide_output_from_viewers": false,
     "report_properties": {
      "rowId": "zYT4yi2Vi5euEBuUIipSom",
      "relativeY": 0
     }
    }
   }
  },
  {
   "cell_type": "markdown",
   "source": [
    "`User` isn't a data class, that's why it was rendered this way."
   ],
   "attachments": {},
   "metadata": {
    "datalore": {
     "node_id": "moJHYllsSwf3Rkes3qCYEC",
     "type": "MD",
     "hide_input_from_viewers": false,
     "hide_output_from_viewers": false,
     "report_properties": {
      "rowId": "a3cNMdkXEmykAwNyWv8y1A",
      "relativeY": 0
     }
    }
   }
  },
  {
   "cell_type": "code",
   "source": [
    "USE {\n",
    "    // Match is based on runtime type here, beware of type erasure\n",
    "    render<User> { listOf(it).toDataFrame() }\n",
    "}"
   ],
   "execution_count": 32,
   "outputs": [],
   "metadata": {
    "datalore": {
     "node_id": "yaiJIlt3BuPXo1azekFvnR",
     "type": "CODE",
     "hide_input_from_viewers": false,
     "hide_output_from_viewers": false,
     "report_properties": {
      "rowId": "RxIfUbuAl0PIGsM2f7WnVY",
      "relativeY": 0
     }
    }
   }
  },
  {
   "cell_type": "code",
   "source": [
    "bob"
   ],
   "execution_count": 33,
   "outputs": [
    {
     "data": {
      "text/html": "            <iframe onload=\"o_resize_iframe_out_1()\" style=\"width:100%;\" class=\"result_container\" id=\"iframe_out_1\" frameBorder=\"0\" srcdoc=\"        &lt;html theme='dark'&gt;\n        &lt;head&gt;\n            &lt;style type=&quot;text&sol;css&quot;&gt;\n                :root {\n    --background: #fff;\n    --background-odd: #f5f5f5;\n    --background-hover: #d9edfd;\n    --header-text-color: #474747;\n    --text-color: #848484;\n    --text-color-dark: #000;\n    --text-color-medium: #737373;\n    --text-color-pale: #b3b3b3;\n    --inner-border-color: #aaa;\n    --bold-border-color: #000;\n    --link-color: #296eaa;\n    --link-color-pale: #296eaa;\n    --link-hover: #1a466c;\n}\n\n:root[theme=&quot;dark&quot;], :root [data-jp-theme-light=&quot;false&quot;], .dataframe_dark{\n    --background: #303030;\n    --background-odd: #3c3c3c;\n    --background-hover: #464646;\n    --header-text-color: #dddddd;\n    --text-color: #b3b3b3;\n    --text-color-dark: #dddddd;\n    --text-color-medium: #b2b2b2;\n    --text-color-pale: #737373;\n    --inner-border-color: #707070;\n    --bold-border-color: #777777;\n    --link-color: #008dc0;\n    --link-color-pale: #97e1fb;\n    --link-hover: #00688e;\n}\n\np.dataframe_description {\n    color: var(--text-color-dark);\n}\n\ntable.dataframe {\n    font-family: &quot;Helvetica Neue&quot;, Helvetica, Arial, sans-serif;\n    font-size: 12px;\n    background-color: var(--background);\n    color: var(--text-color-dark);\n    border: none;\n    border-collapse: collapse;\n}\n\ntable.dataframe th, td {\n    padding: 6px;\n    border: 1px solid transparent;\n    text-align: left;\n}\n\ntable.dataframe th {\n    background-color: var(--background);\n    color: var(--header-text-color);\n}\n\ntable.dataframe td {\n    vertical-align: top;\n}\n\ntable.dataframe th.bottomBorder {\n    border-bottom-color: var(--bold-border-color);\n}\n\ntable.dataframe tbody &gt; tr:nth-child(odd) {\n    background: var(--background-odd);\n}\n\ntable.dataframe tbody &gt; tr:nth-child(even) {\n    background: var(--background);\n}\n\ntable.dataframe tbody &gt; tr:hover {\n    background: var(--background-hover);\n}\n\ntable.dataframe a {\n    cursor: pointer;\n    color: var(--link-color);\n    text-decoration: none;\n}\n\ntable.dataframe tr:hover &gt; td a {\n    color: var(--link-color-pale);\n}\n\ntable.dataframe a:hover {\n    color: var(--link-hover);\n    text-decoration: underline;\n}\n\ntable.dataframe img {\n    max-width: fit-content;\n}\n\ntable.dataframe th.complex {\n    background-color: var(--background);\n    border: 1px solid var(--background);\n}\n\ntable.dataframe .leftBorder {\n    border-left-color: var(--inner-border-color);\n}\n\ntable.dataframe .rightBorder {\n    border-right-color: var(--inner-border-color);\n}\n\ntable.dataframe .rightAlign {\n    text-align: right;\n}\n\ntable.dataframe .expanderSvg {\n    width: 8px;\n    height: 8px;\n    margin-right: 3px;\n}\n\ntable.dataframe .expander {\n    display: flex;\n    align-items: center;\n}\n\n&sol;* formatting *&sol;\n\ntable.dataframe .null {\n    color: var(--text-color-pale);\n}\n\ntable.dataframe .structural {\n    color: var(--text-color-medium);\n    font-weight: bold;\n}\n\ntable.dataframe .dataFrameCaption {\n    font-weight: bold;\n}\n\ntable.dataframe .numbers {\n    color: var(--text-color-dark);\n}\n\ntable.dataframe td:hover .formatted .structural, .null {\n    color: var(--text-color-dark);\n}\n\ntable.dataframe tr:hover .formatted .structural, .null {\n    color: var(--text-color-dark);\n}\n\n\n\n\n:root {\n    --scroll-bg: #f5f5f5;\n    --scroll-fg: #b3b3b3;\n}\n:root[theme=&quot;dark&quot;], :root [data-jp-theme-light=&quot;false&quot;]{\n    --scroll-bg: #3c3c3c;\n    --scroll-fg: #97e1fb;\n}\nbody {\n    scrollbar-color: var(--scroll-fg) var(--scroll-bg);\n}\nbody::-webkit-scrollbar {\n    width: 10px; &sol;* Mostly for vertical scrollbars *&sol;\n    height: 10px; &sol;* Mostly for horizontal scrollbars *&sol;\n}\nbody::-webkit-scrollbar-thumb {\n    background-color: var(--scroll-fg);\n}\nbody::-webkit-scrollbar-track {\n    background-color: var(--scroll-bg);\n}\n            &lt;&sol;style&gt;\n        &lt;&sol;head&gt;\n        &lt;body&gt;\n            \n&lt;table class=&quot;dataframe&quot; id=&quot;df_218103808&quot;&gt;&lt;&sol;table&gt;\n\n&lt;p class=&quot;dataframe_description&quot;&gt;DataFrame: rowsCount = 1, columnsCount = 2&lt;&sol;p&gt;\n\n        &lt;&sol;body&gt;\n        &lt;script&gt;\n            (function () {\n    window.DataFrame = window.DataFrame || new (function () {\n        this.addTable = function (df) {\n            let cols = df.cols;\n            for (let i = 0; i &lt; cols.length; i++) {\n                for (let c of cols[i].children) {\n                    cols[c].parent = i;\n                }\n            }\n            df.nrow = 0\n            for (let i = 0; i &lt; df.cols.length; i++) {\n                if (df.cols[i].values.length &gt; df.nrow) df.nrow = df.cols[i].values.length\n            }\n            if (df.id === df.rootId) {\n                df.expandedFrames = new Set()\n                df.childFrames = {}\n                const table = this.getTableElement(df.id)\n                table.df = df\n                for (let i = 0; i &lt; df.cols.length; i++) {\n                    let col = df.cols[i]\n                    if (col.parent === undefined &amp;&amp; col.children.length &gt; 0) col.expanded = true\n                }\n            } else {\n                const rootDf = this.getTableData(df.rootId)\n                rootDf.childFrames[df.id] = df\n            }\n        }\n\n        this.computeRenderData = function (df) {\n            let result = []\n            let pos = 0\n            for (let col = 0; col &lt; df.cols.length; col++) {\n                if (df.cols[col].parent === undefined)\n                    pos += this.computeRenderDataRec(df.cols, col, pos, 0, result, false, false)\n            }\n            for (let i = 0; i &lt; result.length; i++) {\n                let row = result[i]\n                for (let j = 0; j &lt; row.length; j++) {\n                    let cell = row[j]\n                    if (j === 0)\n                        cell.leftBd = false\n                    if (j &lt; row.length - 1) {\n                        let nextData = row[j + 1]\n                        if (nextData.leftBd) cell.rightBd = true\n                        else if (cell.rightBd) nextData.leftBd = true\n                    } else cell.rightBd = false\n                }\n            }\n            return result\n        }\n\n        this.computeRenderDataRec = function (cols, colId, pos, depth, result, leftBorder, rightBorder) {\n            if (result.length === depth) {\n                const array = [];\n                if (pos &gt; 0) {\n                    let j = 0\n                    for (let i = 0; j &lt; pos; i++) {\n                        let c = result[depth - 1][i]\n                        j += c.span\n                        let copy = Object.assign({empty: true}, c)\n                        array.push(copy)\n                    }\n                }\n                result.push(array)\n            }\n            const col = cols[colId];\n            let size = 0;\n            if (col.expanded) {\n                let childPos = pos\n                for (let i = 0; i &lt; col.children.length; i++) {\n                    let child = col.children[i]\n                    let childLeft = i === 0 &amp;&amp; (col.children.length &gt; 1 || leftBorder)\n                    let childRight = i === col.children.length - 1 &amp;&amp; (col.children.length &gt; 1 || rightBorder)\n                    let childSize = this.computeRenderDataRec(cols, child, childPos, depth + 1, result, childLeft, childRight)\n                    childPos += childSize\n                    size += childSize\n                }\n            } else {\n                for (let i = depth + 1; i &lt; result.length; i++)\n                    result[i].push({id: colId, span: 1, leftBd: leftBorder, rightBd: rightBorder, empty: true})\n                size = 1\n            }\n            let left = leftBorder\n            let right = rightBorder\n            if (size &gt; 1) {\n                left = true\n                right = true\n            }\n            result[depth].push({id: colId, span: size, leftBd: left, rightBd: right})\n            return size\n        }\n\n        this.getTableElement = function (id) {\n            return document.getElementById(&quot;df_&quot; + id)\n        }\n\n        this.getTableData = function (id) {\n            return this.getTableElement(id).df\n        }\n\n        this.createExpander = function (isExpanded) {\n            const svgNs = &quot;http:&sol;&sol;www.w3.org&sol;2000&sol;svg&quot;\n            let svg = document.createElementNS(svgNs, &quot;svg&quot;)\n            svg.classList.add(&quot;expanderSvg&quot;)\n            let path = document.createElementNS(svgNs, &quot;path&quot;)\n            if (isExpanded) {\n                svg.setAttribute(&quot;viewBox&quot;, &quot;0 -2 8 8&quot;)\n                path.setAttribute(&quot;d&quot;, &quot;M1 0 l-1 1 4 4 4 -4 -1 -1 -3 3Z&quot;)\n            } else {\n                svg.setAttribute(&quot;viewBox&quot;, &quot;-2 0 8 8&quot;)\n                path.setAttribute(&quot;d&quot;, &quot;M1 0 l-1 1 3 3 -3 3 1 1 4 -4Z&quot;)\n            }\n            path.setAttribute(&quot;fill&quot;, &quot;currentColor&quot;)\n            svg.appendChild(path)\n            return svg\n        }\n\n        this.renderTable = function (id) {\n\n            let table = this.getTableElement(id)\n\n            if (table === null) return\n\n            table.innerHTML = &quot;&quot;\n\n            let df = table.df\n            let rootDf = df.rootId === df.id ? df : this.getTableData(df.rootId)\n\n            &sol;&sol; header\n            let header = document.createElement(&quot;thead&quot;)\n            table.appendChild(header)\n\n            let renderData = this.computeRenderData(df)\n            for (let j = 0; j &lt; renderData.length; j++) {\n                let rowData = renderData[j]\n                let tr = document.createElement(&quot;tr&quot;);\n                let isLastRow = j === renderData.length - 1\n                header.appendChild(tr);\n                for (let i = 0; i &lt; rowData.length; i++) {\n                    let cell = rowData[i]\n                    let th = document.createElement(&quot;th&quot;);\n                    th.setAttribute(&quot;colspan&quot;, cell.span)\n                    let colId = cell.id\n                    let col = df.cols[colId];\n                    if (!cell.empty) {\n                        if (col.children.length === 0) {\n                            th.innerHTML = col.name\n                        } else {\n                            let link = document.createElement(&quot;a&quot;)\n                            link.className = &quot;expander&quot;\n                            let that = this\n                            link.onclick = function () {\n                                col.expanded = !col.expanded\n                                that.renderTable(id)\n                            }\n                            link.appendChild(this.createExpander(col.expanded))\n                            link.innerHTML += col.name\n                            th.appendChild(link)\n                        }\n                    }\n                    let classes = (cell.leftBd ? &quot; leftBorder&quot; : &quot;&quot;) + (cell.rightBd ? &quot; rightBorder&quot; : &quot;&quot;)\n                    if (col.rightAlign)\n                        classes += &quot; rightAlign&quot;\n                    if (isLastRow)\n                        classes += &quot; bottomBorder&quot;\n                    if (classes.length &gt; 0)\n                        th.setAttribute(&quot;class&quot;, classes)\n                    tr.appendChild(th)\n                }\n            }\n\n            &sol;&sol; body\n            let body = document.createElement(&quot;tbody&quot;)\n            table.appendChild(body)\n\n            let columns = renderData.pop()\n            for (let row = 0; row &lt; df.nrow; row++) {\n                let tr = document.createElement(&quot;tr&quot;);\n                body.appendChild(tr)\n                for (let i = 0; i &lt; columns.length; i++) {\n                    let cell = columns[i]\n                    let td = document.createElement(&quot;td&quot;);\n                    let colId = cell.id\n                    let col = df.cols[colId]\n                    let classes = (cell.leftBd ? &quot; leftBorder&quot; : &quot;&quot;) + (cell.rightBd ? &quot; rightBorder&quot; : &quot;&quot;)\n                    if (col.rightAlign)\n                        classes += &quot; rightAlign&quot;\n                    if (classes.length &gt; 0)\n                        td.setAttribute(&quot;class&quot;, classes)\n                    tr.appendChild(td)\n                    let value = col.values[row]\n                    if (value.frameId !== undefined) {\n                        let frameId = value.frameId\n                        let expanded = rootDf.expandedFrames.has(frameId)\n                        let link = document.createElement(&quot;a&quot;)\n                        link.className = &quot;expander&quot;\n                        let that = this\n                        link.onclick = function () {\n                            if (rootDf.expandedFrames.has(frameId))\n                                rootDf.expandedFrames.delete(frameId)\n                            else rootDf.expandedFrames.add(frameId)\n                            that.renderTable(id)\n                        }\n                        link.appendChild(this.createExpander(expanded))\n                        link.innerHTML += value.value\n                        if (expanded) {\n                            td.appendChild(link)\n                            td.appendChild(document.createElement(&quot;p&quot;))\n                            const childTable = document.createElement(&quot;table&quot;)\n                            childTable.className = &quot;dataframe&quot;\n                            childTable.id = &quot;df_&quot; + frameId\n                            let childDf = rootDf.childFrames[frameId]\n                            childTable.df = childDf\n                            td.appendChild(childTable)\n                            this.renderTable(frameId)\n                            if (childDf.nrow !== childDf.totalRows) {\n                                const footer = document.createElement(&quot;p&quot;)\n                                footer.innerText = `... showing only top ${childDf.nrow} of ${childDf.totalRows} rows`\n                                td.appendChild(footer)\n                            }\n                        } else {\n                            td.appendChild(link)\n                        }\n                    } else if (value.style !== undefined) {\n                        td.innerHTML = value.value\n                        td.setAttribute(&quot;style&quot;, value.style)\n                    } else td.innerHTML = value\n                    this.nodeScriptReplace(td)\n                }\n            }\n        }\n\n        this.nodeScriptReplace = function (node) {\n            if (this.nodeScriptIs(node) === true) {\n                node.parentNode.replaceChild(this.nodeScriptClone(node), node);\n            } else {\n                let i = -1, children = node.childNodes;\n                while (++i &lt; children.length) {\n                    this.nodeScriptReplace(children[i]);\n                }\n            }\n\n            return node;\n        }\n\n        this.nodeScriptClone = function (node) {\n            let script = document.createElement(&quot;script&quot;);\n            script.text = node.innerHTML;\n\n            let i = -1, attrs = node.attributes, attr;\n            while (++i &lt; attrs.length) {\n                script.setAttribute((attr = attrs[i]).name, attr.value);\n            }\n            return script;\n        }\n\n        this.nodeScriptIs = function (node) {\n            return node.tagName === 'SCRIPT';\n        }\n    })()\n\n    window.call_DataFrame = function (f) {\n        return f();\n    };\n\n    let funQueue = window[&quot;kotlinQueues&quot;] &amp;&amp; window[&quot;kotlinQueues&quot;][&quot;DataFrame&quot;];\n    if (funQueue) {\n        funQueue.forEach(function (f) {\n            f();\n        });\n        funQueue = [];\n    }\n})()\n\n&sol;*&lt;!--*&sol;\ncall_DataFrame(function() { DataFrame.addTable({ cols: [{ name: &quot;&lt;span title=&bsol;&quot;firstName: String&bsol;&quot;&gt;firstName&lt;&sol;span&gt;&quot;, children: [], rightAlign: false, values: [&quot;Bob&quot;] }, \n{ name: &quot;&lt;span title=&bsol;&quot;lastName: String&bsol;&quot;&gt;lastName&lt;&sol;span&gt;&quot;, children: [], rightAlign: false, values: [&quot;Brown&quot;] }, \n], id: 218103808, rootId: 218103808, totalRows: 1 } ) });\n&sol;*--&gt;*&sol;\n\ncall_DataFrame(function() { DataFrame.renderTable(218103808) });\n\n\n\n        &lt;&sol;script&gt;\n        &lt;&sol;html&gt;\"></iframe>\n            <script>\n                function o_resize_iframe_out_1() {\n                    let elem = document.getElementById(\"iframe_out_1\");\n                    resize_iframe_out_1(elem);\n                    setInterval(resize_iframe_out_1, 5000, elem);\n                }\n                function resize_iframe_out_1(el) {\n                    let h = el.contentWindow.document.body.scrollHeight;\n                    el.height = h === 0 ? 0 : h + 41;\n                }\n            </script>",
      "application/kotlindataframe+json": "{\"nrow\":1,\"ncol\":2,\"columns\":[\"firstName\",\"lastName\"],\"kotlin_dataframe\":[{\"firstName\":\"Bob\",\"lastName\":\"Brown\"}]}"
     },
     "execution_count": 33,
     "metadata": {},
     "output_type": "execute_result"
    }
   ],
   "metadata": {
    "datalore": {
     "node_id": "8iYYKtuxCPHZagUZGgYCUl",
     "type": "CODE",
     "hide_input_from_viewers": false,
     "hide_output_from_viewers": false,
     "report_properties": {
      "rowId": "ur4xKMbkcY0fNZBPWgtDb2",
      "relativeY": 0
     }
    }
   }
  },
  {
   "cell_type": "markdown",
   "source": [
    "We can also use full syntax for defining renderers. It's verbose but let you do many things"
   ],
   "attachments": {},
   "metadata": {
    "datalore": {
     "node_id": "iCweeO5z22J9VR7qg7Jaxi",
     "type": "MD",
     "hide_input_from_viewers": false,
     "hide_output_from_viewers": false,
     "report_properties": {
      "rowId": "5WdJMkq3JhRrYK2YeuV3mL",
      "relativeY": 0
     }
    }
   }
  },
  {
   "cell_type": "code",
   "source": [
    "class User2(val name: String)"
   ],
   "execution_count": 34,
   "outputs": [],
   "metadata": {
    "datalore": {
     "node_id": "P73oh91LeeNjgRv2f5Eki1",
     "type": "CODE",
     "hide_input_from_viewers": false,
     "hide_output_from_viewers": false,
     "report_properties": {
      "rowId": "17xQzjoqHIQxXL9CNd0cRT",
      "relativeY": 0
     }
    }
   }
  },
  {
   "cell_type": "code",
   "source": [
    "USE {\n",
    "    addRenderer(object : RendererHandler {\n",
    "        override fun replaceVariables(mapping: Map<String, String>): RendererHandler {\n",
    "            return this\n",
    "        }\n",
    "\n",
    "        override val execution: ResultHandlerExecution\n",
    "            get() = ResultHandlerExecution { host, res ->\n",
    "                FieldValue(\"Value of ${res.name} is a user with name ${(res.value as User2).name}\", null)\n",
    "            }\n",
    "\n",
    "        override fun accepts(value: Any?): Boolean {\n",
    "            return value != null && value::class == User2::class\n",
    "        }\n",
    "    })\n",
    "}"
   ],
   "execution_count": 35,
   "outputs": [],
   "metadata": {
    "datalore": {
     "node_id": "AX6u6HYjN01qjMCvilH8T5",
     "type": "CODE",
     "hide_input_from_viewers": false,
     "hide_output_from_viewers": false,
     "report_properties": {
      "rowId": "RIzfGoYSiuMMSnHrLznkDI",
      "relativeY": 0
     }
    }
   }
  },
  {
   "cell_type": "code",
   "source": [
    "User2(\"Felix\")"
   ],
   "execution_count": 36,
   "outputs": [
    {
     "data": {
      "text/plain": "Value of res45 is a user with name Felix"
     },
     "execution_count": 36,
     "metadata": {},
     "output_type": "execute_result"
    }
   ],
   "metadata": {
    "datalore": {
     "node_id": "gxxOdj7rTYxl0viOn6amAz",
     "type": "CODE",
     "hide_input_from_viewers": false,
     "hide_output_from_viewers": false,
     "report_properties": {
      "rowId": "Zg8nGo3ivgLi4SnW4nefN8",
      "relativeY": 0
     }
    }
   }
  },
  {
   "cell_type": "markdown",
   "source": [
    "What do the libraries bring except for dependencies and renderers? First of all, default imports.\n",
    "These imports are implicitly added to all subsequent cells."
   ],
   "attachments": {},
   "metadata": {
    "datalore": {
     "node_id": "uxzWcwEPaIazsewIgmZInX",
     "type": "MD",
     "hide_input_from_viewers": false,
     "hide_output_from_viewers": false,
     "report_properties": {
      "rowId": "ps93mOYwakebJzQKmpIbsI",
      "relativeY": 0
     }
    }
   }
  },
  {
   "cell_type": "code",
   "source": [
    "fun loadFileFromGitHub(repositoryUrl: String, filePath: String): String {\n",
    "    val rawUrl = \"$repositoryUrl/raw/master/$filePath\"\n",
    "    val url = URL(rawUrl)\n",
    "    val connection = url.openConnection()\n",
    "    connection.setRequestProperty(\"Accept\", \"application/vnd.github.v3.raw\")\n",
    "\n",
    "    val inputStream = connection.getInputStream()\n",
    "    val content = inputStream.bufferedReader().use { it.readText() }\n",
    "\n",
    "    return content\n",
    "}\n",
    "\n",
    "fun loadDescriptor(name: String) {\n",
    "    val text = loadFileFromGitHub(\"https://github.com/Kotlin/kotlin-jupyter-libraries\", \"$name.json\")\n",
    "    DISPLAY(MIME(\n",
    "        \"text/markdown\" to \"```json\\n$text```\"\n",
    "    ))\n",
    "}"
   ],
   "execution_count": 37,
   "outputs": [],
   "metadata": {
    "datalore": {
     "node_id": "we6xS5ilH2VW7YNcYJXILo",
     "type": "CODE",
     "hide_input_from_viewers": false,
     "hide_output_from_viewers": false,
     "report_properties": {
      "rowId": "elemEtVHO9TlRpRDkLdUG2",
      "relativeY": 0
     }
    }
   }
  },
  {
   "cell_type": "markdown",
   "source": [
    "Notice `imports` section in the following descriptor:"
   ],
   "attachments": {},
   "metadata": {
    "datalore": {
     "node_id": "aHXTN6FGqYDcxUCCXamOoS",
     "type": "MD",
     "hide_input_from_viewers": false,
     "hide_output_from_viewers": false,
     "report_properties": {
      "rowId": "F9T8BHoaYVvjk3N4NjzJdF",
      "relativeY": 0
     }
    }
   }
  },
  {
   "cell_type": "code",
   "source": [
    "loadDescriptor(\"kaliningraph\")"
   ],
   "execution_count": 38,
   "outputs": [
    {
     "data": {
      "text/markdown": "```json\n{\n  \"link\": \"https://github.com/breandan/kaliningraph\",\n  \"description\": \"Graph library with a DSL for constructing graphs and visualizing the behavior of graph algorithms\",\n  \"dependencies\": [\n    \"com.github.breandan:kaliningraph:0.1.4\"\n  ],\n  \"imports\": [\n    \"edu.mcgill.kaliningraph.*\",\n    \"edu.mcgill.kaliningraph.matrix.*\",\n    \"edu.mcgill.kaliningraph.circuits.*\",\n    \"org.ejml.data.*\",\n    \"org.ejml.kotlin.*\"\n  ],\n  \"renderers\": {\n    \"edu.mcgill.kaliningraph.LabeledGraph\": \"HTML(($it as edu.mcgill.kaliningraph.Graph<*, *, *>).html())\",\n    \"edu.mcgill.kaliningraph.circuits.Gate\": \"HTML(($it as edu.mcgill.kaliningraph.circuits.Gate).graph.html())\",\n    \"edu.mcgill.kaliningraph.circuits.NFunction\": \"HTML(($it as edu.mcgill.kaliningraph.circuits.NFunction).graph.html())\",\n    \"edu.mcgill.kaliningraph.circuits.ComputationGraph\": \"HTML(($it as edu.mcgill.kaliningraph.Graph<*, *, *>).html())\",\n    \"edu.mcgill.kaliningraph.matrix.BMat\": \"HTML(\\\"<img src=\\\\\\\"${($it as edu.mcgill.kaliningraph.matrix.BMat).matToImg()}\\\\\\\"/>\\\")\",\n    \"edu.mcgill.kaliningraph.matrix.BSqMat\": \"HTML(\\\"<img src=\\\\\\\"${($it as edu.mcgill.kaliningraph.matrix.BSqMat).matToImg()}\\\\\\\"/>\\\")\"\n  }\n}\n```"
     },
     "metadata": {},
     "output_type": "display_data"
    }
   ],
   "metadata": {
    "datalore": {
     "node_id": "3HDdtOsNgm3Z6CpmhrNyw7",
     "type": "CODE",
     "hide_input_from_viewers": false,
     "hide_output_from_viewers": false,
     "report_properties": {
      "rowId": "9y9bEhL7Ou0jVTIYVelrlf",
      "relativeY": 0
     }
    }
   }
  },
  {
   "cell_type": "markdown",
   "source": [
    "You might have noticed that almost every descriptor in `Kotlin/kotlin-jupyter-libraries` contains link and description.\n",
    "They are used to build `:help` command output and [our README](https://github.com/Kotlin/kotlin-jupyter#list-of-supported-libraries)"
   ],
   "attachments": {},
   "metadata": {
    "datalore": {
     "node_id": "sXymm06w8GbKTuyMiGAKYd",
     "type": "MD",
     "hide_input_from_viewers": false,
     "hide_output_from_viewers": false,
     "report_properties": {
      "rowId": "wNXel6XqUFTOfHutUCg9bS",
      "relativeY": 0
     }
    }
   }
  },
  {
   "cell_type": "markdown",
   "source": [
    "## Creating an integration"
   ],
   "attachments": {},
   "metadata": {
    "datalore": {
     "node_id": "ayNFkwvOZfl1Xq2mVQc7Mq",
     "type": "MD",
     "hide_input_from_viewers": false,
     "hide_output_from_viewers": false,
     "report_properties": {
      "rowId": "sxZ027opxTtSv7zSAatEra",
      "relativeY": 0
     }
    }
   }
  },
  {
   "cell_type": "markdown",
   "source": [
    "So, we learned the concept of the integration. It is a wrapper on top of the usual Kotlin library that simplifies and elevates the experience of using this library in the notebook.\n",
    "Comprehensive guide to writing library integrations can be found [here](). To inspire you, there is an example of the `dataframe` integration below."
   ],
   "attachments": {},
   "metadata": {
    "datalore": {
     "node_id": "zym5R11ru7tcYePUvjuMum",
     "type": "MD",
     "hide_input_from_viewers": false,
     "hide_output_from_viewers": false,
     "report_properties": {
      "rowId": "XQaKAPhaun1kXhJwN5XhRe",
      "relativeY": 0
     }
    }
   }
  },
  {
   "cell_type": "code",
   "source": [
    "%use dataframe"
   ],
   "execution_count": 39,
   "outputs": [],
   "metadata": {
    "datalore": {
     "node_id": "KJrpVWxUFFkZbQ7uB2mcL2",
     "type": "CODE",
     "hide_input_from_viewers": false,
     "hide_output_from_viewers": false,
     "report_properties": {
      "rowId": "YgXKxrto2mEG7mHILHtnCl",
      "relativeY": 0
     }
    }
   }
  },
  {
   "cell_type": "code",
   "source": [
    "val df = DataFrame.read(\"https://raw.githubusercontent.com/mwaskom/seaborn-data/master/iris.csv\")"
   ],
   "execution_count": 40,
   "outputs": [],
   "metadata": {
    "datalore": {
     "node_id": "aVjeEZxNyG223icgnWjH9m",
     "type": "CODE",
     "hide_input_from_viewers": false,
     "hide_output_from_viewers": false,
     "report_properties": {
      "rowId": "McZUgi5JF0y9XfhXKtJhew",
      "relativeY": 0
     }
    }
   }
  },
  {
   "cell_type": "markdown",
   "source": [
    "Let's try to investigate the data that we have just read."
   ],
   "attachments": {},
   "metadata": {
    "datalore": {
     "node_id": "lC0H75L0pWWXQyWa8UzIiL",
     "type": "MD",
     "hide_input_from_viewers": false,
     "hide_output_from_viewers": false,
     "report_properties": {
      "rowId": "241x5BVpCYc4HtAqqg0h9t",
      "relativeY": 0
     }
    }
   }
  },
  {
   "cell_type": "code",
   "source": [
    "df.petal_length"
   ],
   "execution_count": 41,
   "outputs": [
    {
     "data": {
      "text/html": "            <iframe onload=\"o_resize_iframe_out_2()\" style=\"width:100%;\" class=\"result_container\" id=\"iframe_out_2\" frameBorder=\"0\" srcdoc=\"        &lt;html theme='dark'&gt;\n        &lt;head&gt;\n            &lt;style type=&quot;text&sol;css&quot;&gt;\n                :root {\n    --background: #fff;\n    --background-odd: #f5f5f5;\n    --background-hover: #d9edfd;\n    --header-text-color: #474747;\n    --text-color: #848484;\n    --text-color-dark: #000;\n    --text-color-medium: #737373;\n    --text-color-pale: #b3b3b3;\n    --inner-border-color: #aaa;\n    --bold-border-color: #000;\n    --link-color: #296eaa;\n    --link-color-pale: #296eaa;\n    --link-hover: #1a466c;\n}\n\n:root[theme=&quot;dark&quot;], :root [data-jp-theme-light=&quot;false&quot;], .dataframe_dark{\n    --background: #303030;\n    --background-odd: #3c3c3c;\n    --background-hover: #464646;\n    --header-text-color: #dddddd;\n    --text-color: #b3b3b3;\n    --text-color-dark: #dddddd;\n    --text-color-medium: #b2b2b2;\n    --text-color-pale: #737373;\n    --inner-border-color: #707070;\n    --bold-border-color: #777777;\n    --link-color: #008dc0;\n    --link-color-pale: #97e1fb;\n    --link-hover: #00688e;\n}\n\np.dataframe_description {\n    color: var(--text-color-dark);\n}\n\ntable.dataframe {\n    font-family: &quot;Helvetica Neue&quot;, Helvetica, Arial, sans-serif;\n    font-size: 12px;\n    background-color: var(--background);\n    color: var(--text-color-dark);\n    border: none;\n    border-collapse: collapse;\n}\n\ntable.dataframe th, td {\n    padding: 6px;\n    border: 1px solid transparent;\n    text-align: left;\n}\n\ntable.dataframe th {\n    background-color: var(--background);\n    color: var(--header-text-color);\n}\n\ntable.dataframe td {\n    vertical-align: top;\n}\n\ntable.dataframe th.bottomBorder {\n    border-bottom-color: var(--bold-border-color);\n}\n\ntable.dataframe tbody &gt; tr:nth-child(odd) {\n    background: var(--background-odd);\n}\n\ntable.dataframe tbody &gt; tr:nth-child(even) {\n    background: var(--background);\n}\n\ntable.dataframe tbody &gt; tr:hover {\n    background: var(--background-hover);\n}\n\ntable.dataframe a {\n    cursor: pointer;\n    color: var(--link-color);\n    text-decoration: none;\n}\n\ntable.dataframe tr:hover &gt; td a {\n    color: var(--link-color-pale);\n}\n\ntable.dataframe a:hover {\n    color: var(--link-hover);\n    text-decoration: underline;\n}\n\ntable.dataframe img {\n    max-width: fit-content;\n}\n\ntable.dataframe th.complex {\n    background-color: var(--background);\n    border: 1px solid var(--background);\n}\n\ntable.dataframe .leftBorder {\n    border-left-color: var(--inner-border-color);\n}\n\ntable.dataframe .rightBorder {\n    border-right-color: var(--inner-border-color);\n}\n\ntable.dataframe .rightAlign {\n    text-align: right;\n}\n\ntable.dataframe .expanderSvg {\n    width: 8px;\n    height: 8px;\n    margin-right: 3px;\n}\n\ntable.dataframe .expander {\n    display: flex;\n    align-items: center;\n}\n\n&sol;* formatting *&sol;\n\ntable.dataframe .null {\n    color: var(--text-color-pale);\n}\n\ntable.dataframe .structural {\n    color: var(--text-color-medium);\n    font-weight: bold;\n}\n\ntable.dataframe .dataFrameCaption {\n    font-weight: bold;\n}\n\ntable.dataframe .numbers {\n    color: var(--text-color-dark);\n}\n\ntable.dataframe td:hover .formatted .structural, .null {\n    color: var(--text-color-dark);\n}\n\ntable.dataframe tr:hover .formatted .structural, .null {\n    color: var(--text-color-dark);\n}\n\n\n\n\n:root {\n    --scroll-bg: #f5f5f5;\n    --scroll-fg: #b3b3b3;\n}\n:root[theme=&quot;dark&quot;], :root [data-jp-theme-light=&quot;false&quot;]{\n    --scroll-bg: #3c3c3c;\n    --scroll-fg: #97e1fb;\n}\nbody {\n    scrollbar-color: var(--scroll-fg) var(--scroll-bg);\n}\nbody::-webkit-scrollbar {\n    width: 10px; &sol;* Mostly for vertical scrollbars *&sol;\n    height: 10px; &sol;* Mostly for horizontal scrollbars *&sol;\n}\nbody::-webkit-scrollbar-thumb {\n    background-color: var(--scroll-fg);\n}\nbody::-webkit-scrollbar-track {\n    background-color: var(--scroll-bg);\n}\n            &lt;&sol;style&gt;\n        &lt;&sol;head&gt;\n        &lt;body&gt;\n            \n&lt;table class=&quot;dataframe&quot; id=&quot;df_218103809&quot;&gt;&lt;&sol;table&gt;\n\n&lt;p class=&quot;dataframe_description&quot;&gt;... showing only top 20 of 150 rows&lt;&sol;p&gt;&lt;p class=&quot;dataframe_description&quot;&gt;DataColumn: name = &quot;petal_length&quot;, type = Double, size = 150&lt;&sol;p&gt;\n\n        &lt;&sol;body&gt;\n        &lt;script&gt;\n            (function () {\n    window.DataFrame = window.DataFrame || new (function () {\n        this.addTable = function (df) {\n            let cols = df.cols;\n            for (let i = 0; i &lt; cols.length; i++) {\n                for (let c of cols[i].children) {\n                    cols[c].parent = i;\n                }\n            }\n            df.nrow = 0\n            for (let i = 0; i &lt; df.cols.length; i++) {\n                if (df.cols[i].values.length &gt; df.nrow) df.nrow = df.cols[i].values.length\n            }\n            if (df.id === df.rootId) {\n                df.expandedFrames = new Set()\n                df.childFrames = {}\n                const table = this.getTableElement(df.id)\n                table.df = df\n                for (let i = 0; i &lt; df.cols.length; i++) {\n                    let col = df.cols[i]\n                    if (col.parent === undefined &amp;&amp; col.children.length &gt; 0) col.expanded = true\n                }\n            } else {\n                const rootDf = this.getTableData(df.rootId)\n                rootDf.childFrames[df.id] = df\n            }\n        }\n\n        this.computeRenderData = function (df) {\n            let result = []\n            let pos = 0\n            for (let col = 0; col &lt; df.cols.length; col++) {\n                if (df.cols[col].parent === undefined)\n                    pos += this.computeRenderDataRec(df.cols, col, pos, 0, result, false, false)\n            }\n            for (let i = 0; i &lt; result.length; i++) {\n                let row = result[i]\n                for (let j = 0; j &lt; row.length; j++) {\n                    let cell = row[j]\n                    if (j === 0)\n                        cell.leftBd = false\n                    if (j &lt; row.length - 1) {\n                        let nextData = row[j + 1]\n                        if (nextData.leftBd) cell.rightBd = true\n                        else if (cell.rightBd) nextData.leftBd = true\n                    } else cell.rightBd = false\n                }\n            }\n            return result\n        }\n\n        this.computeRenderDataRec = function (cols, colId, pos, depth, result, leftBorder, rightBorder) {\n            if (result.length === depth) {\n                const array = [];\n                if (pos &gt; 0) {\n                    let j = 0\n                    for (let i = 0; j &lt; pos; i++) {\n                        let c = result[depth - 1][i]\n                        j += c.span\n                        let copy = Object.assign({empty: true}, c)\n                        array.push(copy)\n                    }\n                }\n                result.push(array)\n            }\n            const col = cols[colId];\n            let size = 0;\n            if (col.expanded) {\n                let childPos = pos\n                for (let i = 0; i &lt; col.children.length; i++) {\n                    let child = col.children[i]\n                    let childLeft = i === 0 &amp;&amp; (col.children.length &gt; 1 || leftBorder)\n                    let childRight = i === col.children.length - 1 &amp;&amp; (col.children.length &gt; 1 || rightBorder)\n                    let childSize = this.computeRenderDataRec(cols, child, childPos, depth + 1, result, childLeft, childRight)\n                    childPos += childSize\n                    size += childSize\n                }\n            } else {\n                for (let i = depth + 1; i &lt; result.length; i++)\n                    result[i].push({id: colId, span: 1, leftBd: leftBorder, rightBd: rightBorder, empty: true})\n                size = 1\n            }\n            let left = leftBorder\n            let right = rightBorder\n            if (size &gt; 1) {\n                left = true\n                right = true\n            }\n            result[depth].push({id: colId, span: size, leftBd: left, rightBd: right})\n            return size\n        }\n\n        this.getTableElement = function (id) {\n            return document.getElementById(&quot;df_&quot; + id)\n        }\n\n        this.getTableData = function (id) {\n            return this.getTableElement(id).df\n        }\n\n        this.createExpander = function (isExpanded) {\n            const svgNs = &quot;http:&sol;&sol;www.w3.org&sol;2000&sol;svg&quot;\n            let svg = document.createElementNS(svgNs, &quot;svg&quot;)\n            svg.classList.add(&quot;expanderSvg&quot;)\n            let path = document.createElementNS(svgNs, &quot;path&quot;)\n            if (isExpanded) {\n                svg.setAttribute(&quot;viewBox&quot;, &quot;0 -2 8 8&quot;)\n                path.setAttribute(&quot;d&quot;, &quot;M1 0 l-1 1 4 4 4 -4 -1 -1 -3 3Z&quot;)\n            } else {\n                svg.setAttribute(&quot;viewBox&quot;, &quot;-2 0 8 8&quot;)\n                path.setAttribute(&quot;d&quot;, &quot;M1 0 l-1 1 3 3 -3 3 1 1 4 -4Z&quot;)\n            }\n            path.setAttribute(&quot;fill&quot;, &quot;currentColor&quot;)\n            svg.appendChild(path)\n            return svg\n        }\n\n        this.renderTable = function (id) {\n\n            let table = this.getTableElement(id)\n\n            if (table === null) return\n\n            table.innerHTML = &quot;&quot;\n\n            let df = table.df\n            let rootDf = df.rootId === df.id ? df : this.getTableData(df.rootId)\n\n            &sol;&sol; header\n            let header = document.createElement(&quot;thead&quot;)\n            table.appendChild(header)\n\n            let renderData = this.computeRenderData(df)\n            for (let j = 0; j &lt; renderData.length; j++) {\n                let rowData = renderData[j]\n                let tr = document.createElement(&quot;tr&quot;);\n                let isLastRow = j === renderData.length - 1\n                header.appendChild(tr);\n                for (let i = 0; i &lt; rowData.length; i++) {\n                    let cell = rowData[i]\n                    let th = document.createElement(&quot;th&quot;);\n                    th.setAttribute(&quot;colspan&quot;, cell.span)\n                    let colId = cell.id\n                    let col = df.cols[colId];\n                    if (!cell.empty) {\n                        if (col.children.length === 0) {\n                            th.innerHTML = col.name\n                        } else {\n                            let link = document.createElement(&quot;a&quot;)\n                            link.className = &quot;expander&quot;\n                            let that = this\n                            link.onclick = function () {\n                                col.expanded = !col.expanded\n                                that.renderTable(id)\n                            }\n                            link.appendChild(this.createExpander(col.expanded))\n                            link.innerHTML += col.name\n                            th.appendChild(link)\n                        }\n                    }\n                    let classes = (cell.leftBd ? &quot; leftBorder&quot; : &quot;&quot;) + (cell.rightBd ? &quot; rightBorder&quot; : &quot;&quot;)\n                    if (col.rightAlign)\n                        classes += &quot; rightAlign&quot;\n                    if (isLastRow)\n                        classes += &quot; bottomBorder&quot;\n                    if (classes.length &gt; 0)\n                        th.setAttribute(&quot;class&quot;, classes)\n                    tr.appendChild(th)\n                }\n            }\n\n            &sol;&sol; body\n            let body = document.createElement(&quot;tbody&quot;)\n            table.appendChild(body)\n\n            let columns = renderData.pop()\n            for (let row = 0; row &lt; df.nrow; row++) {\n                let tr = document.createElement(&quot;tr&quot;);\n                body.appendChild(tr)\n                for (let i = 0; i &lt; columns.length; i++) {\n                    let cell = columns[i]\n                    let td = document.createElement(&quot;td&quot;);\n                    let colId = cell.id\n                    let col = df.cols[colId]\n                    let classes = (cell.leftBd ? &quot; leftBorder&quot; : &quot;&quot;) + (cell.rightBd ? &quot; rightBorder&quot; : &quot;&quot;)\n                    if (col.rightAlign)\n                        classes += &quot; rightAlign&quot;\n                    if (classes.length &gt; 0)\n                        td.setAttribute(&quot;class&quot;, classes)\n                    tr.appendChild(td)\n                    let value = col.values[row]\n                    if (value.frameId !== undefined) {\n                        let frameId = value.frameId\n                        let expanded = rootDf.expandedFrames.has(frameId)\n                        let link = document.createElement(&quot;a&quot;)\n                        link.className = &quot;expander&quot;\n                        let that = this\n                        link.onclick = function () {\n                            if (rootDf.expandedFrames.has(frameId))\n                                rootDf.expandedFrames.delete(frameId)\n                            else rootDf.expandedFrames.add(frameId)\n                            that.renderTable(id)\n                        }\n                        link.appendChild(this.createExpander(expanded))\n                        link.innerHTML += value.value\n                        if (expanded) {\n                            td.appendChild(link)\n                            td.appendChild(document.createElement(&quot;p&quot;))\n                            const childTable = document.createElement(&quot;table&quot;)\n                            childTable.className = &quot;dataframe&quot;\n                            childTable.id = &quot;df_&quot; + frameId\n                            let childDf = rootDf.childFrames[frameId]\n                            childTable.df = childDf\n                            td.appendChild(childTable)\n                            this.renderTable(frameId)\n                            if (childDf.nrow !== childDf.totalRows) {\n                                const footer = document.createElement(&quot;p&quot;)\n                                footer.innerText = `... showing only top ${childDf.nrow} of ${childDf.totalRows} rows`\n                                td.appendChild(footer)\n                            }\n                        } else {\n                            td.appendChild(link)\n                        }\n                    } else if (value.style !== undefined) {\n                        td.innerHTML = value.value\n                        td.setAttribute(&quot;style&quot;, value.style)\n                    } else td.innerHTML = value\n                    this.nodeScriptReplace(td)\n                }\n            }\n        }\n\n        this.nodeScriptReplace = function (node) {\n            if (this.nodeScriptIs(node) === true) {\n                node.parentNode.replaceChild(this.nodeScriptClone(node), node);\n            } else {\n                let i = -1, children = node.childNodes;\n                while (++i &lt; children.length) {\n                    this.nodeScriptReplace(children[i]);\n                }\n            }\n\n            return node;\n        }\n\n        this.nodeScriptClone = function (node) {\n            let script = document.createElement(&quot;script&quot;);\n            script.text = node.innerHTML;\n\n            let i = -1, attrs = node.attributes, attr;\n            while (++i &lt; attrs.length) {\n                script.setAttribute((attr = attrs[i]).name, attr.value);\n            }\n            return script;\n        }\n\n        this.nodeScriptIs = function (node) {\n            return node.tagName === 'SCRIPT';\n        }\n    })()\n\n    window.call_DataFrame = function (f) {\n        return f();\n    };\n\n    let funQueue = window[&quot;kotlinQueues&quot;] &amp;&amp; window[&quot;kotlinQueues&quot;][&quot;DataFrame&quot;];\n    if (funQueue) {\n        funQueue.forEach(function (f) {\n            f();\n        });\n        funQueue = [];\n    }\n})()\n\n&sol;*&lt;!--*&sol;\ncall_DataFrame(function() { DataFrame.addTable({ cols: [{ name: &quot;&lt;span title=&bsol;&quot;petal_length: Double&bsol;&quot;&gt;petal_length&lt;&sol;span&gt;&quot;, children: [], rightAlign: true, values: [&quot;&lt;span class=&bsol;&quot;formatted&bsol;&quot; title=&bsol;&quot;&bsol;&quot;&gt;&lt;span class=&bsol;&quot;numbers&bsol;&quot;&gt;14,0&lt;&sol;span&gt;&lt;&sol;span&gt;&quot;,&quot;&lt;span class=&bsol;&quot;formatted&bsol;&quot; title=&bsol;&quot;&bsol;&quot;&gt;&lt;span class=&bsol;&quot;numbers&bsol;&quot;&gt;14,0&lt;&sol;span&gt;&lt;&sol;span&gt;&quot;,&quot;&lt;span class=&bsol;&quot;formatted&bsol;&quot; title=&bsol;&quot;&bsol;&quot;&gt;&lt;span class=&bsol;&quot;numbers&bsol;&quot;&gt;13,0&lt;&sol;span&gt;&lt;&sol;span&gt;&quot;,&quot;&lt;span class=&bsol;&quot;formatted&bsol;&quot; title=&bsol;&quot;&bsol;&quot;&gt;&lt;span class=&bsol;&quot;numbers&bsol;&quot;&gt;15,0&lt;&sol;span&gt;&lt;&sol;span&gt;&quot;,&quot;&lt;span class=&bsol;&quot;formatted&bsol;&quot; title=&bsol;&quot;&bsol;&quot;&gt;&lt;span class=&bsol;&quot;numbers&bsol;&quot;&gt;14,0&lt;&sol;span&gt;&lt;&sol;span&gt;&quot;,&quot;&lt;span class=&bsol;&quot;formatted&bsol;&quot; title=&bsol;&quot;&bsol;&quot;&gt;&lt;span class=&bsol;&quot;numbers&bsol;&quot;&gt;17,0&lt;&sol;span&gt;&lt;&sol;span&gt;&quot;,&quot;&lt;span class=&bsol;&quot;formatted&bsol;&quot; title=&bsol;&quot;&bsol;&quot;&gt;&lt;span class=&bsol;&quot;numbers&bsol;&quot;&gt;14,0&lt;&sol;span&gt;&lt;&sol;span&gt;&quot;,&quot;&lt;span class=&bsol;&quot;formatted&bsol;&quot; title=&bsol;&quot;&bsol;&quot;&gt;&lt;span class=&bsol;&quot;numbers&bsol;&quot;&gt;15,0&lt;&sol;span&gt;&lt;&sol;span&gt;&quot;,&quot;&lt;span class=&bsol;&quot;formatted&bsol;&quot; title=&bsol;&quot;&bsol;&quot;&gt;&lt;span class=&bsol;&quot;numbers&bsol;&quot;&gt;14,0&lt;&sol;span&gt;&lt;&sol;span&gt;&quot;,&quot;&lt;span class=&bsol;&quot;formatted&bsol;&quot; title=&bsol;&quot;&bsol;&quot;&gt;&lt;span class=&bsol;&quot;numbers&bsol;&quot;&gt;15,0&lt;&sol;span&gt;&lt;&sol;span&gt;&quot;,&quot;&lt;span class=&bsol;&quot;formatted&bsol;&quot; title=&bsol;&quot;&bsol;&quot;&gt;&lt;span class=&bsol;&quot;numbers&bsol;&quot;&gt;15,0&lt;&sol;span&gt;&lt;&sol;span&gt;&quot;,&quot;&lt;span class=&bsol;&quot;formatted&bsol;&quot; title=&bsol;&quot;&bsol;&quot;&gt;&lt;span class=&bsol;&quot;numbers&bsol;&quot;&gt;16,0&lt;&sol;span&gt;&lt;&sol;span&gt;&quot;,&quot;&lt;span class=&bsol;&quot;formatted&bsol;&quot; title=&bsol;&quot;&bsol;&quot;&gt;&lt;span class=&bsol;&quot;numbers&bsol;&quot;&gt;14,0&lt;&sol;span&gt;&lt;&sol;span&gt;&quot;,&quot;&lt;span class=&bsol;&quot;formatted&bsol;&quot; title=&bsol;&quot;&bsol;&quot;&gt;&lt;span class=&bsol;&quot;numbers&bsol;&quot;&gt;11,0&lt;&sol;span&gt;&lt;&sol;span&gt;&quot;,&quot;&lt;span class=&bsol;&quot;formatted&bsol;&quot; title=&bsol;&quot;&bsol;&quot;&gt;&lt;span class=&bsol;&quot;numbers&bsol;&quot;&gt;12,0&lt;&sol;span&gt;&lt;&sol;span&gt;&quot;,&quot;&lt;span class=&bsol;&quot;formatted&bsol;&quot; title=&bsol;&quot;&bsol;&quot;&gt;&lt;span class=&bsol;&quot;numbers&bsol;&quot;&gt;15,0&lt;&sol;span&gt;&lt;&sol;span&gt;&quot;,&quot;&lt;span class=&bsol;&quot;formatted&bsol;&quot; title=&bsol;&quot;&bsol;&quot;&gt;&lt;span class=&bsol;&quot;numbers&bsol;&quot;&gt;13,0&lt;&sol;span&gt;&lt;&sol;span&gt;&quot;,&quot;&lt;span class=&bsol;&quot;formatted&bsol;&quot; title=&bsol;&quot;&bsol;&quot;&gt;&lt;span class=&bsol;&quot;numbers&bsol;&quot;&gt;14,0&lt;&sol;span&gt;&lt;&sol;span&gt;&quot;,&quot;&lt;span class=&bsol;&quot;formatted&bsol;&quot; title=&bsol;&quot;&bsol;&quot;&gt;&lt;span class=&bsol;&quot;numbers&bsol;&quot;&gt;17,0&lt;&sol;span&gt;&lt;&sol;span&gt;&quot;,&quot;&lt;span class=&bsol;&quot;formatted&bsol;&quot; title=&bsol;&quot;&bsol;&quot;&gt;&lt;span class=&bsol;&quot;numbers&bsol;&quot;&gt;15,0&lt;&sol;span&gt;&lt;&sol;span&gt;&quot;] }, \n], id: 218103809, rootId: 218103809, totalRows: 150 } ) });\n&sol;*--&gt;*&sol;\n\ncall_DataFrame(function() { DataFrame.renderTable(218103809) });\n\n\n\n        &lt;&sol;script&gt;\n        &lt;&sol;html&gt;\"></iframe>\n            <script>\n                function o_resize_iframe_out_2() {\n                    let elem = document.getElementById(\"iframe_out_2\");\n                    resize_iframe_out_2(elem);\n                    setInterval(resize_iframe_out_2, 5000, elem);\n                }\n                function resize_iframe_out_2(el) {\n                    let h = el.contentWindow.document.body.scrollHeight;\n                    el.height = h === 0 ? 0 : h + 41;\n                }\n            </script>",
      "application/kotlindataframe+json": "{\"nrow\":150,\"ncol\":1,\"columns\":[\"petal_length\"],\"kotlin_dataframe\":[{\"petal_length\":14.0},{\"petal_length\":14.0},{\"petal_length\":13.0},{\"petal_length\":15.0},{\"petal_length\":14.0},{\"petal_length\":17.0},{\"petal_length\":14.0},{\"petal_length\":15.0},{\"petal_length\":14.0},{\"petal_length\":15.0},{\"petal_length\":15.0},{\"petal_length\":16.0},{\"petal_length\":14.0},{\"petal_length\":11.0},{\"petal_length\":12.0},{\"petal_length\":15.0},{\"petal_length\":13.0},{\"petal_length\":14.0},{\"petal_length\":17.0},{\"petal_length\":15.0}]}"
     },
     "execution_count": 41,
     "metadata": {},
     "output_type": "execute_result"
    }
   ],
   "metadata": {
    "datalore": {
     "node_id": "OkAXMhG1Eomte4f4DnHb9m",
     "type": "CODE",
     "hide_input_from_viewers": false,
     "hide_output_from_viewers": false,
     "report_properties": {
      "rowId": "xFAglDJWidcFI2TQdbYjd0",
      "relativeY": 0
     }
    }
   }
  },
  {
   "cell_type": "code",
   "source": [
    "df.filter { petal_width >= 1.5 && petal_length < 4.5 }"
   ],
   "execution_count": 42,
   "outputs": [
    {
     "data": {
      "text/html": "            <iframe onload=\"o_resize_iframe_out_3()\" style=\"width:100%;\" class=\"result_container\" id=\"iframe_out_3\" frameBorder=\"0\" srcdoc=\"        &lt;html theme='dark'&gt;\n        &lt;head&gt;\n            &lt;style type=&quot;text&sol;css&quot;&gt;\n                :root {\n    --background: #fff;\n    --background-odd: #f5f5f5;\n    --background-hover: #d9edfd;\n    --header-text-color: #474747;\n    --text-color: #848484;\n    --text-color-dark: #000;\n    --text-color-medium: #737373;\n    --text-color-pale: #b3b3b3;\n    --inner-border-color: #aaa;\n    --bold-border-color: #000;\n    --link-color: #296eaa;\n    --link-color-pale: #296eaa;\n    --link-hover: #1a466c;\n}\n\n:root[theme=&quot;dark&quot;], :root [data-jp-theme-light=&quot;false&quot;], .dataframe_dark{\n    --background: #303030;\n    --background-odd: #3c3c3c;\n    --background-hover: #464646;\n    --header-text-color: #dddddd;\n    --text-color: #b3b3b3;\n    --text-color-dark: #dddddd;\n    --text-color-medium: #b2b2b2;\n    --text-color-pale: #737373;\n    --inner-border-color: #707070;\n    --bold-border-color: #777777;\n    --link-color: #008dc0;\n    --link-color-pale: #97e1fb;\n    --link-hover: #00688e;\n}\n\np.dataframe_description {\n    color: var(--text-color-dark);\n}\n\ntable.dataframe {\n    font-family: &quot;Helvetica Neue&quot;, Helvetica, Arial, sans-serif;\n    font-size: 12px;\n    background-color: var(--background);\n    color: var(--text-color-dark);\n    border: none;\n    border-collapse: collapse;\n}\n\ntable.dataframe th, td {\n    padding: 6px;\n    border: 1px solid transparent;\n    text-align: left;\n}\n\ntable.dataframe th {\n    background-color: var(--background);\n    color: var(--header-text-color);\n}\n\ntable.dataframe td {\n    vertical-align: top;\n}\n\ntable.dataframe th.bottomBorder {\n    border-bottom-color: var(--bold-border-color);\n}\n\ntable.dataframe tbody &gt; tr:nth-child(odd) {\n    background: var(--background-odd);\n}\n\ntable.dataframe tbody &gt; tr:nth-child(even) {\n    background: var(--background);\n}\n\ntable.dataframe tbody &gt; tr:hover {\n    background: var(--background-hover);\n}\n\ntable.dataframe a {\n    cursor: pointer;\n    color: var(--link-color);\n    text-decoration: none;\n}\n\ntable.dataframe tr:hover &gt; td a {\n    color: var(--link-color-pale);\n}\n\ntable.dataframe a:hover {\n    color: var(--link-hover);\n    text-decoration: underline;\n}\n\ntable.dataframe img {\n    max-width: fit-content;\n}\n\ntable.dataframe th.complex {\n    background-color: var(--background);\n    border: 1px solid var(--background);\n}\n\ntable.dataframe .leftBorder {\n    border-left-color: var(--inner-border-color);\n}\n\ntable.dataframe .rightBorder {\n    border-right-color: var(--inner-border-color);\n}\n\ntable.dataframe .rightAlign {\n    text-align: right;\n}\n\ntable.dataframe .expanderSvg {\n    width: 8px;\n    height: 8px;\n    margin-right: 3px;\n}\n\ntable.dataframe .expander {\n    display: flex;\n    align-items: center;\n}\n\n&sol;* formatting *&sol;\n\ntable.dataframe .null {\n    color: var(--text-color-pale);\n}\n\ntable.dataframe .structural {\n    color: var(--text-color-medium);\n    font-weight: bold;\n}\n\ntable.dataframe .dataFrameCaption {\n    font-weight: bold;\n}\n\ntable.dataframe .numbers {\n    color: var(--text-color-dark);\n}\n\ntable.dataframe td:hover .formatted .structural, .null {\n    color: var(--text-color-dark);\n}\n\ntable.dataframe tr:hover .formatted .structural, .null {\n    color: var(--text-color-dark);\n}\n\n\n\n\n:root {\n    --scroll-bg: #f5f5f5;\n    --scroll-fg: #b3b3b3;\n}\n:root[theme=&quot;dark&quot;], :root [data-jp-theme-light=&quot;false&quot;]{\n    --scroll-bg: #3c3c3c;\n    --scroll-fg: #97e1fb;\n}\nbody {\n    scrollbar-color: var(--scroll-fg) var(--scroll-bg);\n}\nbody::-webkit-scrollbar {\n    width: 10px; &sol;* Mostly for vertical scrollbars *&sol;\n    height: 10px; &sol;* Mostly for horizontal scrollbars *&sol;\n}\nbody::-webkit-scrollbar-thumb {\n    background-color: var(--scroll-fg);\n}\nbody::-webkit-scrollbar-track {\n    background-color: var(--scroll-bg);\n}\n            &lt;&sol;style&gt;\n        &lt;&sol;head&gt;\n        &lt;body&gt;\n            \n&lt;table class=&quot;dataframe&quot; id=&quot;df_218103810&quot;&gt;&lt;&sol;table&gt;\n\n&lt;p class=&quot;dataframe_description&quot;&gt;DataFrame: rowsCount = 0, columnsCount = 5&lt;&sol;p&gt;\n\n        &lt;&sol;body&gt;\n        &lt;script&gt;\n            (function () {\n    window.DataFrame = window.DataFrame || new (function () {\n        this.addTable = function (df) {\n            let cols = df.cols;\n            for (let i = 0; i &lt; cols.length; i++) {\n                for (let c of cols[i].children) {\n                    cols[c].parent = i;\n                }\n            }\n            df.nrow = 0\n            for (let i = 0; i &lt; df.cols.length; i++) {\n                if (df.cols[i].values.length &gt; df.nrow) df.nrow = df.cols[i].values.length\n            }\n            if (df.id === df.rootId) {\n                df.expandedFrames = new Set()\n                df.childFrames = {}\n                const table = this.getTableElement(df.id)\n                table.df = df\n                for (let i = 0; i &lt; df.cols.length; i++) {\n                    let col = df.cols[i]\n                    if (col.parent === undefined &amp;&amp; col.children.length &gt; 0) col.expanded = true\n                }\n            } else {\n                const rootDf = this.getTableData(df.rootId)\n                rootDf.childFrames[df.id] = df\n            }\n        }\n\n        this.computeRenderData = function (df) {\n            let result = []\n            let pos = 0\n            for (let col = 0; col &lt; df.cols.length; col++) {\n                if (df.cols[col].parent === undefined)\n                    pos += this.computeRenderDataRec(df.cols, col, pos, 0, result, false, false)\n            }\n            for (let i = 0; i &lt; result.length; i++) {\n                let row = result[i]\n                for (let j = 0; j &lt; row.length; j++) {\n                    let cell = row[j]\n                    if (j === 0)\n                        cell.leftBd = false\n                    if (j &lt; row.length - 1) {\n                        let nextData = row[j + 1]\n                        if (nextData.leftBd) cell.rightBd = true\n                        else if (cell.rightBd) nextData.leftBd = true\n                    } else cell.rightBd = false\n                }\n            }\n            return result\n        }\n\n        this.computeRenderDataRec = function (cols, colId, pos, depth, result, leftBorder, rightBorder) {\n            if (result.length === depth) {\n                const array = [];\n                if (pos &gt; 0) {\n                    let j = 0\n                    for (let i = 0; j &lt; pos; i++) {\n                        let c = result[depth - 1][i]\n                        j += c.span\n                        let copy = Object.assign({empty: true}, c)\n                        array.push(copy)\n                    }\n                }\n                result.push(array)\n            }\n            const col = cols[colId];\n            let size = 0;\n            if (col.expanded) {\n                let childPos = pos\n                for (let i = 0; i &lt; col.children.length; i++) {\n                    let child = col.children[i]\n                    let childLeft = i === 0 &amp;&amp; (col.children.length &gt; 1 || leftBorder)\n                    let childRight = i === col.children.length - 1 &amp;&amp; (col.children.length &gt; 1 || rightBorder)\n                    let childSize = this.computeRenderDataRec(cols, child, childPos, depth + 1, result, childLeft, childRight)\n                    childPos += childSize\n                    size += childSize\n                }\n            } else {\n                for (let i = depth + 1; i &lt; result.length; i++)\n                    result[i].push({id: colId, span: 1, leftBd: leftBorder, rightBd: rightBorder, empty: true})\n                size = 1\n            }\n            let left = leftBorder\n            let right = rightBorder\n            if (size &gt; 1) {\n                left = true\n                right = true\n            }\n            result[depth].push({id: colId, span: size, leftBd: left, rightBd: right})\n            return size\n        }\n\n        this.getTableElement = function (id) {\n            return document.getElementById(&quot;df_&quot; + id)\n        }\n\n        this.getTableData = function (id) {\n            return this.getTableElement(id).df\n        }\n\n        this.createExpander = function (isExpanded) {\n            const svgNs = &quot;http:&sol;&sol;www.w3.org&sol;2000&sol;svg&quot;\n            let svg = document.createElementNS(svgNs, &quot;svg&quot;)\n            svg.classList.add(&quot;expanderSvg&quot;)\n            let path = document.createElementNS(svgNs, &quot;path&quot;)\n            if (isExpanded) {\n                svg.setAttribute(&quot;viewBox&quot;, &quot;0 -2 8 8&quot;)\n                path.setAttribute(&quot;d&quot;, &quot;M1 0 l-1 1 4 4 4 -4 -1 -1 -3 3Z&quot;)\n            } else {\n                svg.setAttribute(&quot;viewBox&quot;, &quot;-2 0 8 8&quot;)\n                path.setAttribute(&quot;d&quot;, &quot;M1 0 l-1 1 3 3 -3 3 1 1 4 -4Z&quot;)\n            }\n            path.setAttribute(&quot;fill&quot;, &quot;currentColor&quot;)\n            svg.appendChild(path)\n            return svg\n        }\n\n        this.renderTable = function (id) {\n\n            let table = this.getTableElement(id)\n\n            if (table === null) return\n\n            table.innerHTML = &quot;&quot;\n\n            let df = table.df\n            let rootDf = df.rootId === df.id ? df : this.getTableData(df.rootId)\n\n            &sol;&sol; header\n            let header = document.createElement(&quot;thead&quot;)\n            table.appendChild(header)\n\n            let renderData = this.computeRenderData(df)\n            for (let j = 0; j &lt; renderData.length; j++) {\n                let rowData = renderData[j]\n                let tr = document.createElement(&quot;tr&quot;);\n                let isLastRow = j === renderData.length - 1\n                header.appendChild(tr);\n                for (let i = 0; i &lt; rowData.length; i++) {\n                    let cell = rowData[i]\n                    let th = document.createElement(&quot;th&quot;);\n                    th.setAttribute(&quot;colspan&quot;, cell.span)\n                    let colId = cell.id\n                    let col = df.cols[colId];\n                    if (!cell.empty) {\n                        if (col.children.length === 0) {\n                            th.innerHTML = col.name\n                        } else {\n                            let link = document.createElement(&quot;a&quot;)\n                            link.className = &quot;expander&quot;\n                            let that = this\n                            link.onclick = function () {\n                                col.expanded = !col.expanded\n                                that.renderTable(id)\n                            }\n                            link.appendChild(this.createExpander(col.expanded))\n                            link.innerHTML += col.name\n                            th.appendChild(link)\n                        }\n                    }\n                    let classes = (cell.leftBd ? &quot; leftBorder&quot; : &quot;&quot;) + (cell.rightBd ? &quot; rightBorder&quot; : &quot;&quot;)\n                    if (col.rightAlign)\n                        classes += &quot; rightAlign&quot;\n                    if (isLastRow)\n                        classes += &quot; bottomBorder&quot;\n                    if (classes.length &gt; 0)\n                        th.setAttribute(&quot;class&quot;, classes)\n                    tr.appendChild(th)\n                }\n            }\n\n            &sol;&sol; body\n            let body = document.createElement(&quot;tbody&quot;)\n            table.appendChild(body)\n\n            let columns = renderData.pop()\n            for (let row = 0; row &lt; df.nrow; row++) {\n                let tr = document.createElement(&quot;tr&quot;);\n                body.appendChild(tr)\n                for (let i = 0; i &lt; columns.length; i++) {\n                    let cell = columns[i]\n                    let td = document.createElement(&quot;td&quot;);\n                    let colId = cell.id\n                    let col = df.cols[colId]\n                    let classes = (cell.leftBd ? &quot; leftBorder&quot; : &quot;&quot;) + (cell.rightBd ? &quot; rightBorder&quot; : &quot;&quot;)\n                    if (col.rightAlign)\n                        classes += &quot; rightAlign&quot;\n                    if (classes.length &gt; 0)\n                        td.setAttribute(&quot;class&quot;, classes)\n                    tr.appendChild(td)\n                    let value = col.values[row]\n                    if (value.frameId !== undefined) {\n                        let frameId = value.frameId\n                        let expanded = rootDf.expandedFrames.has(frameId)\n                        let link = document.createElement(&quot;a&quot;)\n                        link.className = &quot;expander&quot;\n                        let that = this\n                        link.onclick = function () {\n                            if (rootDf.expandedFrames.has(frameId))\n                                rootDf.expandedFrames.delete(frameId)\n                            else rootDf.expandedFrames.add(frameId)\n                            that.renderTable(id)\n                        }\n                        link.appendChild(this.createExpander(expanded))\n                        link.innerHTML += value.value\n                        if (expanded) {\n                            td.appendChild(link)\n                            td.appendChild(document.createElement(&quot;p&quot;))\n                            const childTable = document.createElement(&quot;table&quot;)\n                            childTable.className = &quot;dataframe&quot;\n                            childTable.id = &quot;df_&quot; + frameId\n                            let childDf = rootDf.childFrames[frameId]\n                            childTable.df = childDf\n                            td.appendChild(childTable)\n                            this.renderTable(frameId)\n                            if (childDf.nrow !== childDf.totalRows) {\n                                const footer = document.createElement(&quot;p&quot;)\n                                footer.innerText = `... showing only top ${childDf.nrow} of ${childDf.totalRows} rows`\n                                td.appendChild(footer)\n                            }\n                        } else {\n                            td.appendChild(link)\n                        }\n                    } else if (value.style !== undefined) {\n                        td.innerHTML = value.value\n                        td.setAttribute(&quot;style&quot;, value.style)\n                    } else td.innerHTML = value\n                    this.nodeScriptReplace(td)\n                }\n            }\n        }\n\n        this.nodeScriptReplace = function (node) {\n            if (this.nodeScriptIs(node) === true) {\n                node.parentNode.replaceChild(this.nodeScriptClone(node), node);\n            } else {\n                let i = -1, children = node.childNodes;\n                while (++i &lt; children.length) {\n                    this.nodeScriptReplace(children[i]);\n                }\n            }\n\n            return node;\n        }\n\n        this.nodeScriptClone = function (node) {\n            let script = document.createElement(&quot;script&quot;);\n            script.text = node.innerHTML;\n\n            let i = -1, attrs = node.attributes, attr;\n            while (++i &lt; attrs.length) {\n                script.setAttribute((attr = attrs[i]).name, attr.value);\n            }\n            return script;\n        }\n\n        this.nodeScriptIs = function (node) {\n            return node.tagName === 'SCRIPT';\n        }\n    })()\n\n    window.call_DataFrame = function (f) {\n        return f();\n    };\n\n    let funQueue = window[&quot;kotlinQueues&quot;] &amp;&amp; window[&quot;kotlinQueues&quot;][&quot;DataFrame&quot;];\n    if (funQueue) {\n        funQueue.forEach(function (f) {\n            f();\n        });\n        funQueue = [];\n    }\n})()\n\n&sol;*&lt;!--*&sol;\ncall_DataFrame(function() { DataFrame.addTable({ cols: [{ name: &quot;&lt;span title=&bsol;&quot;sepal_length: Double&bsol;&quot;&gt;sepal_length&lt;&sol;span&gt;&quot;, children: [], rightAlign: true, values: [] }, \n{ name: &quot;&lt;span title=&bsol;&quot;sepal_width: Double&bsol;&quot;&gt;sepal_width&lt;&sol;span&gt;&quot;, children: [], rightAlign: true, values: [] }, \n{ name: &quot;&lt;span title=&bsol;&quot;petal_length: Double&bsol;&quot;&gt;petal_length&lt;&sol;span&gt;&quot;, children: [], rightAlign: true, values: [] }, \n{ name: &quot;&lt;span title=&bsol;&quot;petal_width: Double&bsol;&quot;&gt;petal_width&lt;&sol;span&gt;&quot;, children: [], rightAlign: true, values: [] }, \n{ name: &quot;&lt;span title=&bsol;&quot;species: String&bsol;&quot;&gt;species&lt;&sol;span&gt;&quot;, children: [], rightAlign: false, values: [] }, \n], id: 218103810, rootId: 218103810, totalRows: 0 } ) });\n&sol;*--&gt;*&sol;\n\ncall_DataFrame(function() { DataFrame.renderTable(218103810) });\n\n\n\n        &lt;&sol;script&gt;\n        &lt;&sol;html&gt;\"></iframe>\n            <script>\n                function o_resize_iframe_out_3() {\n                    let elem = document.getElementById(\"iframe_out_3\");\n                    resize_iframe_out_3(elem);\n                    setInterval(resize_iframe_out_3, 5000, elem);\n                }\n                function resize_iframe_out_3(el) {\n                    let h = el.contentWindow.document.body.scrollHeight;\n                    el.height = h === 0 ? 0 : h + 41;\n                }\n            </script>",
      "application/kotlindataframe+json": "{\"nrow\":0,\"ncol\":5,\"columns\":[\"sepal_length\",\"sepal_width\",\"petal_length\",\"petal_width\",\"species\"],\"kotlin_dataframe\":[]}"
     },
     "execution_count": 42,
     "metadata": {},
     "output_type": "execute_result"
    }
   ],
   "metadata": {
    "datalore": {
     "node_id": "awr9tJ0VvgcHq5Q9IARJSM",
     "type": "CODE",
     "hide_input_from_viewers": false,
     "hide_output_from_viewers": false,
     "report_properties": {
      "rowId": "0EYlIsyGvjtd350etFzHGK",
      "relativeY": 0
     }
    }
   }
  },
  {
   "cell_type": "markdown",
   "source": [
    "There is also a special variable in the integration to manage display options. For example, we can limit number of displayed rows."
   ],
   "attachments": {},
   "metadata": {
    "datalore": {
     "node_id": "KayfiFeL7uKDFiZdPeicyj",
     "type": "MD",
     "hide_input_from_viewers": false,
     "hide_output_from_viewers": false,
     "report_properties": {
      "rowId": "reafldOSgt4kb4mEVSQ6n4",
      "relativeY": 0
     }
    }
   }
  },
  {
   "cell_type": "code",
   "source": [
    "dataFrameConfig.display.rowsLimit = 5"
   ],
   "execution_count": 43,
   "outputs": [],
   "metadata": {
    "datalore": {
     "node_id": "oZ1SmAoFX55CU9Vxre4EXG",
     "type": "CODE",
     "hide_input_from_viewers": false,
     "hide_output_from_viewers": false,
     "report_properties": {
      "rowId": "qCEyukDdjnJYHytebGaxRz",
      "relativeY": 0
     }
    }
   }
  },
  {
   "cell_type": "code",
   "source": [
    "df"
   ],
   "execution_count": 44,
   "outputs": [
    {
     "data": {
      "text/html": "            <iframe onload=\"o_resize_iframe_out_4()\" style=\"width:100%;\" class=\"result_container\" id=\"iframe_out_4\" frameBorder=\"0\" srcdoc=\"        &lt;html theme='dark'&gt;\n        &lt;head&gt;\n            &lt;style type=&quot;text&sol;css&quot;&gt;\n                :root {\n    --background: #fff;\n    --background-odd: #f5f5f5;\n    --background-hover: #d9edfd;\n    --header-text-color: #474747;\n    --text-color: #848484;\n    --text-color-dark: #000;\n    --text-color-medium: #737373;\n    --text-color-pale: #b3b3b3;\n    --inner-border-color: #aaa;\n    --bold-border-color: #000;\n    --link-color: #296eaa;\n    --link-color-pale: #296eaa;\n    --link-hover: #1a466c;\n}\n\n:root[theme=&quot;dark&quot;], :root [data-jp-theme-light=&quot;false&quot;], .dataframe_dark{\n    --background: #303030;\n    --background-odd: #3c3c3c;\n    --background-hover: #464646;\n    --header-text-color: #dddddd;\n    --text-color: #b3b3b3;\n    --text-color-dark: #dddddd;\n    --text-color-medium: #b2b2b2;\n    --text-color-pale: #737373;\n    --inner-border-color: #707070;\n    --bold-border-color: #777777;\n    --link-color: #008dc0;\n    --link-color-pale: #97e1fb;\n    --link-hover: #00688e;\n}\n\np.dataframe_description {\n    color: var(--text-color-dark);\n}\n\ntable.dataframe {\n    font-family: &quot;Helvetica Neue&quot;, Helvetica, Arial, sans-serif;\n    font-size: 12px;\n    background-color: var(--background);\n    color: var(--text-color-dark);\n    border: none;\n    border-collapse: collapse;\n}\n\ntable.dataframe th, td {\n    padding: 6px;\n    border: 1px solid transparent;\n    text-align: left;\n}\n\ntable.dataframe th {\n    background-color: var(--background);\n    color: var(--header-text-color);\n}\n\ntable.dataframe td {\n    vertical-align: top;\n}\n\ntable.dataframe th.bottomBorder {\n    border-bottom-color: var(--bold-border-color);\n}\n\ntable.dataframe tbody &gt; tr:nth-child(odd) {\n    background: var(--background-odd);\n}\n\ntable.dataframe tbody &gt; tr:nth-child(even) {\n    background: var(--background);\n}\n\ntable.dataframe tbody &gt; tr:hover {\n    background: var(--background-hover);\n}\n\ntable.dataframe a {\n    cursor: pointer;\n    color: var(--link-color);\n    text-decoration: none;\n}\n\ntable.dataframe tr:hover &gt; td a {\n    color: var(--link-color-pale);\n}\n\ntable.dataframe a:hover {\n    color: var(--link-hover);\n    text-decoration: underline;\n}\n\ntable.dataframe img {\n    max-width: fit-content;\n}\n\ntable.dataframe th.complex {\n    background-color: var(--background);\n    border: 1px solid var(--background);\n}\n\ntable.dataframe .leftBorder {\n    border-left-color: var(--inner-border-color);\n}\n\ntable.dataframe .rightBorder {\n    border-right-color: var(--inner-border-color);\n}\n\ntable.dataframe .rightAlign {\n    text-align: right;\n}\n\ntable.dataframe .expanderSvg {\n    width: 8px;\n    height: 8px;\n    margin-right: 3px;\n}\n\ntable.dataframe .expander {\n    display: flex;\n    align-items: center;\n}\n\n&sol;* formatting *&sol;\n\ntable.dataframe .null {\n    color: var(--text-color-pale);\n}\n\ntable.dataframe .structural {\n    color: var(--text-color-medium);\n    font-weight: bold;\n}\n\ntable.dataframe .dataFrameCaption {\n    font-weight: bold;\n}\n\ntable.dataframe .numbers {\n    color: var(--text-color-dark);\n}\n\ntable.dataframe td:hover .formatted .structural, .null {\n    color: var(--text-color-dark);\n}\n\ntable.dataframe tr:hover .formatted .structural, .null {\n    color: var(--text-color-dark);\n}\n\n\n\n\n:root {\n    --scroll-bg: #f5f5f5;\n    --scroll-fg: #b3b3b3;\n}\n:root[theme=&quot;dark&quot;], :root [data-jp-theme-light=&quot;false&quot;]{\n    --scroll-bg: #3c3c3c;\n    --scroll-fg: #97e1fb;\n}\nbody {\n    scrollbar-color: var(--scroll-fg) var(--scroll-bg);\n}\nbody::-webkit-scrollbar {\n    width: 10px; &sol;* Mostly for vertical scrollbars *&sol;\n    height: 10px; &sol;* Mostly for horizontal scrollbars *&sol;\n}\nbody::-webkit-scrollbar-thumb {\n    background-color: var(--scroll-fg);\n}\nbody::-webkit-scrollbar-track {\n    background-color: var(--scroll-bg);\n}\n            &lt;&sol;style&gt;\n        &lt;&sol;head&gt;\n        &lt;body&gt;\n            \n&lt;table class=&quot;dataframe&quot; id=&quot;df_218103811&quot;&gt;&lt;&sol;table&gt;\n\n&lt;p class=&quot;dataframe_description&quot;&gt;... showing only top 5 of 150 rows&lt;&sol;p&gt;&lt;p class=&quot;dataframe_description&quot;&gt;DataFrame: rowsCount = 150, columnsCount = 5&lt;&sol;p&gt;\n\n        &lt;&sol;body&gt;\n        &lt;script&gt;\n            (function () {\n    window.DataFrame = window.DataFrame || new (function () {\n        this.addTable = function (df) {\n            let cols = df.cols;\n            for (let i = 0; i &lt; cols.length; i++) {\n                for (let c of cols[i].children) {\n                    cols[c].parent = i;\n                }\n            }\n            df.nrow = 0\n            for (let i = 0; i &lt; df.cols.length; i++) {\n                if (df.cols[i].values.length &gt; df.nrow) df.nrow = df.cols[i].values.length\n            }\n            if (df.id === df.rootId) {\n                df.expandedFrames = new Set()\n                df.childFrames = {}\n                const table = this.getTableElement(df.id)\n                table.df = df\n                for (let i = 0; i &lt; df.cols.length; i++) {\n                    let col = df.cols[i]\n                    if (col.parent === undefined &amp;&amp; col.children.length &gt; 0) col.expanded = true\n                }\n            } else {\n                const rootDf = this.getTableData(df.rootId)\n                rootDf.childFrames[df.id] = df\n            }\n        }\n\n        this.computeRenderData = function (df) {\n            let result = []\n            let pos = 0\n            for (let col = 0; col &lt; df.cols.length; col++) {\n                if (df.cols[col].parent === undefined)\n                    pos += this.computeRenderDataRec(df.cols, col, pos, 0, result, false, false)\n            }\n            for (let i = 0; i &lt; result.length; i++) {\n                let row = result[i]\n                for (let j = 0; j &lt; row.length; j++) {\n                    let cell = row[j]\n                    if (j === 0)\n                        cell.leftBd = false\n                    if (j &lt; row.length - 1) {\n                        let nextData = row[j + 1]\n                        if (nextData.leftBd) cell.rightBd = true\n                        else if (cell.rightBd) nextData.leftBd = true\n                    } else cell.rightBd = false\n                }\n            }\n            return result\n        }\n\n        this.computeRenderDataRec = function (cols, colId, pos, depth, result, leftBorder, rightBorder) {\n            if (result.length === depth) {\n                const array = [];\n                if (pos &gt; 0) {\n                    let j = 0\n                    for (let i = 0; j &lt; pos; i++) {\n                        let c = result[depth - 1][i]\n                        j += c.span\n                        let copy = Object.assign({empty: true}, c)\n                        array.push(copy)\n                    }\n                }\n                result.push(array)\n            }\n            const col = cols[colId];\n            let size = 0;\n            if (col.expanded) {\n                let childPos = pos\n                for (let i = 0; i &lt; col.children.length; i++) {\n                    let child = col.children[i]\n                    let childLeft = i === 0 &amp;&amp; (col.children.length &gt; 1 || leftBorder)\n                    let childRight = i === col.children.length - 1 &amp;&amp; (col.children.length &gt; 1 || rightBorder)\n                    let childSize = this.computeRenderDataRec(cols, child, childPos, depth + 1, result, childLeft, childRight)\n                    childPos += childSize\n                    size += childSize\n                }\n            } else {\n                for (let i = depth + 1; i &lt; result.length; i++)\n                    result[i].push({id: colId, span: 1, leftBd: leftBorder, rightBd: rightBorder, empty: true})\n                size = 1\n            }\n            let left = leftBorder\n            let right = rightBorder\n            if (size &gt; 1) {\n                left = true\n                right = true\n            }\n            result[depth].push({id: colId, span: size, leftBd: left, rightBd: right})\n            return size\n        }\n\n        this.getTableElement = function (id) {\n            return document.getElementById(&quot;df_&quot; + id)\n        }\n\n        this.getTableData = function (id) {\n            return this.getTableElement(id).df\n        }\n\n        this.createExpander = function (isExpanded) {\n            const svgNs = &quot;http:&sol;&sol;www.w3.org&sol;2000&sol;svg&quot;\n            let svg = document.createElementNS(svgNs, &quot;svg&quot;)\n            svg.classList.add(&quot;expanderSvg&quot;)\n            let path = document.createElementNS(svgNs, &quot;path&quot;)\n            if (isExpanded) {\n                svg.setAttribute(&quot;viewBox&quot;, &quot;0 -2 8 8&quot;)\n                path.setAttribute(&quot;d&quot;, &quot;M1 0 l-1 1 4 4 4 -4 -1 -1 -3 3Z&quot;)\n            } else {\n                svg.setAttribute(&quot;viewBox&quot;, &quot;-2 0 8 8&quot;)\n                path.setAttribute(&quot;d&quot;, &quot;M1 0 l-1 1 3 3 -3 3 1 1 4 -4Z&quot;)\n            }\n            path.setAttribute(&quot;fill&quot;, &quot;currentColor&quot;)\n            svg.appendChild(path)\n            return svg\n        }\n\n        this.renderTable = function (id) {\n\n            let table = this.getTableElement(id)\n\n            if (table === null) return\n\n            table.innerHTML = &quot;&quot;\n\n            let df = table.df\n            let rootDf = df.rootId === df.id ? df : this.getTableData(df.rootId)\n\n            &sol;&sol; header\n            let header = document.createElement(&quot;thead&quot;)\n            table.appendChild(header)\n\n            let renderData = this.computeRenderData(df)\n            for (let j = 0; j &lt; renderData.length; j++) {\n                let rowData = renderData[j]\n                let tr = document.createElement(&quot;tr&quot;);\n                let isLastRow = j === renderData.length - 1\n                header.appendChild(tr);\n                for (let i = 0; i &lt; rowData.length; i++) {\n                    let cell = rowData[i]\n                    let th = document.createElement(&quot;th&quot;);\n                    th.setAttribute(&quot;colspan&quot;, cell.span)\n                    let colId = cell.id\n                    let col = df.cols[colId];\n                    if (!cell.empty) {\n                        if (col.children.length === 0) {\n                            th.innerHTML = col.name\n                        } else {\n                            let link = document.createElement(&quot;a&quot;)\n                            link.className = &quot;expander&quot;\n                            let that = this\n                            link.onclick = function () {\n                                col.expanded = !col.expanded\n                                that.renderTable(id)\n                            }\n                            link.appendChild(this.createExpander(col.expanded))\n                            link.innerHTML += col.name\n                            th.appendChild(link)\n                        }\n                    }\n                    let classes = (cell.leftBd ? &quot; leftBorder&quot; : &quot;&quot;) + (cell.rightBd ? &quot; rightBorder&quot; : &quot;&quot;)\n                    if (col.rightAlign)\n                        classes += &quot; rightAlign&quot;\n                    if (isLastRow)\n                        classes += &quot; bottomBorder&quot;\n                    if (classes.length &gt; 0)\n                        th.setAttribute(&quot;class&quot;, classes)\n                    tr.appendChild(th)\n                }\n            }\n\n            &sol;&sol; body\n            let body = document.createElement(&quot;tbody&quot;)\n            table.appendChild(body)\n\n            let columns = renderData.pop()\n            for (let row = 0; row &lt; df.nrow; row++) {\n                let tr = document.createElement(&quot;tr&quot;);\n                body.appendChild(tr)\n                for (let i = 0; i &lt; columns.length; i++) {\n                    let cell = columns[i]\n                    let td = document.createElement(&quot;td&quot;);\n                    let colId = cell.id\n                    let col = df.cols[colId]\n                    let classes = (cell.leftBd ? &quot; leftBorder&quot; : &quot;&quot;) + (cell.rightBd ? &quot; rightBorder&quot; : &quot;&quot;)\n                    if (col.rightAlign)\n                        classes += &quot; rightAlign&quot;\n                    if (classes.length &gt; 0)\n                        td.setAttribute(&quot;class&quot;, classes)\n                    tr.appendChild(td)\n                    let value = col.values[row]\n                    if (value.frameId !== undefined) {\n                        let frameId = value.frameId\n                        let expanded = rootDf.expandedFrames.has(frameId)\n                        let link = document.createElement(&quot;a&quot;)\n                        link.className = &quot;expander&quot;\n                        let that = this\n                        link.onclick = function () {\n                            if (rootDf.expandedFrames.has(frameId))\n                                rootDf.expandedFrames.delete(frameId)\n                            else rootDf.expandedFrames.add(frameId)\n                            that.renderTable(id)\n                        }\n                        link.appendChild(this.createExpander(expanded))\n                        link.innerHTML += value.value\n                        if (expanded) {\n                            td.appendChild(link)\n                            td.appendChild(document.createElement(&quot;p&quot;))\n                            const childTable = document.createElement(&quot;table&quot;)\n                            childTable.className = &quot;dataframe&quot;\n                            childTable.id = &quot;df_&quot; + frameId\n                            let childDf = rootDf.childFrames[frameId]\n                            childTable.df = childDf\n                            td.appendChild(childTable)\n                            this.renderTable(frameId)\n                            if (childDf.nrow !== childDf.totalRows) {\n                                const footer = document.createElement(&quot;p&quot;)\n                                footer.innerText = `... showing only top ${childDf.nrow} of ${childDf.totalRows} rows`\n                                td.appendChild(footer)\n                            }\n                        } else {\n                            td.appendChild(link)\n                        }\n                    } else if (value.style !== undefined) {\n                        td.innerHTML = value.value\n                        td.setAttribute(&quot;style&quot;, value.style)\n                    } else td.innerHTML = value\n                    this.nodeScriptReplace(td)\n                }\n            }\n        }\n\n        this.nodeScriptReplace = function (node) {\n            if (this.nodeScriptIs(node) === true) {\n                node.parentNode.replaceChild(this.nodeScriptClone(node), node);\n            } else {\n                let i = -1, children = node.childNodes;\n                while (++i &lt; children.length) {\n                    this.nodeScriptReplace(children[i]);\n                }\n            }\n\n            return node;\n        }\n\n        this.nodeScriptClone = function (node) {\n            let script = document.createElement(&quot;script&quot;);\n            script.text = node.innerHTML;\n\n            let i = -1, attrs = node.attributes, attr;\n            while (++i &lt; attrs.length) {\n                script.setAttribute((attr = attrs[i]).name, attr.value);\n            }\n            return script;\n        }\n\n        this.nodeScriptIs = function (node) {\n            return node.tagName === 'SCRIPT';\n        }\n    })()\n\n    window.call_DataFrame = function (f) {\n        return f();\n    };\n\n    let funQueue = window[&quot;kotlinQueues&quot;] &amp;&amp; window[&quot;kotlinQueues&quot;][&quot;DataFrame&quot;];\n    if (funQueue) {\n        funQueue.forEach(function (f) {\n            f();\n        });\n        funQueue = [];\n    }\n})()\n\n&sol;*&lt;!--*&sol;\ncall_DataFrame(function() { DataFrame.addTable({ cols: [{ name: &quot;&lt;span title=&bsol;&quot;sepal_length: Double&bsol;&quot;&gt;sepal_length&lt;&sol;span&gt;&quot;, children: [], rightAlign: true, values: [&quot;&lt;span class=&bsol;&quot;formatted&bsol;&quot; title=&bsol;&quot;&bsol;&quot;&gt;&lt;span class=&bsol;&quot;numbers&bsol;&quot;&gt;51,0&lt;&sol;span&gt;&lt;&sol;span&gt;&quot;,&quot;&lt;span class=&bsol;&quot;formatted&bsol;&quot; title=&bsol;&quot;&bsol;&quot;&gt;&lt;span class=&bsol;&quot;numbers&bsol;&quot;&gt;49,0&lt;&sol;span&gt;&lt;&sol;span&gt;&quot;,&quot;&lt;span class=&bsol;&quot;formatted&bsol;&quot; title=&bsol;&quot;&bsol;&quot;&gt;&lt;span class=&bsol;&quot;numbers&bsol;&quot;&gt;47,0&lt;&sol;span&gt;&lt;&sol;span&gt;&quot;,&quot;&lt;span class=&bsol;&quot;formatted&bsol;&quot; title=&bsol;&quot;&bsol;&quot;&gt;&lt;span class=&bsol;&quot;numbers&bsol;&quot;&gt;46,0&lt;&sol;span&gt;&lt;&sol;span&gt;&quot;,&quot;&lt;span class=&bsol;&quot;formatted&bsol;&quot; title=&bsol;&quot;&bsol;&quot;&gt;&lt;span class=&bsol;&quot;numbers&bsol;&quot;&gt;50,0&lt;&sol;span&gt;&lt;&sol;span&gt;&quot;] }, \n{ name: &quot;&lt;span title=&bsol;&quot;sepal_width: Double&bsol;&quot;&gt;sepal_width&lt;&sol;span&gt;&quot;, children: [], rightAlign: true, values: [&quot;&lt;span class=&bsol;&quot;formatted&bsol;&quot; title=&bsol;&quot;&bsol;&quot;&gt;&lt;span class=&bsol;&quot;numbers&bsol;&quot;&gt;35,0&lt;&sol;span&gt;&lt;&sol;span&gt;&quot;,&quot;&lt;span class=&bsol;&quot;formatted&bsol;&quot; title=&bsol;&quot;&bsol;&quot;&gt;&lt;span class=&bsol;&quot;numbers&bsol;&quot;&gt;30,0&lt;&sol;span&gt;&lt;&sol;span&gt;&quot;,&quot;&lt;span class=&bsol;&quot;formatted&bsol;&quot; title=&bsol;&quot;&bsol;&quot;&gt;&lt;span class=&bsol;&quot;numbers&bsol;&quot;&gt;32,0&lt;&sol;span&gt;&lt;&sol;span&gt;&quot;,&quot;&lt;span class=&bsol;&quot;formatted&bsol;&quot; title=&bsol;&quot;&bsol;&quot;&gt;&lt;span class=&bsol;&quot;numbers&bsol;&quot;&gt;31,0&lt;&sol;span&gt;&lt;&sol;span&gt;&quot;,&quot;&lt;span class=&bsol;&quot;formatted&bsol;&quot; title=&bsol;&quot;&bsol;&quot;&gt;&lt;span class=&bsol;&quot;numbers&bsol;&quot;&gt;36,0&lt;&sol;span&gt;&lt;&sol;span&gt;&quot;] }, \n{ name: &quot;&lt;span title=&bsol;&quot;petal_length: Double&bsol;&quot;&gt;petal_length&lt;&sol;span&gt;&quot;, children: [], rightAlign: true, values: [&quot;&lt;span class=&bsol;&quot;formatted&bsol;&quot; title=&bsol;&quot;&bsol;&quot;&gt;&lt;span class=&bsol;&quot;numbers&bsol;&quot;&gt;14,0&lt;&sol;span&gt;&lt;&sol;span&gt;&quot;,&quot;&lt;span class=&bsol;&quot;formatted&bsol;&quot; title=&bsol;&quot;&bsol;&quot;&gt;&lt;span class=&bsol;&quot;numbers&bsol;&quot;&gt;14,0&lt;&sol;span&gt;&lt;&sol;span&gt;&quot;,&quot;&lt;span class=&bsol;&quot;formatted&bsol;&quot; title=&bsol;&quot;&bsol;&quot;&gt;&lt;span class=&bsol;&quot;numbers&bsol;&quot;&gt;13,0&lt;&sol;span&gt;&lt;&sol;span&gt;&quot;,&quot;&lt;span class=&bsol;&quot;formatted&bsol;&quot; title=&bsol;&quot;&bsol;&quot;&gt;&lt;span class=&bsol;&quot;numbers&bsol;&quot;&gt;15,0&lt;&sol;span&gt;&lt;&sol;span&gt;&quot;,&quot;&lt;span class=&bsol;&quot;formatted&bsol;&quot; title=&bsol;&quot;&bsol;&quot;&gt;&lt;span class=&bsol;&quot;numbers&bsol;&quot;&gt;14,0&lt;&sol;span&gt;&lt;&sol;span&gt;&quot;] }, \n{ name: &quot;&lt;span title=&bsol;&quot;petal_width: Double&bsol;&quot;&gt;petal_width&lt;&sol;span&gt;&quot;, children: [], rightAlign: true, values: [&quot;&lt;span class=&bsol;&quot;formatted&bsol;&quot; title=&bsol;&quot;&bsol;&quot;&gt;&lt;span class=&bsol;&quot;numbers&bsol;&quot;&gt;2,0&lt;&sol;span&gt;&lt;&sol;span&gt;&quot;,&quot;&lt;span class=&bsol;&quot;formatted&bsol;&quot; title=&bsol;&quot;&bsol;&quot;&gt;&lt;span class=&bsol;&quot;numbers&bsol;&quot;&gt;2,0&lt;&sol;span&gt;&lt;&sol;span&gt;&quot;,&quot;&lt;span class=&bsol;&quot;formatted&bsol;&quot; title=&bsol;&quot;&bsol;&quot;&gt;&lt;span class=&bsol;&quot;numbers&bsol;&quot;&gt;2,0&lt;&sol;span&gt;&lt;&sol;span&gt;&quot;,&quot;&lt;span class=&bsol;&quot;formatted&bsol;&quot; title=&bsol;&quot;&bsol;&quot;&gt;&lt;span class=&bsol;&quot;numbers&bsol;&quot;&gt;2,0&lt;&sol;span&gt;&lt;&sol;span&gt;&quot;,&quot;&lt;span class=&bsol;&quot;formatted&bsol;&quot; title=&bsol;&quot;&bsol;&quot;&gt;&lt;span class=&bsol;&quot;numbers&bsol;&quot;&gt;2,0&lt;&sol;span&gt;&lt;&sol;span&gt;&quot;] }, \n{ name: &quot;&lt;span title=&bsol;&quot;species: String&bsol;&quot;&gt;species&lt;&sol;span&gt;&quot;, children: [], rightAlign: false, values: [&quot;setosa&quot;,&quot;setosa&quot;,&quot;setosa&quot;,&quot;setosa&quot;,&quot;setosa&quot;] }, \n], id: 218103811, rootId: 218103811, totalRows: 150 } ) });\n&sol;*--&gt;*&sol;\n\ncall_DataFrame(function() { DataFrame.renderTable(218103811) });\n\n\n\n        &lt;&sol;script&gt;\n        &lt;&sol;html&gt;\"></iframe>\n            <script>\n                function o_resize_iframe_out_4() {\n                    let elem = document.getElementById(\"iframe_out_4\");\n                    resize_iframe_out_4(elem);\n                    setInterval(resize_iframe_out_4, 5000, elem);\n                }\n                function resize_iframe_out_4(el) {\n                    let h = el.contentWindow.document.body.scrollHeight;\n                    el.height = h === 0 ? 0 : h + 41;\n                }\n            </script>",
      "application/kotlindataframe+json": "{\"nrow\":150,\"ncol\":5,\"columns\":[\"sepal_length\",\"sepal_width\",\"petal_length\",\"petal_width\",\"species\"],\"kotlin_dataframe\":[{\"sepal_length\":51.0,\"sepal_width\":35.0,\"petal_length\":14.0,\"petal_width\":2.0,\"species\":\"setosa\"},{\"sepal_length\":49.0,\"sepal_width\":30.0,\"petal_length\":14.0,\"petal_width\":2.0,\"species\":\"setosa\"},{\"sepal_length\":47.0,\"sepal_width\":32.0,\"petal_length\":13.0,\"petal_width\":2.0,\"species\":\"setosa\"},{\"sepal_length\":46.0,\"sepal_width\":31.0,\"petal_length\":15.0,\"petal_width\":2.0,\"species\":\"setosa\"},{\"sepal_length\":50.0,\"sepal_width\":36.0,\"petal_length\":14.0,\"petal_width\":2.0,\"species\":\"setosa\"}]}"
     },
     "execution_count": 44,
     "metadata": {},
     "output_type": "execute_result"
    }
   ],
   "metadata": {
    "datalore": {
     "node_id": "CLyrcEqedgvENstZZz5jvs",
     "type": "CODE",
     "hide_input_from_viewers": false,
     "hide_output_from_viewers": false,
     "report_properties": {
      "rowId": "vLaGK0zVboN9YjucQNBCh3",
      "relativeY": 0
     }
    }
   }
  },
  {
   "cell_type": "markdown",
   "source": [
    "Let's now see what's happening there under the hood. First, we enable debugging logging that will print the code that is executed under the hood."
   ],
   "attachments": {},
   "metadata": {
    "datalore": {
     "node_id": "wPpRxEqIwX31bHgh3AIl96",
     "type": "MD",
     "hide_input_from_viewers": false,
     "hide_output_from_viewers": false,
     "report_properties": {
      "rowId": "y5b1B2yOal2h5zFcGiSGLo",
      "relativeY": 0
     }
    }
   }
  },
  {
   "cell_type": "code",
   "source": [
    "%trackExecution"
   ],
   "execution_count": 45,
   "outputs": [],
   "metadata": {
    "datalore": {
     "node_id": "I22xkveHf1SKLgV3K1E8FJ",
     "type": "CODE",
     "hide_input_from_viewers": false,
     "hide_output_from_viewers": false,
     "report_properties": {
      "rowId": "9F10Y9uIWFspoQnww9NthA",
      "relativeY": 0
     }
    }
   }
  },
  {
   "cell_type": "markdown",
   "source": [
    "Then, we define some other dataframe."
   ],
   "attachments": {},
   "metadata": {
    "datalore": {
     "node_id": "D3RCHGCNbyUhx0oRI0dk7V",
     "type": "MD",
     "hide_input_from_viewers": false,
     "hide_output_from_viewers": false,
     "report_properties": {
      "rowId": "eoj7tN0nm493pKybrnojDU",
      "relativeY": 0
     }
    }
   }
  },
  {
   "cell_type": "code",
   "source": [
    "val df1 = dataFrameOf(\"A\", \"B\", \"C\")(1, \"Str1\", null, 2, \"Str2\", 3)"
   ],
   "execution_count": 46,
   "outputs": [
    {
     "name": "stdout",
     "output_type": "stream",
     "text": [
      "Executing:\n",
      "val df1 = dataFrameOf(\"A\", \"B\", \"C\")(1, \"Str1\", null, 2, \"Str2\", 3)\n",
      "\r\n",
      "Executing:\n",
      "@DataSchema\n",
      "interface _DataFrameType1\n",
      "\n",
      "val ColumnsContainer<_DataFrameType1>.A: DataColumn<Int> @JvmName(\"_DataFrameType1_A\") get() = this[\"A\"] as DataColumn<Int>\n",
      "val DataRow<_DataFrameType1>.A: Int @JvmName(\"_DataFrameType1_A\") get() = this[\"A\"] as Int\n",
      "val ColumnsContainer<_DataFrameType1?>.A: DataColumn<Int?> @JvmName(\"Nullable_DataFrameType1_A\") get() = this[\"A\"] as DataColumn<Int?>\n",
      "val DataRow<_DataFrameType1?>.A: Int? @JvmName(\"Nullable_DataFrameType1_A\") get() = this[\"A\"] as Int?\n",
      "val ColumnsContainer<_DataFrameType1>.B: DataColumn<String> @JvmName(\"_DataFrameType1_B\") get() = this[\"B\"] as DataColumn<String>\n",
      "val DataRow<_DataFrameType1>.B: String @JvmName(\"_DataFrameType1_B\") get() = this[\"B\"] as String\n",
      "val ColumnsContainer<_DataFrameType1?>.B: DataColumn<String?> @JvmName(\"Nullable_DataFrameType1_B\") get() = this[\"B\"] as DataColumn<String?>\n",
      "val DataRow<_DataFrameType1?>.B: String? @JvmName(\"Nullable_DataFrameType1_B\") get() = this[\"B\"] as String?\n",
      "val ColumnsContainer<_DataFrameType1>.C: DataColumn<Int?> @JvmName(\"_DataFrameType1_C\") get() = this[\"C\"] as DataColumn<Int?>\n",
      "val DataRow<_DataFrameType1>.C: Int? @JvmName(\"_DataFrameType1_C\") get() = this[\"C\"] as Int?\n",
      "val ColumnsContainer<_DataFrameType1?>.C: DataColumn<Int?> @JvmName(\"Nullable_DataFrameType1_C\") get() = this[\"C\"] as DataColumn<Int?>\n",
      "val DataRow<_DataFrameType1?>.C: Int? @JvmName(\"Nullable_DataFrameType1_C\") get() = this[\"C\"] as Int?\n",
      "df1.cast<_DataFrameType1>()\r\n",
      "Executing:\n",
      "val df1 = res57\r\n"
     ]
    }
   ],
   "metadata": {
    "datalore": {
     "node_id": "cZveotQFHyEnW4SDzayrFG",
     "type": "CODE",
     "hide_input_from_viewers": false,
     "hide_output_from_viewers": false,
     "report_properties": {
      "rowId": "dMhtYA4Mpvzc9kYRAKQWVJ",
      "relativeY": 0
     }
    }
   }
  },
  {
   "cell_type": "markdown",
   "source": [
    "As you can see, a marker interface `_DataFrameType1` is created and property accessors are generated for it. Let's check what's the type of `df1` now:"
   ],
   "attachments": {},
   "metadata": {
    "datalore": {
     "node_id": "MxLTgPl0K5D1KRSDJatpXA",
     "type": "MD",
     "hide_input_from_viewers": false,
     "hide_output_from_viewers": false,
     "report_properties": {
      "rowId": "2LH6BenpGg0nB6kM7l8jfC",
      "relativeY": 0
     }
    }
   }
  },
  {
   "cell_type": "code",
   "source": [
    "::df1"
   ],
   "execution_count": 47,
   "outputs": [
    {
     "name": "stdout",
     "output_type": "stream",
     "text": [
      "Executing:\n",
      "::df1\n",
      "\r\n"
     ]
    },
    {
     "data": {
      "text/plain": "val Line_58_jupyter.df1: org.jetbrains.kotlinx.dataframe.DataFrame<Line_57_jupyter._DataFrameType1>"
     },
     "execution_count": 47,
     "metadata": {},
     "output_type": "execute_result"
    }
   ],
   "metadata": {
    "datalore": {
     "node_id": "neln23KntCGIwXJRU5MbiJ",
     "type": "CODE",
     "hide_input_from_viewers": false,
     "hide_output_from_viewers": false,
     "report_properties": {
      "rowId": "BEIxTRrK7dOl9FB10TDEDR",
      "relativeY": 0
     }
    }
   }
  },
  {
   "cell_type": "markdown",
   "source": [
    "So, `df1` now is not simply a `DataFrame<*>`, it's `DataFrame<_DataFrameType1>`. That's exactly what allows us to statically resolve defined property accessors on it."
   ],
   "attachments": {},
   "metadata": {
    "datalore": {
     "node_id": "nxePxNwjw1HEZGjBQKBanG",
     "type": "MD",
     "hide_input_from_viewers": false,
     "hide_output_from_viewers": false,
     "report_properties": {
      "rowId": "64AppBp8FdqmtVT5Hxdov5",
      "relativeY": 0
     }
    }
   }
  },
  {
   "cell_type": "code",
   "source": [
    "%trackExecution off"
   ],
   "execution_count": 48,
   "outputs": [],
   "metadata": {
    "datalore": {
     "node_id": "2DEBsXBw5AfHO61lvB95VP",
     "type": "CODE",
     "hide_input_from_viewers": false,
     "hide_output_from_viewers": false,
     "report_properties": {
      "rowId": "BsOIw3ZoktEkqtF3nqRdQt",
      "relativeY": 0
     }
    }
   }
  },
  {
   "cell_type": "markdown",
   "source": [
    "API that DataFrame uses to achieve all of these is open, and you can try it yourself! The code of the integration is available [here](https://github.com/Kotlin/dataframe/blob/master/core/src/main/kotlin/org/jetbrains/kotlinx/dataframe/jupyter/Integration.kt)"
   ],
   "attachments": {},
   "metadata": {
    "datalore": {
     "node_id": "ipl66mcDoUM73W3Q0kmzu0",
     "type": "MD",
     "hide_input_from_viewers": false,
     "hide_output_from_viewers": false,
     "report_properties": {
      "rowId": "n8P5lEsEWVxNoihn751mc2",
      "relativeY": 0
     }
    }
   }
  },
  {
   "cell_type": "markdown",
   "source": [
    "## Inter-cell API"
   ],
   "attachments": {},
   "metadata": {
    "datalore": {
     "node_id": "7nc8gaj3lJM2OihB4jQWfj",
     "type": "MD",
     "hide_input_from_viewers": false,
     "hide_output_from_viewers": false,
     "report_properties": {
      "rowId": "0UWfchG5wlkLo6daqOv7p0",
      "relativeY": 0
     }
    }
   }
  },
  {
   "cell_type": "markdown",
   "source": [
    "To use Kotlin Notebook API you don't necessarily need to create a separate file with integration. As it was shown above, you can place in `USE { }` call the same integration that you would\n",
    "place in the standalone library or JSON descriptor. However, notebook offers API to get some information about the current notebook session and to set it up.\n",
    "\n",
    "The main entry point is `notebook`: it allows you to investigate what cells were already executed, what libraries were loaded, what renderers and variable processors are loaded and gives the ability to unload them.\n",
    "Read the documentation of the `Notebook` interface for reliable and actual information about this API"
   ],
   "attachments": {},
   "metadata": {
    "datalore": {
     "node_id": "ZIfwJQVOo0i4Axq2r8SeZV",
     "type": "MD",
     "hide_input_from_viewers": false,
     "hide_output_from_viewers": false,
     "report_properties": {
      "rowId": "1b7DqYhfnclb7TuFbPWfc9",
      "relativeY": 0
     }
    }
   }
  },
  {
   "cell_type": "code",
   "source": [
    "notebook.cellsList.take(5).map { \"> \" + it.code }.joinToString(\"\\n\")"
   ],
   "execution_count": 49,
   "outputs": [
    {
     "data": {
      "text/plain": "> HTML(\"\"\"\n    <p>Counter: <span id=\"ctr\">0</span> <button onclick=\"inc()\">Increment</button></p>\n    <script>\n      function inc() {\n        let counter = document.getElementById(\"ctr\")\n        counter.innerHTML = parseInt(counter.innerHTML) + 1;\n      }\n    </script>\n\"\"\")\n\n> HTML(\"\"\"\n    <p>Counter: <span id=\"ctr\">0</span> <button onclick=\"inc()\">Increment</button></p>\n    <script>\n      function inc() {\n        let counter = document.getElementById(\"ctr\")\n        counter.innerHTML = parseInt(counter.innerHTML) + 1;\n      }\n    </script>\n\"\"\")\n\n> HTML(\"\"\"\n    <p>Counter: <span id=\"ctr\">0</span> <button onclick=\"inc()\">Increment</button></p>\n    <script>\n      function inc() {\n        let counter = document.getElementById(\"ctr\")\n        counter.innerHTML = parseInt(counter.innerHTML) + 1;\n      }\n    </script>\n\"\"\")\n\n> 2 + 2\n\n> val result = 3 * 14\n"
     },
     "execution_count": 49,
     "metadata": {},
     "output_type": "execute_result"
    }
   ],
   "metadata": {
    "datalore": {
     "node_id": "JFxlggFXQzkpCzzCXOXqbF",
     "type": "CODE",
     "hide_input_from_viewers": false,
     "hide_output_from_viewers": false,
     "report_properties": {
      "rowId": "G9KZzJ1kxwauadVqzF0KSa",
      "relativeY": 0
     }
    }
   }
  },
  {
   "cell_type": "code",
   "source": [
    "notebook.kernelVersion"
   ],
   "execution_count": 50,
   "outputs": [
    {
     "data": {
      "text/plain": "0.11.0.381"
     },
     "execution_count": 50,
     "metadata": {},
     "output_type": "execute_result"
    }
   ],
   "metadata": {
    "datalore": {
     "node_id": "rltGJWeQKOgSfKF72pPklX",
     "type": "CODE",
     "hide_input_from_viewers": false,
     "hide_output_from_viewers": false,
     "report_properties": {
      "rowId": "TMOJ6hIVdj5bQUayFvP23A",
      "relativeY": 0
     }
    }
   }
  },
  {
   "cell_type": "code",
   "source": [
    "notebook.cellVariables"
   ],
   "execution_count": 51,
   "outputs": [
    {
     "data": {
      "text/plain": "{0=[], 1=[], 2=[], 3=[], 4=[result], 5=[result], 7=[a1, a3, result], -1=[___a2, a2, kandyConfig, dataFrameConfig, df, df1, height, width], 8=[result, a1, a2], 10=[result, a1, a2], 12=[result, a1, a2], 13=[kotlinMascot, result, a1, a2], 14=[result, a1, a2], 15=[result, a1, a2], 16=[graphics, height, image, width, result, a1, a2], 17=[result, a1, a2, height, width], 18=[result, a1, a2, height, width], 23=[a1, a2, height, width], 24=[a2, height, width], 25=[a2, height, width], 26=[height, width], 27=[experimentData, experimentX, experimentY, gaussPlot, height, width], 28=[height, width], 30=[bob, height, width], 31=[height, width], 32=[height, width], 33=[height, width], 34=[height, width], 35=[height, width], 36=[height, width], 37=[height, width], 39=[height, width], 40=[height, width], 41=[height, width], 42=[height, width], 43=[height, width], 45=[height, width], 46=[height, width], 48=[height, width], 49=[height, width], 50=[height, width]}"
     },
     "execution_count": 51,
     "metadata": {},
     "output_type": "execute_result"
    }
   ],
   "metadata": {
    "datalore": {
     "node_id": "GsIFxXg3S3yaJ8CkMC5gHX",
     "type": "CODE",
     "hide_input_from_viewers": false,
     "hide_output_from_viewers": false,
     "report_properties": {
      "rowId": "qd98RpanRBaHZGfO7xxUJx",
      "relativeY": 0
     }
    }
   }
  },
  {
   "cell_type": "markdown",
   "source": [
    "Also, a couple of options is available with `SessionOptions` object."
   ],
   "attachments": {},
   "metadata": {
    "datalore": {
     "node_id": "TZlN540sU2AYYbEF4Dmh2E",
     "type": "MD",
     "hide_input_from_viewers": false,
     "hide_output_from_viewers": false,
     "report_properties": {
      "rowId": "YmoKTfqE7zsv5iUqG0il8Q",
      "relativeY": 0
     }
    }
   }
  },
  {
   "cell_type": "code",
   "source": [
    "SessionOptions.resolveSources // could be switched off to speed up dependencies loading process"
   ],
   "execution_count": 52,
   "outputs": [
    {
     "data": {
      "text/plain": "true"
     },
     "execution_count": 52,
     "metadata": {},
     "output_type": "execute_result"
    }
   ],
   "metadata": {
    "datalore": {
     "node_id": "J9fPhFE5z20xyzBlXq1gYi",
     "type": "CODE",
     "hide_input_from_viewers": false,
     "hide_output_from_viewers": false,
     "report_properties": {
      "rowId": "HIIoqBoSd9OMXOCRboTc2B",
      "relativeY": 0
     }
    }
   }
  },
  {
   "cell_type": "code",
   "source": [
    "SessionOptions.resolveMpp // could be switched on to resolve MPP libraries such as kotlinx-serialization from \"universal\" Maven coordinates"
   ],
   "execution_count": 53,
   "outputs": [
    {
     "data": {
      "text/plain": "false"
     },
     "execution_count": 53,
     "metadata": {},
     "output_type": "execute_result"
    }
   ],
   "metadata": {
    "datalore": {
     "node_id": "4Q2UcdjHTDQJPJWFzWsyA7",
     "type": "CODE",
     "hide_input_from_viewers": false,
     "hide_output_from_viewers": false,
     "report_properties": {
      "rowId": "IfB2FhNkpg64gT3fdR0H5d",
      "relativeY": 0
     }
    }
   }
  },
  {
   "cell_type": "markdown",
   "source": [
    "## Sharing the notebooks\n",
    "\n",
    "Essentially, Kotlin notebooks are Jupyter notebooks. It means they could be opened, edited and run with any Jupyter client such as [Jupyter Notebook](https://jupyter.org/),\n",
    "[Jupyter Lab](https://jupyterlab.readthedocs.io/en/latest/) and [Datalore](https://www.jetbrains.com/datalore/). [We plan](https://youtrack.jetbrains.com/issue/KTNB-291/Datalore-Share-action) to integrate with Datalore better in the future.\n",
    "The only limitation is that project dependencies will be not included into the notebook in other clients. However, you can build the logic based on Jupyter client type:"
   ],
   "attachments": {},
   "metadata": {
    "datalore": {
     "node_id": "tozb8RgrWXMmZkjjxzep7G",
     "type": "MD",
     "hide_input_from_viewers": false,
     "hide_output_from_viewers": false,
     "report_properties": {
      "rowId": "sJFo7iK8xh55C5bMPchAe8",
      "relativeY": 0
     }
    }
   }
  },
  {
   "cell_type": "code",
   "source": [
    "if (notebook.jupyterClientType != JupyterClientType.KOTLIN_NOTEBOOK) {\n",
    "    // load substitutive dependencies\n",
    "}"
   ],
   "execution_count": 54,
   "outputs": [],
   "metadata": {
    "datalore": {
     "node_id": "MLBUhsaa3c2ZETjI4hTweE",
     "type": "CODE",
     "hide_input_from_viewers": false,
     "hide_output_from_viewers": false,
     "report_properties": {
      "rowId": "aSR5qoRIYfpaYNEGcMLCTe",
      "relativeY": 0
     }
    }
   }
  },
  {
   "cell_type": "markdown",
   "source": [
    "Notebooks could be also loaded and viewed on GitHub (including gists). Limitation there is that JS isn't executed in the outputs.\n",
    "To overcome it in `kandy`, we [add extra SVG output that is hidden from JS](https://github.com/Kotlin/kandy/blob/main/kandy-lets-plot/src/main/kotlin/org/jetbrains/kotlinx/kandy/letsplot/util/rendering.kt#L46).\n",
    "\n",
    "Kotlin Notebooks could be also converted to some other format using [nbconvert tool](https://nbconvert.readthedocs.io/en/latest/)."
   ],
   "attachments": {},
   "metadata": {
    "datalore": {
     "node_id": "fpJjX3Lo3yDoaqlPBllVBH",
     "type": "MD",
     "hide_input_from_viewers": false,
     "hide_output_from_viewers": false,
     "report_properties": {
      "rowId": "zTj8fxfrqOs8S04HHD3bCW",
      "relativeY": 0
     }
    }
   }
  },
  {
   "cell_type": "markdown",
   "source": [
    "## What's next?\n",
    "\n",
    "Kotlin Notebook project is experimental and actively developed. Use the latest version of plugin to be in sync.\n",
    "We eagerly need your stories and feedback: share them in the dedicated [#notebooks](https://kotlinlang.slack.com/archives/C05333T208Y) Slack channel or in our [issue tracker](https://youtrack.jetbrains.com/issues/KTNB).\n",
    "\n",
    "See you in the next cell!"
   ],
   "attachments": {},
   "metadata": {
    "datalore": {
     "node_id": "8olxg8XfRmJOnwLuR6sQJt",
     "type": "MD",
     "hide_input_from_viewers": false,
     "hide_output_from_viewers": false,
     "report_properties": {
      "rowId": "ZaahjvSXF5UR14BCeon8e3",
      "relativeY": 0
     }
    }
   }
  },
  {
   "cell_type": "code",
   "source": [],
   "execution_count": 55,
   "outputs": [],
   "metadata": {
    "datalore": {
     "node_id": "YVqg3PwdHjvjLUpET5C4du",
     "type": "CODE",
     "hide_input_from_viewers": false,
     "hide_output_from_viewers": false,
     "report_properties": {
      "rowId": "jWugVOfHDMKwGIskSQuRsG"
     }
    }
   }
  }
 ],
 "metadata": {
  "kernelspec": {
   "display_name": "Kotlin",
   "language": "kotlin",
   "name": "kotlin"
  },
  "datalore": {
   "computation_mode": "JUPYTER",
   "package_manager": "pip",
   "base_environment": "default",
   "packages": [],
   "report_row_ids": [
    "Jv96UdbhtzrJpZw9UKjCCI",
    "v8aSqctjAGLf4DgBusEXuR",
    "czacce45mHqll6EbhEMWIR",
    "zAABaVehXCDFc2DiLpcro8",
    "pa11RtGeZl2THwb9Mm14g6",
    "kFRWsYUBbj0XdkqUftnb3n",
    "dF3Nqjp3Fkoe64StXtSkLI",
    "ESUJ29FwsDypozkqfJ0OKA",
    "ZiP2Mlf7XwfrWa8BcEkUcP",
    "TUutWdpucWZauJzwiO49AE",
    "tPXmsAgCW2IFm5e0my6wir",
    "2MT1xnpksLdK8Gq5iLtQQq",
    "s55G0rNYcssWygUEzeeruh",
    "BiSSIbCHpPPkU3tRfcmM7V",
    "CQmoVdUMkIogiXksLFXmT5",
    "wgB5pczNIEGLRghjEOW1jL",
    "gzvgUW2xeAYo9KOEFmrYcs",
    "7Rfhyjq9cxpdtuZ5iHtCAB",
    "3BmQhk6zj49EvgryIpS1V0",
    "LC2LLFhU9GIsiWun3mKrLb",
    "iJbdfjlVPbnMjjbwSxcyB8",
    "4caGUudPJrd7ZQvgYl4PIk",
    "DQpIkcuYwvcu3KM2wvSCgs",
    "KMAYkfZDGWXZML8K9HDoXl",
    "QiOww7JjwnAdPZ7VMmYNvh",
    "RqkQp3vNp0LpbDCv7Wn7XR",
    "YZ0KmBADl37AOhEhI7k6lS",
    "ZAFUU17ICmB6ibE1Um3FqU",
    "Nt5GnjQdhGBVRjQPq1OQ7Z",
    "ooSL18Q226YqFbGMSOUzAS",
    "9DGKN6Zg38eQeMy9sm84vK",
    "SQiGYG1tVgqZmxH1pjdM3Z",
    "FX4edpa2OuxvSS6tUZAgZC",
    "6cYh28a4SYKeY5VupdLBqb",
    "oPBpv0gaOWIbCiswU5uOVR",
    "0oirVGcG3b1oNLQRbEmMi2",
    "B3w479R4pOeY1fhHBZyUVm",
    "FXaTl1UpI7OiPPTZPbWFj6",
    "nFZIYWXPxyK67a5fmNNL1m",
    "vMms0sUoJiZi4AGpcQGVei",
    "x11hmnuujA8iq1hT0eraS3",
    "EVwxJSsA9VVQrNJsdSEt6z",
    "Zy8jFj9nhpoeFjPvqhZBWv",
    "goHPOurUm95eESyZjhu4UQ",
    "beaSJ9hSr8KBej3lFQuNoh",
    "BBrQUceQ6kQ5kaRcHPALYK",
    "LVjL4EgT4OOjmTaleOWm2u",
    "jD3XrcFK3HhFTRqqZWPEw2",
    "7gHKvKdmSNad4mZHbMsLhL",
    "FIFVXRJJHcX7GAIA6RNeEb",
    "zYT4yi2Vi5euEBuUIipSom",
    "a3cNMdkXEmykAwNyWv8y1A",
    "RxIfUbuAl0PIGsM2f7WnVY",
    "ur4xKMbkcY0fNZBPWgtDb2",
    "5WdJMkq3JhRrYK2YeuV3mL",
    "17xQzjoqHIQxXL9CNd0cRT",
    "RIzfGoYSiuMMSnHrLznkDI",
    "Zg8nGo3ivgLi4SnW4nefN8",
    "ps93mOYwakebJzQKmpIbsI",
    "elemEtVHO9TlRpRDkLdUG2",
    "F9T8BHoaYVvjk3N4NjzJdF",
    "9y9bEhL7Ou0jVTIYVelrlf",
    "wNXel6XqUFTOfHutUCg9bS",
    "sxZ027opxTtSv7zSAatEra",
    "XQaKAPhaun1kXhJwN5XhRe",
    "YgXKxrto2mEG7mHILHtnCl",
    "McZUgi5JF0y9XfhXKtJhew",
    "241x5BVpCYc4HtAqqg0h9t",
    "xFAglDJWidcFI2TQdbYjd0",
    "0EYlIsyGvjtd350etFzHGK",
    "reafldOSgt4kb4mEVSQ6n4",
    "qCEyukDdjnJYHytebGaxRz",
    "vLaGK0zVboN9YjucQNBCh3",
    "y5b1B2yOal2h5zFcGiSGLo",
    "9F10Y9uIWFspoQnww9NthA",
    "eoj7tN0nm493pKybrnojDU",
    "dMhtYA4Mpvzc9kYRAKQWVJ",
    "2LH6BenpGg0nB6kM7l8jfC",
    "BEIxTRrK7dOl9FB10TDEDR",
    "64AppBp8FdqmtVT5Hxdov5",
    "BsOIw3ZoktEkqtF3nqRdQt",
    "n8P5lEsEWVxNoihn751mc2",
    "0UWfchG5wlkLo6daqOv7p0",
    "1b7DqYhfnclb7TuFbPWfc9",
    "G9KZzJ1kxwauadVqzF0KSa",
    "TMOJ6hIVdj5bQUayFvP23A",
    "qd98RpanRBaHZGfO7xxUJx",
    "YmoKTfqE7zsv5iUqG0il8Q",
    "HIIoqBoSd9OMXOCRboTc2B",
    "IfB2FhNkpg64gT3fdR0H5d",
    "sJFo7iK8xh55C5bMPchAe8",
    "aSR5qoRIYfpaYNEGcMLCTe",
    "zTj8fxfrqOs8S04HHD3bCW",
    "ZaahjvSXF5UR14BCeon8e3"
   ],
   "version": 3
  }
 },
 "nbformat": 4,
 "nbformat_minor": 4
}
